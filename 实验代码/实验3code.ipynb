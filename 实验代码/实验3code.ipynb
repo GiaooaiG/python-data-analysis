{
 "cells": [
  {
   "cell_type": "code",
   "execution_count": 81,
   "id": "2780b6eb",
   "metadata": {},
   "outputs": [],
   "source": [
    "from IPython.core.interactiveshell import InteractiveShell  #执行该代码可以使得当前nb支持多输出\n",
    "InteractiveShell.ast_node_interactivity = \"all\" \n",
    "import numpy as np\n",
    "import pandas as pd \n",
    "pd.options.display.max_rows = 8  \n",
    "import requests\n",
    "import parsel\n",
    "import warnings\n",
    "import csv\n",
    "import random\n",
    "import matplotlib.pyplot as plt\n",
    "from scipy import stats\n",
    "%matplotlib notebook\n",
    "plt.rc('figure',figsize=(11,130))\n",
    "plt.rcParams['font.sans-serif'] = ['SimHei']   # 解决图表中无法显示中文的问题\n",
    "#忽略警告\n",
    "warnings.filterwarnings(\"ignore\")"
   ]
  },
  {
   "cell_type": "code",
   "execution_count": 82,
   "id": "7718eab9",
   "metadata": {},
   "outputs": [
    {
     "data": {
      "text/html": [
       "<div>\n",
       "<style scoped>\n",
       "    .dataframe tbody tr th:only-of-type {\n",
       "        vertical-align: middle;\n",
       "    }\n",
       "\n",
       "    .dataframe tbody tr th {\n",
       "        vertical-align: top;\n",
       "    }\n",
       "\n",
       "    .dataframe thead th {\n",
       "        text-align: right;\n",
       "    }\n",
       "</style>\n",
       "<table border=\"1\" class=\"dataframe\">\n",
       "  <thead>\n",
       "    <tr style=\"text-align: right;\">\n",
       "      <th></th>\n",
       "      <th>3-14地区生产总值和指数</th>\n",
       "      <th>Unnamed: 1</th>\n",
       "      <th>Unnamed: 2</th>\n",
       "      <th>Unnamed: 3</th>\n",
       "      <th>Unnamed: 4</th>\n",
       "      <th>Unnamed: 5</th>\n",
       "      <th>Unnamed: 6</th>\n",
       "      <th>Unnamed: 7</th>\n",
       "      <th>Unnamed: 8</th>\n",
       "      <th>Unnamed: 9</th>\n",
       "      <th>Unnamed: 10</th>\n",
       "      <th>Unnamed: 11</th>\n",
       "    </tr>\n",
       "  </thead>\n",
       "  <tbody>\n",
       "    <tr>\n",
       "      <th>0</th>\n",
       "      <td>Gross Regional Product and Indices</td>\n",
       "      <td>NaN</td>\n",
       "      <td>NaN</td>\n",
       "      <td>NaN</td>\n",
       "      <td>NaN</td>\n",
       "      <td>NaN</td>\n",
       "      <td>NaN</td>\n",
       "      <td>NaN</td>\n",
       "      <td>NaN</td>\n",
       "      <td>NaN</td>\n",
       "      <td>NaN</td>\n",
       "      <td>NaN</td>\n",
       "    </tr>\n",
       "    <tr>\n",
       "      <th>1</th>\n",
       "      <td>本表绝对数按当年价格计算，指数按不变价格计算</td>\n",
       "      <td>NaN</td>\n",
       "      <td>NaN</td>\n",
       "      <td>NaN</td>\n",
       "      <td>NaN</td>\n",
       "      <td>NaN</td>\n",
       "      <td>NaN</td>\n",
       "      <td>NaN</td>\n",
       "      <td>NaN</td>\n",
       "      <td>NaN</td>\n",
       "      <td>NaN</td>\n",
       "      <td>NaN</td>\n",
       "    </tr>\n",
       "    <tr>\n",
       "      <th>2</th>\n",
       "      <td>Level data in this table are calculated at cur...</td>\n",
       "      <td>NaN</td>\n",
       "      <td>NaN</td>\n",
       "      <td>NaN</td>\n",
       "      <td>NaN</td>\n",
       "      <td>NaN</td>\n",
       "      <td>NaN</td>\n",
       "      <td>NaN</td>\n",
       "      <td>NaN</td>\n",
       "      <td>NaN</td>\n",
       "      <td>NaN</td>\n",
       "      <td>NaN</td>\n",
       "    </tr>\n",
       "    <tr>\n",
       "      <th>3</th>\n",
       "      <td>地区</td>\n",
       "      <td>Region</td>\n",
       "      <td>地区生产总值(亿元)\\r\\nGross Regional Product(100 milli...</td>\n",
       "      <td>NaN</td>\n",
       "      <td>NaN</td>\n",
       "      <td>NaN</td>\n",
       "      <td>NaN</td>\n",
       "      <td>指数(上年=100)\\r\\nIndices(preceding year=100)</td>\n",
       "      <td>NaN</td>\n",
       "      <td>NaN</td>\n",
       "      <td>NaN</td>\n",
       "      <td>NaN</td>\n",
       "    </tr>\n",
       "    <tr>\n",
       "      <th>...</th>\n",
       "      <td>...</td>\n",
       "      <td>...</td>\n",
       "      <td>...</td>\n",
       "      <td>...</td>\n",
       "      <td>...</td>\n",
       "      <td>...</td>\n",
       "      <td>...</td>\n",
       "      <td>...</td>\n",
       "      <td>...</td>\n",
       "      <td>...</td>\n",
       "      <td>...</td>\n",
       "      <td>...</td>\n",
       "    </tr>\n",
       "    <tr>\n",
       "      <th>32</th>\n",
       "      <td>甘肃</td>\n",
       "      <td>Gansu</td>\n",
       "      <td>3387.56</td>\n",
       "      <td>4120.75</td>\n",
       "      <td>5020.37</td>\n",
       "      <td>5650.20</td>\n",
       "      <td>6268.01</td>\n",
       "      <td>110.3</td>\n",
       "      <td>111.8</td>\n",
       "      <td>112.5</td>\n",
       "      <td>112.6</td>\n",
       "      <td>110.8</td>\n",
       "    </tr>\n",
       "    <tr>\n",
       "      <th>33</th>\n",
       "      <td>青海</td>\n",
       "      <td>Qinghai</td>\n",
       "      <td>1081.27</td>\n",
       "      <td>1350.43</td>\n",
       "      <td>1670.44</td>\n",
       "      <td>1893.54</td>\n",
       "      <td>2101.05</td>\n",
       "      <td>110.1</td>\n",
       "      <td>115.3</td>\n",
       "      <td>113.5</td>\n",
       "      <td>112.3</td>\n",
       "      <td>110.8</td>\n",
       "    </tr>\n",
       "    <tr>\n",
       "      <th>34</th>\n",
       "      <td>宁夏</td>\n",
       "      <td>Ningxia</td>\n",
       "      <td>1353.31</td>\n",
       "      <td>1689.65</td>\n",
       "      <td>2102.21</td>\n",
       "      <td>2341.29</td>\n",
       "      <td>2565.06</td>\n",
       "      <td>111.9</td>\n",
       "      <td>113.5</td>\n",
       "      <td>112.1</td>\n",
       "      <td>111.5</td>\n",
       "      <td>109.8</td>\n",
       "    </tr>\n",
       "    <tr>\n",
       "      <th>35</th>\n",
       "      <td>新疆</td>\n",
       "      <td>Xinjiang</td>\n",
       "      <td>4277.05</td>\n",
       "      <td>5437.47</td>\n",
       "      <td>6610.05</td>\n",
       "      <td>7505.31</td>\n",
       "      <td>8360.24</td>\n",
       "      <td>108.1</td>\n",
       "      <td>110.6</td>\n",
       "      <td>112.0</td>\n",
       "      <td>112.0</td>\n",
       "      <td>111.0</td>\n",
       "    </tr>\n",
       "  </tbody>\n",
       "</table>\n",
       "<p>36 rows × 12 columns</p>\n",
       "</div>"
      ],
      "text/plain": [
       "                                        3-14地区生产总值和指数 Unnamed: 1  \\\n",
       "0                  Gross Regional Product and Indices        NaN   \n",
       "1                              本表绝对数按当年价格计算，指数按不变价格计算        NaN   \n",
       "2   Level data in this table are calculated at cur...        NaN   \n",
       "3                                                  地区     Region   \n",
       "..                                                ...        ...   \n",
       "32                                                 甘肃      Gansu   \n",
       "33                                                 青海    Qinghai   \n",
       "34                                                 宁夏    Ningxia   \n",
       "35                                                 新疆   Xinjiang   \n",
       "\n",
       "                                           Unnamed: 2  Unnamed: 3  Unnamed: 4  \\\n",
       "0                                                 NaN         NaN         NaN   \n",
       "1                                                 NaN         NaN         NaN   \n",
       "2                                                 NaN         NaN         NaN   \n",
       "3   地区生产总值(亿元)\\r\\nGross Regional Product(100 milli...         NaN         NaN   \n",
       "..                                                ...         ...         ...   \n",
       "32                                            3387.56     4120.75     5020.37   \n",
       "33                                            1081.27     1350.43     1670.44   \n",
       "34                                            1353.31     1689.65     2102.21   \n",
       "35                                            4277.05     5437.47     6610.05   \n",
       "\n",
       "    Unnamed: 5  Unnamed: 6                                 Unnamed: 7  \\\n",
       "0          NaN         NaN                                        NaN   \n",
       "1          NaN         NaN                                        NaN   \n",
       "2          NaN         NaN                                        NaN   \n",
       "3          NaN         NaN  指数(上年=100)\\r\\nIndices(preceding year=100)   \n",
       "..         ...         ...                                        ...   \n",
       "32     5650.20     6268.01                                      110.3   \n",
       "33     1893.54     2101.05                                      110.1   \n",
       "34     2341.29     2565.06                                      111.9   \n",
       "35     7505.31     8360.24                                      108.1   \n",
       "\n",
       "    Unnamed: 8  Unnamed: 9  Unnamed: 10  Unnamed: 11  \n",
       "0          NaN         NaN          NaN          NaN  \n",
       "1          NaN         NaN          NaN          NaN  \n",
       "2          NaN         NaN          NaN          NaN  \n",
       "3          NaN         NaN          NaN          NaN  \n",
       "..         ...         ...          ...          ...  \n",
       "32       111.8       112.5        112.6        110.8  \n",
       "33       115.3       113.5        112.3        110.8  \n",
       "34       113.5       112.1        111.5        109.8  \n",
       "35       110.6       112.0        112.0        111.0  \n",
       "\n",
       "[36 rows x 12 columns]"
      ]
     },
     "execution_count": 82,
     "metadata": {},
     "output_type": "execute_result"
    }
   ],
   "source": [
    "file = \"../实验三数据/GDP/2009-2013地区生产总值.xls\"\n",
    "df1 = pd.read_excel(file)\n",
    "df1"
   ]
  },
  {
   "cell_type": "code",
   "execution_count": 83,
   "id": "becb0b4a",
   "metadata": {},
   "outputs": [
    {
     "data": {
      "text/html": [
       "<div>\n",
       "<style scoped>\n",
       "    .dataframe tbody tr th:only-of-type {\n",
       "        vertical-align: middle;\n",
       "    }\n",
       "\n",
       "    .dataframe tbody tr th {\n",
       "        vertical-align: top;\n",
       "    }\n",
       "\n",
       "    .dataframe thead th {\n",
       "        text-align: right;\n",
       "    }\n",
       "</style>\n",
       "<table border=\"1\" class=\"dataframe\">\n",
       "  <thead>\n",
       "    <tr style=\"text-align: right;\">\n",
       "      <th></th>\n",
       "      <th>2009</th>\n",
       "      <th>2010</th>\n",
       "      <th>2011</th>\n",
       "      <th>2012</th>\n",
       "      <th>2013</th>\n",
       "    </tr>\n",
       "    <tr>\n",
       "      <th>地区</th>\n",
       "      <th></th>\n",
       "      <th></th>\n",
       "      <th></th>\n",
       "      <th></th>\n",
       "      <th></th>\n",
       "    </tr>\n",
       "  </thead>\n",
       "  <tbody>\n",
       "    <tr>\n",
       "      <th>北京</th>\n",
       "      <td>12153.03</td>\n",
       "      <td>14113.58</td>\n",
       "      <td>16251.93</td>\n",
       "      <td>17879.40</td>\n",
       "      <td>19500.56</td>\n",
       "    </tr>\n",
       "    <tr>\n",
       "      <th>天津</th>\n",
       "      <td>7521.85</td>\n",
       "      <td>9224.46</td>\n",
       "      <td>11307.28</td>\n",
       "      <td>12893.88</td>\n",
       "      <td>14370.16</td>\n",
       "    </tr>\n",
       "    <tr>\n",
       "      <th>河北</th>\n",
       "      <td>17235.48</td>\n",
       "      <td>20394.26</td>\n",
       "      <td>24515.76</td>\n",
       "      <td>26575.01</td>\n",
       "      <td>28301.41</td>\n",
       "    </tr>\n",
       "    <tr>\n",
       "      <th>山西</th>\n",
       "      <td>7358.31</td>\n",
       "      <td>9200.86</td>\n",
       "      <td>11237.55</td>\n",
       "      <td>12112.83</td>\n",
       "      <td>12602.24</td>\n",
       "    </tr>\n",
       "    <tr>\n",
       "      <th>...</th>\n",
       "      <td>...</td>\n",
       "      <td>...</td>\n",
       "      <td>...</td>\n",
       "      <td>...</td>\n",
       "      <td>...</td>\n",
       "    </tr>\n",
       "    <tr>\n",
       "      <th>甘肃</th>\n",
       "      <td>3387.56</td>\n",
       "      <td>4120.75</td>\n",
       "      <td>5020.37</td>\n",
       "      <td>5650.20</td>\n",
       "      <td>6268.01</td>\n",
       "    </tr>\n",
       "    <tr>\n",
       "      <th>青海</th>\n",
       "      <td>1081.27</td>\n",
       "      <td>1350.43</td>\n",
       "      <td>1670.44</td>\n",
       "      <td>1893.54</td>\n",
       "      <td>2101.05</td>\n",
       "    </tr>\n",
       "    <tr>\n",
       "      <th>宁夏</th>\n",
       "      <td>1353.31</td>\n",
       "      <td>1689.65</td>\n",
       "      <td>2102.21</td>\n",
       "      <td>2341.29</td>\n",
       "      <td>2565.06</td>\n",
       "    </tr>\n",
       "    <tr>\n",
       "      <th>新疆</th>\n",
       "      <td>4277.05</td>\n",
       "      <td>5437.47</td>\n",
       "      <td>6610.05</td>\n",
       "      <td>7505.31</td>\n",
       "      <td>8360.24</td>\n",
       "    </tr>\n",
       "  </tbody>\n",
       "</table>\n",
       "<p>31 rows × 5 columns</p>\n",
       "</div>"
      ],
      "text/plain": [
       "        2009      2010      2011      2012      2013\n",
       "地区                                                  \n",
       "北京  12153.03  14113.58  16251.93  17879.40  19500.56\n",
       "天津   7521.85   9224.46  11307.28  12893.88  14370.16\n",
       "河北  17235.48  20394.26  24515.76  26575.01  28301.41\n",
       "山西   7358.31   9200.86  11237.55  12112.83  12602.24\n",
       "..       ...       ...       ...       ...       ...\n",
       "甘肃   3387.56   4120.75   5020.37   5650.20   6268.01\n",
       "青海   1081.27   1350.43   1670.44   1893.54   2101.05\n",
       "宁夏   1353.31   1689.65   2102.21   2341.29   2565.06\n",
       "新疆   4277.05   5437.47   6610.05   7505.31   8360.24\n",
       "\n",
       "[31 rows x 5 columns]"
      ]
     },
     "execution_count": 83,
     "metadata": {},
     "output_type": "execute_result"
    }
   ],
   "source": [
    "df1 = df1.iloc[5:,[0,2,3,4,5,6]]\n",
    "df1.columns = [\"地区\",'2009','2010','2011','2012','2013']\n",
    "df1.set_index(\"地区\")"
   ]
  },
  {
   "cell_type": "code",
   "execution_count": 84,
   "id": "bf25a58d",
   "metadata": {},
   "outputs": [
    {
     "data": {
      "text/html": [
       "<div>\n",
       "<style scoped>\n",
       "    .dataframe tbody tr th:only-of-type {\n",
       "        vertical-align: middle;\n",
       "    }\n",
       "\n",
       "    .dataframe tbody tr th {\n",
       "        vertical-align: top;\n",
       "    }\n",
       "\n",
       "    .dataframe thead th {\n",
       "        text-align: right;\n",
       "    }\n",
       "</style>\n",
       "<table border=\"1\" class=\"dataframe\">\n",
       "  <thead>\n",
       "    <tr style=\"text-align: right;\">\n",
       "      <th></th>\n",
       "      <th>2014</th>\n",
       "    </tr>\n",
       "    <tr>\n",
       "      <th>地区</th>\n",
       "      <th></th>\n",
       "    </tr>\n",
       "  </thead>\n",
       "  <tbody>\n",
       "    <tr>\n",
       "      <th>北京</th>\n",
       "      <td>21330.8</td>\n",
       "    </tr>\n",
       "    <tr>\n",
       "      <th>天津</th>\n",
       "      <td>15727.0</td>\n",
       "    </tr>\n",
       "    <tr>\n",
       "      <th>河北</th>\n",
       "      <td>29421.2</td>\n",
       "    </tr>\n",
       "    <tr>\n",
       "      <th>山西</th>\n",
       "      <td>12761.5</td>\n",
       "    </tr>\n",
       "    <tr>\n",
       "      <th>...</th>\n",
       "      <td>...</td>\n",
       "    </tr>\n",
       "    <tr>\n",
       "      <th>甘肃</th>\n",
       "      <td>6836.8</td>\n",
       "    </tr>\n",
       "    <tr>\n",
       "      <th>青海</th>\n",
       "      <td>2303.3</td>\n",
       "    </tr>\n",
       "    <tr>\n",
       "      <th>宁夏</th>\n",
       "      <td>2752.1</td>\n",
       "    </tr>\n",
       "    <tr>\n",
       "      <th>新疆</th>\n",
       "      <td>9273.5</td>\n",
       "    </tr>\n",
       "  </tbody>\n",
       "</table>\n",
       "<p>31 rows × 1 columns</p>\n",
       "</div>"
      ],
      "text/plain": [
       "       2014\n",
       "地区         \n",
       "北京  21330.8\n",
       "天津  15727.0\n",
       "河北  29421.2\n",
       "山西  12761.5\n",
       "..      ...\n",
       "甘肃   6836.8\n",
       "青海   2303.3\n",
       "宁夏   2752.1\n",
       "新疆   9273.5\n",
       "\n",
       "[31 rows x 1 columns]"
      ]
     },
     "execution_count": 84,
     "metadata": {},
     "output_type": "execute_result"
    },
    {
     "data": {
      "text/html": [
       "<div>\n",
       "<style scoped>\n",
       "    .dataframe tbody tr th:only-of-type {\n",
       "        vertical-align: middle;\n",
       "    }\n",
       "\n",
       "    .dataframe tbody tr th {\n",
       "        vertical-align: top;\n",
       "    }\n",
       "\n",
       "    .dataframe thead th {\n",
       "        text-align: right;\n",
       "    }\n",
       "</style>\n",
       "<table border=\"1\" class=\"dataframe\">\n",
       "  <thead>\n",
       "    <tr style=\"text-align: right;\">\n",
       "      <th></th>\n",
       "      <th>2014</th>\n",
       "      <th>2015</th>\n",
       "      <th>2016</th>\n",
       "      <th>2017</th>\n",
       "    </tr>\n",
       "    <tr>\n",
       "      <th>地区</th>\n",
       "      <th></th>\n",
       "      <th></th>\n",
       "      <th></th>\n",
       "      <th></th>\n",
       "    </tr>\n",
       "  </thead>\n",
       "  <tbody>\n",
       "    <tr>\n",
       "      <th>北京</th>\n",
       "      <td>21330.8</td>\n",
       "      <td>23014.6</td>\n",
       "      <td>25669.1</td>\n",
       "      <td>28014.9</td>\n",
       "    </tr>\n",
       "    <tr>\n",
       "      <th>天津</th>\n",
       "      <td>15727.0</td>\n",
       "      <td>16538.2</td>\n",
       "      <td>17885.4</td>\n",
       "      <td>18549.2</td>\n",
       "    </tr>\n",
       "    <tr>\n",
       "      <th>河北</th>\n",
       "      <td>29421.2</td>\n",
       "      <td>29806.4</td>\n",
       "      <td>32070.5</td>\n",
       "      <td>34016.3</td>\n",
       "    </tr>\n",
       "    <tr>\n",
       "      <th>山西</th>\n",
       "      <td>12761.5</td>\n",
       "      <td>12766.5</td>\n",
       "      <td>13055.6</td>\n",
       "      <td>15528.4</td>\n",
       "    </tr>\n",
       "    <tr>\n",
       "      <th>...</th>\n",
       "      <td>...</td>\n",
       "      <td>...</td>\n",
       "      <td>...</td>\n",
       "      <td>...</td>\n",
       "    </tr>\n",
       "    <tr>\n",
       "      <th>甘肃</th>\n",
       "      <td>6836.8</td>\n",
       "      <td>6790.3</td>\n",
       "      <td>7200.4</td>\n",
       "      <td>7459.9</td>\n",
       "    </tr>\n",
       "    <tr>\n",
       "      <th>青海</th>\n",
       "      <td>2303.3</td>\n",
       "      <td>2417.1</td>\n",
       "      <td>2572.5</td>\n",
       "      <td>2624.8</td>\n",
       "    </tr>\n",
       "    <tr>\n",
       "      <th>宁夏</th>\n",
       "      <td>2752.1</td>\n",
       "      <td>2911.8</td>\n",
       "      <td>3168.6</td>\n",
       "      <td>3443.6</td>\n",
       "    </tr>\n",
       "    <tr>\n",
       "      <th>新疆</th>\n",
       "      <td>9273.5</td>\n",
       "      <td>9324.8</td>\n",
       "      <td>9649.7</td>\n",
       "      <td>10882.0</td>\n",
       "    </tr>\n",
       "  </tbody>\n",
       "</table>\n",
       "<p>31 rows × 4 columns</p>\n",
       "</div>"
      ],
      "text/plain": [
       "       2014     2015     2016     2017\n",
       "地区                                    \n",
       "北京  21330.8  23014.6  25669.1  28014.9\n",
       "天津  15727.0  16538.2  17885.4  18549.2\n",
       "河北  29421.2  29806.4  32070.5  34016.3\n",
       "山西  12761.5  12766.5  13055.6  15528.4\n",
       "..      ...      ...      ...      ...\n",
       "甘肃   6836.8   6790.3   7200.4   7459.9\n",
       "青海   2303.3   2417.1   2572.5   2624.8\n",
       "宁夏   2752.1   2911.8   3168.6   3443.6\n",
       "新疆   9273.5   9324.8   9649.7  10882.0\n",
       "\n",
       "[31 rows x 4 columns]"
      ]
     },
     "execution_count": 84,
     "metadata": {},
     "output_type": "execute_result"
    }
   ],
   "source": [
    "df2 = pd.read_excel(f\"../实验三数据/GDP/2014各地区生产总值.xls\")\n",
    "df2 = df2.iloc[5:,[0,2]]\n",
    "df2.columns = [\"地区\",'2014']\n",
    "df2.set_index(\"地区\")\n",
    "\n",
    "for year in range(2015,2018):\n",
    "    file_year = f\"../实验三数据/GDP/{year}各地区生产总值.xls\"\n",
    "    data = pd.read_excel(file_year)\n",
    "    data = data.iloc[5:,[0,2]]\n",
    "    data.columns = [\"地区\",str(year)]\n",
    "#     df2.set_index(\"地区\")\n",
    "    df2[str(year)] = data[str(year)]\n",
    "df2.set_index(\"地区\")\n"
   ]
  },
  {
   "cell_type": "code",
   "execution_count": 85,
   "id": "c63a6d20",
   "metadata": {},
   "outputs": [
    {
     "data": {
      "text/html": [
       "<div>\n",
       "<style scoped>\n",
       "    .dataframe tbody tr th:only-of-type {\n",
       "        vertical-align: middle;\n",
       "    }\n",
       "\n",
       "    .dataframe tbody tr th {\n",
       "        vertical-align: top;\n",
       "    }\n",
       "\n",
       "    .dataframe thead th {\n",
       "        text-align: right;\n",
       "    }\n",
       "</style>\n",
       "<table border=\"1\" class=\"dataframe\">\n",
       "  <thead>\n",
       "    <tr style=\"text-align: right;\">\n",
       "      <th></th>\n",
       "      <th>2018</th>\n",
       "    </tr>\n",
       "    <tr>\n",
       "      <th>地区</th>\n",
       "      <th></th>\n",
       "    </tr>\n",
       "  </thead>\n",
       "  <tbody>\n",
       "    <tr>\n",
       "      <th>北 京</th>\n",
       "      <td>30319.98</td>\n",
       "    </tr>\n",
       "    <tr>\n",
       "      <th>天 津</th>\n",
       "      <td>18809.64</td>\n",
       "    </tr>\n",
       "    <tr>\n",
       "      <th>河 北</th>\n",
       "      <td>36010.27</td>\n",
       "    </tr>\n",
       "    <tr>\n",
       "      <th>山 西</th>\n",
       "      <td>16818.11</td>\n",
       "    </tr>\n",
       "    <tr>\n",
       "      <th>...</th>\n",
       "      <td>...</td>\n",
       "    </tr>\n",
       "    <tr>\n",
       "      <th>甘 肃</th>\n",
       "      <td>8246.07</td>\n",
       "    </tr>\n",
       "    <tr>\n",
       "      <th>青 海</th>\n",
       "      <td>2865.23</td>\n",
       "    </tr>\n",
       "    <tr>\n",
       "      <th>宁 夏</th>\n",
       "      <td>3705.18</td>\n",
       "    </tr>\n",
       "    <tr>\n",
       "      <th>新 疆</th>\n",
       "      <td>12199.08</td>\n",
       "    </tr>\n",
       "  </tbody>\n",
       "</table>\n",
       "<p>31 rows × 1 columns</p>\n",
       "</div>"
      ],
      "text/plain": [
       "         2018\n",
       "地区           \n",
       "北 京  30319.98\n",
       "天 津  18809.64\n",
       "河 北  36010.27\n",
       "山 西  16818.11\n",
       "..        ...\n",
       "甘 肃   8246.07\n",
       "青 海   2865.23\n",
       "宁 夏   3705.18\n",
       "新 疆  12199.08\n",
       "\n",
       "[31 rows x 1 columns]"
      ]
     },
     "execution_count": 85,
     "metadata": {},
     "output_type": "execute_result"
    }
   ],
   "source": [
    "file2 = \"../实验三数据/GDP/2018各地区生产总值.xls\"\n",
    "df3 = pd.read_excel(file2)\n",
    "df3 = df3.iloc[8:-3,[0,2]]\n",
    "df3.columns = [\"地区\",\"2018\"]\n",
    "df3.set_index(\"地区\")"
   ]
  },
  {
   "cell_type": "code",
   "execution_count": 86,
   "id": "3719b5a8",
   "metadata": {},
   "outputs": [
    {
     "data": {
      "text/html": [
       "<div>\n",
       "<style scoped>\n",
       "    .dataframe tbody tr th:only-of-type {\n",
       "        vertical-align: middle;\n",
       "    }\n",
       "\n",
       "    .dataframe tbody tr th {\n",
       "        vertical-align: top;\n",
       "    }\n",
       "\n",
       "    .dataframe thead th {\n",
       "        text-align: right;\n",
       "    }\n",
       "</style>\n",
       "<table border=\"1\" class=\"dataframe\">\n",
       "  <thead>\n",
       "    <tr style=\"text-align: right;\">\n",
       "      <th></th>\n",
       "      <th>地区</th>\n",
       "      <th>2009</th>\n",
       "      <th>2010</th>\n",
       "      <th>2011</th>\n",
       "      <th>2012</th>\n",
       "      <th>2013</th>\n",
       "      <th>2014</th>\n",
       "      <th>2015</th>\n",
       "      <th>2016</th>\n",
       "      <th>2017</th>\n",
       "    </tr>\n",
       "  </thead>\n",
       "  <tbody>\n",
       "    <tr>\n",
       "      <th>0</th>\n",
       "      <td>北京</td>\n",
       "      <td>12153.03</td>\n",
       "      <td>14113.58</td>\n",
       "      <td>16251.93</td>\n",
       "      <td>17879.40</td>\n",
       "      <td>19500.56</td>\n",
       "      <td>21330.8</td>\n",
       "      <td>23014.6</td>\n",
       "      <td>25669.1</td>\n",
       "      <td>28014.9</td>\n",
       "    </tr>\n",
       "    <tr>\n",
       "      <th>1</th>\n",
       "      <td>天津</td>\n",
       "      <td>7521.85</td>\n",
       "      <td>9224.46</td>\n",
       "      <td>11307.28</td>\n",
       "      <td>12893.88</td>\n",
       "      <td>14370.16</td>\n",
       "      <td>15727.0</td>\n",
       "      <td>16538.2</td>\n",
       "      <td>17885.4</td>\n",
       "      <td>18549.2</td>\n",
       "    </tr>\n",
       "    <tr>\n",
       "      <th>2</th>\n",
       "      <td>河北</td>\n",
       "      <td>17235.48</td>\n",
       "      <td>20394.26</td>\n",
       "      <td>24515.76</td>\n",
       "      <td>26575.01</td>\n",
       "      <td>28301.41</td>\n",
       "      <td>29421.2</td>\n",
       "      <td>29806.4</td>\n",
       "      <td>32070.5</td>\n",
       "      <td>34016.3</td>\n",
       "    </tr>\n",
       "    <tr>\n",
       "      <th>3</th>\n",
       "      <td>山西</td>\n",
       "      <td>7358.31</td>\n",
       "      <td>9200.86</td>\n",
       "      <td>11237.55</td>\n",
       "      <td>12112.83</td>\n",
       "      <td>12602.24</td>\n",
       "      <td>12761.5</td>\n",
       "      <td>12766.5</td>\n",
       "      <td>13055.6</td>\n",
       "      <td>15528.4</td>\n",
       "    </tr>\n",
       "    <tr>\n",
       "      <th>...</th>\n",
       "      <td>...</td>\n",
       "      <td>...</td>\n",
       "      <td>...</td>\n",
       "      <td>...</td>\n",
       "      <td>...</td>\n",
       "      <td>...</td>\n",
       "      <td>...</td>\n",
       "      <td>...</td>\n",
       "      <td>...</td>\n",
       "      <td>...</td>\n",
       "    </tr>\n",
       "    <tr>\n",
       "      <th>27</th>\n",
       "      <td>甘肃</td>\n",
       "      <td>3387.56</td>\n",
       "      <td>4120.75</td>\n",
       "      <td>5020.37</td>\n",
       "      <td>5650.20</td>\n",
       "      <td>6268.01</td>\n",
       "      <td>6836.8</td>\n",
       "      <td>6790.3</td>\n",
       "      <td>7200.4</td>\n",
       "      <td>7459.9</td>\n",
       "    </tr>\n",
       "    <tr>\n",
       "      <th>28</th>\n",
       "      <td>青海</td>\n",
       "      <td>1081.27</td>\n",
       "      <td>1350.43</td>\n",
       "      <td>1670.44</td>\n",
       "      <td>1893.54</td>\n",
       "      <td>2101.05</td>\n",
       "      <td>2303.3</td>\n",
       "      <td>2417.1</td>\n",
       "      <td>2572.5</td>\n",
       "      <td>2624.8</td>\n",
       "    </tr>\n",
       "    <tr>\n",
       "      <th>29</th>\n",
       "      <td>宁夏</td>\n",
       "      <td>1353.31</td>\n",
       "      <td>1689.65</td>\n",
       "      <td>2102.21</td>\n",
       "      <td>2341.29</td>\n",
       "      <td>2565.06</td>\n",
       "      <td>2752.1</td>\n",
       "      <td>2911.8</td>\n",
       "      <td>3168.6</td>\n",
       "      <td>3443.6</td>\n",
       "    </tr>\n",
       "    <tr>\n",
       "      <th>30</th>\n",
       "      <td>新疆</td>\n",
       "      <td>4277.05</td>\n",
       "      <td>5437.47</td>\n",
       "      <td>6610.05</td>\n",
       "      <td>7505.31</td>\n",
       "      <td>8360.24</td>\n",
       "      <td>9273.5</td>\n",
       "      <td>9324.8</td>\n",
       "      <td>9649.7</td>\n",
       "      <td>10882.0</td>\n",
       "    </tr>\n",
       "  </tbody>\n",
       "</table>\n",
       "<p>31 rows × 10 columns</p>\n",
       "</div>"
      ],
      "text/plain": [
       "    地区      2009      2010      2011      2012      2013     2014     2015  \\\n",
       "0   北京  12153.03  14113.58  16251.93  17879.40  19500.56  21330.8  23014.6   \n",
       "1   天津   7521.85   9224.46  11307.28  12893.88  14370.16  15727.0  16538.2   \n",
       "2   河北  17235.48  20394.26  24515.76  26575.01  28301.41  29421.2  29806.4   \n",
       "3   山西   7358.31   9200.86  11237.55  12112.83  12602.24  12761.5  12766.5   \n",
       "..  ..       ...       ...       ...       ...       ...      ...      ...   \n",
       "27  甘肃   3387.56   4120.75   5020.37   5650.20   6268.01   6836.8   6790.3   \n",
       "28  青海   1081.27   1350.43   1670.44   1893.54   2101.05   2303.3   2417.1   \n",
       "29  宁夏   1353.31   1689.65   2102.21   2341.29   2565.06   2752.1   2911.8   \n",
       "30  新疆   4277.05   5437.47   6610.05   7505.31   8360.24   9273.5   9324.8   \n",
       "\n",
       "       2016     2017  \n",
       "0   25669.1  28014.9  \n",
       "1   17885.4  18549.2  \n",
       "2   32070.5  34016.3  \n",
       "3   13055.6  15528.4  \n",
       "..      ...      ...  \n",
       "27   7200.4   7459.9  \n",
       "28   2572.5   2624.8  \n",
       "29   3168.6   3443.6  \n",
       "30   9649.7  10882.0  \n",
       "\n",
       "[31 rows x 10 columns]"
      ]
     },
     "execution_count": 86,
     "metadata": {},
     "output_type": "execute_result"
    },
    {
     "data": {
      "text/html": [
       "<div>\n",
       "<style scoped>\n",
       "    .dataframe tbody tr th:only-of-type {\n",
       "        vertical-align: middle;\n",
       "    }\n",
       "\n",
       "    .dataframe tbody tr th {\n",
       "        vertical-align: top;\n",
       "    }\n",
       "\n",
       "    .dataframe thead th {\n",
       "        text-align: right;\n",
       "    }\n",
       "</style>\n",
       "<table border=\"1\" class=\"dataframe\">\n",
       "  <thead>\n",
       "    <tr style=\"text-align: right;\">\n",
       "      <th></th>\n",
       "      <th>2009</th>\n",
       "      <th>2010</th>\n",
       "      <th>2011</th>\n",
       "      <th>2012</th>\n",
       "      <th>2013</th>\n",
       "      <th>2014</th>\n",
       "      <th>2015</th>\n",
       "      <th>2016</th>\n",
       "      <th>2017</th>\n",
       "      <th>2018</th>\n",
       "    </tr>\n",
       "    <tr>\n",
       "      <th>地区</th>\n",
       "      <th></th>\n",
       "      <th></th>\n",
       "      <th></th>\n",
       "      <th></th>\n",
       "      <th></th>\n",
       "      <th></th>\n",
       "      <th></th>\n",
       "      <th></th>\n",
       "      <th></th>\n",
       "      <th></th>\n",
       "    </tr>\n",
       "  </thead>\n",
       "  <tbody>\n",
       "    <tr>\n",
       "      <th>北京</th>\n",
       "      <td>12153.03</td>\n",
       "      <td>14113.58</td>\n",
       "      <td>16251.93</td>\n",
       "      <td>17879.40</td>\n",
       "      <td>19500.56</td>\n",
       "      <td>21330.8</td>\n",
       "      <td>23014.6</td>\n",
       "      <td>25669.1</td>\n",
       "      <td>28014.9</td>\n",
       "      <td>30319.98</td>\n",
       "    </tr>\n",
       "    <tr>\n",
       "      <th>天津</th>\n",
       "      <td>7521.85</td>\n",
       "      <td>9224.46</td>\n",
       "      <td>11307.28</td>\n",
       "      <td>12893.88</td>\n",
       "      <td>14370.16</td>\n",
       "      <td>15727.0</td>\n",
       "      <td>16538.2</td>\n",
       "      <td>17885.4</td>\n",
       "      <td>18549.2</td>\n",
       "      <td>18809.64</td>\n",
       "    </tr>\n",
       "    <tr>\n",
       "      <th>河北</th>\n",
       "      <td>17235.48</td>\n",
       "      <td>20394.26</td>\n",
       "      <td>24515.76</td>\n",
       "      <td>26575.01</td>\n",
       "      <td>28301.41</td>\n",
       "      <td>29421.2</td>\n",
       "      <td>29806.4</td>\n",
       "      <td>32070.5</td>\n",
       "      <td>34016.3</td>\n",
       "      <td>36010.27</td>\n",
       "    </tr>\n",
       "    <tr>\n",
       "      <th>山西</th>\n",
       "      <td>7358.31</td>\n",
       "      <td>9200.86</td>\n",
       "      <td>11237.55</td>\n",
       "      <td>12112.83</td>\n",
       "      <td>12602.24</td>\n",
       "      <td>12761.5</td>\n",
       "      <td>12766.5</td>\n",
       "      <td>13055.6</td>\n",
       "      <td>15528.4</td>\n",
       "      <td>16818.11</td>\n",
       "    </tr>\n",
       "    <tr>\n",
       "      <th>...</th>\n",
       "      <td>...</td>\n",
       "      <td>...</td>\n",
       "      <td>...</td>\n",
       "      <td>...</td>\n",
       "      <td>...</td>\n",
       "      <td>...</td>\n",
       "      <td>...</td>\n",
       "      <td>...</td>\n",
       "      <td>...</td>\n",
       "      <td>...</td>\n",
       "    </tr>\n",
       "    <tr>\n",
       "      <th>甘肃</th>\n",
       "      <td>3387.56</td>\n",
       "      <td>4120.75</td>\n",
       "      <td>5020.37</td>\n",
       "      <td>5650.20</td>\n",
       "      <td>6268.01</td>\n",
       "      <td>6836.8</td>\n",
       "      <td>6790.3</td>\n",
       "      <td>7200.4</td>\n",
       "      <td>7459.9</td>\n",
       "      <td>8246.07</td>\n",
       "    </tr>\n",
       "    <tr>\n",
       "      <th>青海</th>\n",
       "      <td>1081.27</td>\n",
       "      <td>1350.43</td>\n",
       "      <td>1670.44</td>\n",
       "      <td>1893.54</td>\n",
       "      <td>2101.05</td>\n",
       "      <td>2303.3</td>\n",
       "      <td>2417.1</td>\n",
       "      <td>2572.5</td>\n",
       "      <td>2624.8</td>\n",
       "      <td>2865.23</td>\n",
       "    </tr>\n",
       "    <tr>\n",
       "      <th>宁夏</th>\n",
       "      <td>1353.31</td>\n",
       "      <td>1689.65</td>\n",
       "      <td>2102.21</td>\n",
       "      <td>2341.29</td>\n",
       "      <td>2565.06</td>\n",
       "      <td>2752.1</td>\n",
       "      <td>2911.8</td>\n",
       "      <td>3168.6</td>\n",
       "      <td>3443.6</td>\n",
       "      <td>3705.18</td>\n",
       "    </tr>\n",
       "    <tr>\n",
       "      <th>新疆</th>\n",
       "      <td>4277.05</td>\n",
       "      <td>5437.47</td>\n",
       "      <td>6610.05</td>\n",
       "      <td>7505.31</td>\n",
       "      <td>8360.24</td>\n",
       "      <td>9273.5</td>\n",
       "      <td>9324.8</td>\n",
       "      <td>9649.7</td>\n",
       "      <td>10882.0</td>\n",
       "      <td>12199.08</td>\n",
       "    </tr>\n",
       "  </tbody>\n",
       "</table>\n",
       "<p>31 rows × 10 columns</p>\n",
       "</div>"
      ],
      "text/plain": [
       "        2009      2010      2011      2012      2013     2014     2015  \\\n",
       "地区                                                                       \n",
       "北京  12153.03  14113.58  16251.93  17879.40  19500.56  21330.8  23014.6   \n",
       "天津   7521.85   9224.46  11307.28  12893.88  14370.16  15727.0  16538.2   \n",
       "河北  17235.48  20394.26  24515.76  26575.01  28301.41  29421.2  29806.4   \n",
       "山西   7358.31   9200.86  11237.55  12112.83  12602.24  12761.5  12766.5   \n",
       "..       ...       ...       ...       ...       ...      ...      ...   \n",
       "甘肃   3387.56   4120.75   5020.37   5650.20   6268.01   6836.8   6790.3   \n",
       "青海   1081.27   1350.43   1670.44   1893.54   2101.05   2303.3   2417.1   \n",
       "宁夏   1353.31   1689.65   2102.21   2341.29   2565.06   2752.1   2911.8   \n",
       "新疆   4277.05   5437.47   6610.05   7505.31   8360.24   9273.5   9324.8   \n",
       "\n",
       "       2016     2017      2018  \n",
       "地区                              \n",
       "北京  25669.1  28014.9  30319.98  \n",
       "天津  17885.4  18549.2  18809.64  \n",
       "河北  32070.5  34016.3  36010.27  \n",
       "山西  13055.6  15528.4  16818.11  \n",
       "..      ...      ...       ...  \n",
       "甘肃   7200.4   7459.9   8246.07  \n",
       "青海   2572.5   2624.8   2865.23  \n",
       "宁夏   3168.6   3443.6   3705.18  \n",
       "新疆   9649.7  10882.0  12199.08  \n",
       "\n",
       "[31 rows x 10 columns]"
      ]
     },
     "execution_count": 86,
     "metadata": {},
     "output_type": "execute_result"
    }
   ],
   "source": [
    "middf = pd.merge(df1,df2,on='地区')\n",
    "middf\n",
    "df3 = df3.reset_index(drop=True)   ###重置索引\n",
    "\n",
    "middf[\"2018\"] = df3[\"2018\"]\n",
    "middf.set_index(\"地区\")"
   ]
  },
  {
   "cell_type": "code",
   "execution_count": null,
   "id": "ec0fa58b",
   "metadata": {},
   "outputs": [],
   "source": []
  },
  {
   "cell_type": "code",
   "execution_count": null,
   "id": "4334860f",
   "metadata": {},
   "outputs": [],
   "source": []
  },
  {
   "cell_type": "code",
   "execution_count": 87,
   "id": "015f5159",
   "metadata": {},
   "outputs": [
    {
     "data": {
      "text/html": [
       "<div>\n",
       "<style scoped>\n",
       "    .dataframe tbody tr th:only-of-type {\n",
       "        vertical-align: middle;\n",
       "    }\n",
       "\n",
       "    .dataframe tbody tr th {\n",
       "        vertical-align: top;\n",
       "    }\n",
       "\n",
       "    .dataframe thead th {\n",
       "        text-align: right;\n",
       "    }\n",
       "</style>\n",
       "<table border=\"1\" class=\"dataframe\">\n",
       "  <thead>\n",
       "    <tr style=\"text-align: right;\">\n",
       "      <th></th>\n",
       "      <th>Unnamed: 0</th>\n",
       "      <th>Unnamed: 1</th>\n",
       "      <th>立案</th>\n",
       "      <th>结案</th>\n",
       "      <th>结案率</th>\n",
       "      <th>假冒数量</th>\n",
       "      <th>专利_申请量</th>\n",
       "      <th>发明_申请量</th>\n",
       "      <th>实用新型_申请量</th>\n",
       "      <th>外观设计_申请量</th>\n",
       "      <th>...</th>\n",
       "      <th>专利授权率</th>\n",
       "      <th>发明专利申请比例</th>\n",
       "      <th>实用新型专利申请比例</th>\n",
       "      <th>外观设计专利申请比例</th>\n",
       "      <th>发明专利授权比例</th>\n",
       "      <th>实用新型专利授权比例</th>\n",
       "      <th>外观设计专利授权比例</th>\n",
       "      <th>发明专利有效比例</th>\n",
       "      <th>实用新型专利有效比例</th>\n",
       "      <th>外观设计专利有效比例</th>\n",
       "    </tr>\n",
       "  </thead>\n",
       "  <tbody>\n",
       "    <tr>\n",
       "      <th>0</th>\n",
       "      <td>2008.0</td>\n",
       "      <td>北京</td>\n",
       "      <td>42</td>\n",
       "      <td>27</td>\n",
       "      <td>0.642857</td>\n",
       "      <td>0</td>\n",
       "      <td>270785</td>\n",
       "      <td>121731</td>\n",
       "      <td>113040</td>\n",
       "      <td>36014</td>\n",
       "      <td>...</td>\n",
       "      <td>0.042336</td>\n",
       "      <td>0.449549</td>\n",
       "      <td>0.417453</td>\n",
       "      <td>0.132999</td>\n",
       "      <td>0.365019</td>\n",
       "      <td>0.494506</td>\n",
       "      <td>0.140474</td>\n",
       "      <td>0.364508</td>\n",
       "      <td>0.481469</td>\n",
       "      <td>0.154023</td>\n",
       "    </tr>\n",
       "    <tr>\n",
       "      <th>1</th>\n",
       "      <td>NaN</td>\n",
       "      <td>天津</td>\n",
       "      <td>10</td>\n",
       "      <td>8</td>\n",
       "      <td>0.800000</td>\n",
       "      <td>0</td>\n",
       "      <td>104799</td>\n",
       "      <td>35007</td>\n",
       "      <td>44943</td>\n",
       "      <td>24849</td>\n",
       "      <td>...</td>\n",
       "      <td>0.037577</td>\n",
       "      <td>0.334039</td>\n",
       "      <td>0.428850</td>\n",
       "      <td>0.237111</td>\n",
       "      <td>0.237113</td>\n",
       "      <td>0.591458</td>\n",
       "      <td>0.171429</td>\n",
       "      <td>0.225879</td>\n",
       "      <td>0.567816</td>\n",
       "      <td>0.206305</td>\n",
       "    </tr>\n",
       "    <tr>\n",
       "      <th>2</th>\n",
       "      <td>NaN</td>\n",
       "      <td>河北</td>\n",
       "      <td>19</td>\n",
       "      <td>16</td>\n",
       "      <td>0.842105</td>\n",
       "      <td>0</td>\n",
       "      <td>86306</td>\n",
       "      <td>16706</td>\n",
       "      <td>53060</td>\n",
       "      <td>16540</td>\n",
       "      <td>...</td>\n",
       "      <td>0.029766</td>\n",
       "      <td>0.193567</td>\n",
       "      <td>0.614789</td>\n",
       "      <td>0.191644</td>\n",
       "      <td>0.099891</td>\n",
       "      <td>0.716339</td>\n",
       "      <td>0.183770</td>\n",
       "      <td>0.113654</td>\n",
       "      <td>0.665758</td>\n",
       "      <td>0.220588</td>\n",
       "    </tr>\n",
       "    <tr>\n",
       "      <th>3</th>\n",
       "      <td>NaN</td>\n",
       "      <td>山西</td>\n",
       "      <td>3</td>\n",
       "      <td>2</td>\n",
       "      <td>0.666667</td>\n",
       "      <td>2</td>\n",
       "      <td>33231</td>\n",
       "      <td>9556</td>\n",
       "      <td>18795</td>\n",
       "      <td>4880</td>\n",
       "      <td>...</td>\n",
       "      <td>0.030694</td>\n",
       "      <td>0.287563</td>\n",
       "      <td>0.565586</td>\n",
       "      <td>0.146851</td>\n",
       "      <td>0.184291</td>\n",
       "      <td>0.684072</td>\n",
       "      <td>0.131637</td>\n",
       "      <td>0.220046</td>\n",
       "      <td>0.625741</td>\n",
       "      <td>0.154213</td>\n",
       "    </tr>\n",
       "    <tr>\n",
       "      <th>...</th>\n",
       "      <td>...</td>\n",
       "      <td>...</td>\n",
       "      <td>...</td>\n",
       "      <td>...</td>\n",
       "      <td>...</td>\n",
       "      <td>...</td>\n",
       "      <td>...</td>\n",
       "      <td>...</td>\n",
       "      <td>...</td>\n",
       "      <td>...</td>\n",
       "      <td>...</td>\n",
       "      <td>...</td>\n",
       "      <td>...</td>\n",
       "      <td>...</td>\n",
       "      <td>...</td>\n",
       "      <td>...</td>\n",
       "      <td>...</td>\n",
       "      <td>...</td>\n",
       "      <td>...</td>\n",
       "      <td>...</td>\n",
       "      <td>...</td>\n",
       "    </tr>\n",
       "    <tr>\n",
       "      <th>337</th>\n",
       "      <td>NaN</td>\n",
       "      <td>青海</td>\n",
       "      <td>350</td>\n",
       "      <td>327</td>\n",
       "      <td>0.934286</td>\n",
       "      <td>605</td>\n",
       "      <td>27882</td>\n",
       "      <td>6035</td>\n",
       "      <td>17400</td>\n",
       "      <td>4447</td>\n",
       "      <td>...</td>\n",
       "      <td>0.188078</td>\n",
       "      <td>0.216448</td>\n",
       "      <td>0.624059</td>\n",
       "      <td>0.159494</td>\n",
       "      <td>0.091704</td>\n",
       "      <td>0.766299</td>\n",
       "      <td>0.141997</td>\n",
       "      <td>0.197089</td>\n",
       "      <td>0.681030</td>\n",
       "      <td>0.121881</td>\n",
       "    </tr>\n",
       "    <tr>\n",
       "      <th>338</th>\n",
       "      <td>NaN</td>\n",
       "      <td>宁夏</td>\n",
       "      <td>0</td>\n",
       "      <td>0</td>\n",
       "      <td>0.000000</td>\n",
       "      <td>48</td>\n",
       "      <td>4439</td>\n",
       "      <td>1287</td>\n",
       "      <td>2885</td>\n",
       "      <td>267</td>\n",
       "      <td>...</td>\n",
       "      <td>0.169408</td>\n",
       "      <td>0.289930</td>\n",
       "      <td>0.649921</td>\n",
       "      <td>0.060149</td>\n",
       "      <td>0.111694</td>\n",
       "      <td>0.803223</td>\n",
       "      <td>0.085082</td>\n",
       "      <td>0.201495</td>\n",
       "      <td>0.672176</td>\n",
       "      <td>0.126329</td>\n",
       "    </tr>\n",
       "    <tr>\n",
       "      <th>339</th>\n",
       "      <td>NaN</td>\n",
       "      <td>新疆</td>\n",
       "      <td>37</td>\n",
       "      <td>31</td>\n",
       "      <td>0.837838</td>\n",
       "      <td>31</td>\n",
       "      <td>9860</td>\n",
       "      <td>2999</td>\n",
       "      <td>6403</td>\n",
       "      <td>458</td>\n",
       "      <td>...</td>\n",
       "      <td>0.161663</td>\n",
       "      <td>0.304158</td>\n",
       "      <td>0.649391</td>\n",
       "      <td>0.046450</td>\n",
       "      <td>0.131495</td>\n",
       "      <td>0.793390</td>\n",
       "      <td>0.075115</td>\n",
       "      <td>0.200969</td>\n",
       "      <td>0.728763</td>\n",
       "      <td>0.070268</td>\n",
       "    </tr>\n",
       "    <tr>\n",
       "      <th>340</th>\n",
       "      <td>NaN</td>\n",
       "      <td>海南</td>\n",
       "      <td>717</td>\n",
       "      <td>741</td>\n",
       "      <td>1.000000</td>\n",
       "      <td>502</td>\n",
       "      <td>14647</td>\n",
       "      <td>3665</td>\n",
       "      <td>9473</td>\n",
       "      <td>1509</td>\n",
       "      <td>...</td>\n",
       "      <td>0.248720</td>\n",
       "      <td>0.250222</td>\n",
       "      <td>0.646754</td>\n",
       "      <td>0.103025</td>\n",
       "      <td>0.095568</td>\n",
       "      <td>0.763616</td>\n",
       "      <td>0.140816</td>\n",
       "      <td>0.157850</td>\n",
       "      <td>0.671460</td>\n",
       "      <td>0.170690</td>\n",
       "    </tr>\n",
       "  </tbody>\n",
       "</table>\n",
       "<p>341 rows × 31 columns</p>\n",
       "</div>"
      ],
      "text/plain": [
       "     Unnamed: 0 Unnamed: 1   立案   结案       结案率  假冒数量  专利_申请量  发明_申请量  \\\n",
       "0        2008.0         北京   42   27  0.642857     0  270785  121731   \n",
       "1           NaN         天津   10    8  0.800000     0  104799   35007   \n",
       "2           NaN         河北   19   16  0.842105     0   86306   16706   \n",
       "3           NaN         山西    3    2  0.666667     2   33231    9556   \n",
       "..          ...        ...  ...  ...       ...   ...     ...     ...   \n",
       "337         NaN         青海  350  327  0.934286   605   27882    6035   \n",
       "338         NaN         宁夏    0    0  0.000000    48    4439    1287   \n",
       "339         NaN         新疆   37   31  0.837838    31    9860    2999   \n",
       "340         NaN         海南  717  741  1.000000   502   14647    3665   \n",
       "\n",
       "     实用新型_申请量  外观设计_申请量  ...     专利授权率  发明专利申请比例  实用新型专利申请比例  外观设计专利申请比例  \\\n",
       "0      113040     36014  ...  0.042336  0.449549    0.417453    0.132999   \n",
       "1       44943     24849  ...  0.037577  0.334039    0.428850    0.237111   \n",
       "2       53060     16540  ...  0.029766  0.193567    0.614789    0.191644   \n",
       "3       18795      4880  ...  0.030694  0.287563    0.565586    0.146851   \n",
       "..        ...       ...  ...       ...       ...         ...         ...   \n",
       "337     17400      4447  ...  0.188078  0.216448    0.624059    0.159494   \n",
       "338      2885       267  ...  0.169408  0.289930    0.649921    0.060149   \n",
       "339      6403       458  ...  0.161663  0.304158    0.649391    0.046450   \n",
       "340      9473      1509  ...  0.248720  0.250222    0.646754    0.103025   \n",
       "\n",
       "     发明专利授权比例  实用新型专利授权比例  外观设计专利授权比例  发明专利有效比例  实用新型专利有效比例  外观设计专利有效比例  \n",
       "0    0.365019    0.494506    0.140474  0.364508    0.481469    0.154023  \n",
       "1    0.237113    0.591458    0.171429  0.225879    0.567816    0.206305  \n",
       "2    0.099891    0.716339    0.183770  0.113654    0.665758    0.220588  \n",
       "3    0.184291    0.684072    0.131637  0.220046    0.625741    0.154213  \n",
       "..        ...         ...         ...       ...         ...         ...  \n",
       "337  0.091704    0.766299    0.141997  0.197089    0.681030    0.121881  \n",
       "338  0.111694    0.803223    0.085082  0.201495    0.672176    0.126329  \n",
       "339  0.131495    0.793390    0.075115  0.200969    0.728763    0.070268  \n",
       "340  0.095568    0.763616    0.140816  0.157850    0.671460    0.170690  \n",
       "\n",
       "[341 rows x 31 columns]"
      ]
     },
     "execution_count": 87,
     "metadata": {},
     "output_type": "execute_result"
    }
   ],
   "source": [
    "file = \"../实验三数据/知识产权年鉴数据.xlsx\"\n",
    "df = pd.read_excel(file)\n",
    "df"
   ]
  },
  {
   "cell_type": "code",
   "execution_count": 88,
   "id": "842b6920",
   "metadata": {},
   "outputs": [
    {
     "data": {
      "text/html": [
       "<div>\n",
       "<style scoped>\n",
       "    .dataframe tbody tr th:only-of-type {\n",
       "        vertical-align: middle;\n",
       "    }\n",
       "\n",
       "    .dataframe tbody tr th {\n",
       "        vertical-align: top;\n",
       "    }\n",
       "\n",
       "    .dataframe thead th {\n",
       "        text-align: right;\n",
       "    }\n",
       "</style>\n",
       "<table border=\"1\" class=\"dataframe\">\n",
       "  <thead>\n",
       "    <tr style=\"text-align: right;\">\n",
       "      <th></th>\n",
       "      <th>年份</th>\n",
       "      <th>地区</th>\n",
       "      <th>结案率</th>\n",
       "      <th>专利_申请量</th>\n",
       "      <th>专利_授权量</th>\n",
       "      <th>职务专利授权量百分比</th>\n",
       "    </tr>\n",
       "  </thead>\n",
       "  <tbody>\n",
       "    <tr>\n",
       "      <th>0</th>\n",
       "      <td>2008.0</td>\n",
       "      <td>北京</td>\n",
       "      <td>0.642857</td>\n",
       "      <td>270785</td>\n",
       "      <td>17747</td>\n",
       "      <td>0.673297</td>\n",
       "    </tr>\n",
       "    <tr>\n",
       "      <th>1</th>\n",
       "      <td>NaN</td>\n",
       "      <td>天津</td>\n",
       "      <td>0.800000</td>\n",
       "      <td>104799</td>\n",
       "      <td>6790</td>\n",
       "      <td>0.745950</td>\n",
       "    </tr>\n",
       "    <tr>\n",
       "      <th>2</th>\n",
       "      <td>NaN</td>\n",
       "      <td>河北</td>\n",
       "      <td>0.842105</td>\n",
       "      <td>86306</td>\n",
       "      <td>5496</td>\n",
       "      <td>0.319141</td>\n",
       "    </tr>\n",
       "    <tr>\n",
       "      <th>3</th>\n",
       "      <td>NaN</td>\n",
       "      <td>山西</td>\n",
       "      <td>0.666667</td>\n",
       "      <td>33231</td>\n",
       "      <td>2279</td>\n",
       "      <td>0.488811</td>\n",
       "    </tr>\n",
       "    <tr>\n",
       "      <th>...</th>\n",
       "      <td>...</td>\n",
       "      <td>...</td>\n",
       "      <td>...</td>\n",
       "      <td>...</td>\n",
       "      <td>...</td>\n",
       "      <td>...</td>\n",
       "    </tr>\n",
       "    <tr>\n",
       "      <th>337</th>\n",
       "      <td>NaN</td>\n",
       "      <td>青海</td>\n",
       "      <td>0.934286</td>\n",
       "      <td>27882</td>\n",
       "      <td>13958</td>\n",
       "      <td>0.740006</td>\n",
       "    </tr>\n",
       "    <tr>\n",
       "      <th>338</th>\n",
       "      <td>NaN</td>\n",
       "      <td>宁夏</td>\n",
       "      <td>0.000000</td>\n",
       "      <td>4439</td>\n",
       "      <td>2668</td>\n",
       "      <td>0.776987</td>\n",
       "    </tr>\n",
       "    <tr>\n",
       "      <th>339</th>\n",
       "      <td>NaN</td>\n",
       "      <td>新疆</td>\n",
       "      <td>0.837838</td>\n",
       "      <td>9860</td>\n",
       "      <td>5658</td>\n",
       "      <td>0.882114</td>\n",
       "    </tr>\n",
       "    <tr>\n",
       "      <th>340</th>\n",
       "      <td>NaN</td>\n",
       "      <td>海南</td>\n",
       "      <td>1.000000</td>\n",
       "      <td>14647</td>\n",
       "      <td>9658</td>\n",
       "      <td>0.732036</td>\n",
       "    </tr>\n",
       "  </tbody>\n",
       "</table>\n",
       "<p>341 rows × 6 columns</p>\n",
       "</div>"
      ],
      "text/plain": [
       "         年份  地区       结案率  专利_申请量  专利_授权量  职务专利授权量百分比\n",
       "0    2008.0  北京  0.642857  270785   17747    0.673297\n",
       "1       NaN  天津  0.800000  104799    6790    0.745950\n",
       "2       NaN  河北  0.842105   86306    5496    0.319141\n",
       "3       NaN  山西  0.666667   33231    2279    0.488811\n",
       "..      ...  ..       ...     ...     ...         ...\n",
       "337     NaN  青海  0.934286   27882   13958    0.740006\n",
       "338     NaN  宁夏  0.000000    4439    2668    0.776987\n",
       "339     NaN  新疆  0.837838    9860    5658    0.882114\n",
       "340     NaN  海南  1.000000   14647    9658    0.732036\n",
       "\n",
       "[341 rows x 6 columns]"
      ]
     },
     "execution_count": 88,
     "metadata": {},
     "output_type": "execute_result"
    }
   ],
   "source": [
    "columns = ['Unnamed: 0','Unnamed: 1','结案率','专利_申请量','专利_授权量','职务专利授权量百分比']\n",
    "columns_rename = ['年份','地区','结案率','专利_申请量','专利_授权量','职务专利授权量百分比']\n",
    "df1 = df[columns]\n",
    "df1.columns = columns_rename\n",
    "df1"
   ]
  },
  {
   "cell_type": "code",
   "execution_count": 89,
   "id": "54d0b1ef",
   "metadata": {},
   "outputs": [
    {
     "data": {
      "text/html": [
       "<div>\n",
       "<style scoped>\n",
       "    .dataframe tbody tr th:only-of-type {\n",
       "        vertical-align: middle;\n",
       "    }\n",
       "\n",
       "    .dataframe tbody tr th {\n",
       "        vertical-align: top;\n",
       "    }\n",
       "\n",
       "    .dataframe thead th {\n",
       "        text-align: right;\n",
       "    }\n",
       "</style>\n",
       "<table border=\"1\" class=\"dataframe\">\n",
       "  <thead>\n",
       "    <tr style=\"text-align: right;\">\n",
       "      <th></th>\n",
       "      <th>年份</th>\n",
       "      <th>地区</th>\n",
       "      <th>结案率</th>\n",
       "      <th>专利_申请量</th>\n",
       "      <th>专利_授权量</th>\n",
       "      <th>职务专利授权量百分比</th>\n",
       "    </tr>\n",
       "  </thead>\n",
       "  <tbody>\n",
       "    <tr>\n",
       "      <th>0</th>\n",
       "      <td>2008.0</td>\n",
       "      <td>北京</td>\n",
       "      <td>0.642857</td>\n",
       "      <td>270785</td>\n",
       "      <td>17747</td>\n",
       "      <td>0.673297</td>\n",
       "    </tr>\n",
       "    <tr>\n",
       "      <th>1</th>\n",
       "      <td>2008.0</td>\n",
       "      <td>天津</td>\n",
       "      <td>0.800000</td>\n",
       "      <td>104799</td>\n",
       "      <td>6790</td>\n",
       "      <td>0.745950</td>\n",
       "    </tr>\n",
       "    <tr>\n",
       "      <th>2</th>\n",
       "      <td>2008.0</td>\n",
       "      <td>河北</td>\n",
       "      <td>0.842105</td>\n",
       "      <td>86306</td>\n",
       "      <td>5496</td>\n",
       "      <td>0.319141</td>\n",
       "    </tr>\n",
       "    <tr>\n",
       "      <th>3</th>\n",
       "      <td>2008.0</td>\n",
       "      <td>山西</td>\n",
       "      <td>0.666667</td>\n",
       "      <td>33231</td>\n",
       "      <td>2279</td>\n",
       "      <td>0.488811</td>\n",
       "    </tr>\n",
       "    <tr>\n",
       "      <th>...</th>\n",
       "      <td>...</td>\n",
       "      <td>...</td>\n",
       "      <td>...</td>\n",
       "      <td>...</td>\n",
       "      <td>...</td>\n",
       "      <td>...</td>\n",
       "    </tr>\n",
       "    <tr>\n",
       "      <th>337</th>\n",
       "      <td>2018.0</td>\n",
       "      <td>青海</td>\n",
       "      <td>0.934286</td>\n",
       "      <td>27882</td>\n",
       "      <td>13958</td>\n",
       "      <td>0.740006</td>\n",
       "    </tr>\n",
       "    <tr>\n",
       "      <th>338</th>\n",
       "      <td>2018.0</td>\n",
       "      <td>宁夏</td>\n",
       "      <td>0.000000</td>\n",
       "      <td>4439</td>\n",
       "      <td>2668</td>\n",
       "      <td>0.776987</td>\n",
       "    </tr>\n",
       "    <tr>\n",
       "      <th>339</th>\n",
       "      <td>2018.0</td>\n",
       "      <td>新疆</td>\n",
       "      <td>0.837838</td>\n",
       "      <td>9860</td>\n",
       "      <td>5658</td>\n",
       "      <td>0.882114</td>\n",
       "    </tr>\n",
       "    <tr>\n",
       "      <th>340</th>\n",
       "      <td>2018.0</td>\n",
       "      <td>海南</td>\n",
       "      <td>1.000000</td>\n",
       "      <td>14647</td>\n",
       "      <td>9658</td>\n",
       "      <td>0.732036</td>\n",
       "    </tr>\n",
       "  </tbody>\n",
       "</table>\n",
       "<p>341 rows × 6 columns</p>\n",
       "</div>"
      ],
      "text/plain": [
       "         年份  地区       结案率  专利_申请量  专利_授权量  职务专利授权量百分比\n",
       "0    2008.0  北京  0.642857  270785   17747    0.673297\n",
       "1    2008.0  天津  0.800000  104799    6790    0.745950\n",
       "2    2008.0  河北  0.842105   86306    5496    0.319141\n",
       "3    2008.0  山西  0.666667   33231    2279    0.488811\n",
       "..      ...  ..       ...     ...     ...         ...\n",
       "337  2018.0  青海  0.934286   27882   13958    0.740006\n",
       "338  2018.0  宁夏  0.000000    4439    2668    0.776987\n",
       "339  2018.0  新疆  0.837838    9860    5658    0.882114\n",
       "340  2018.0  海南  1.000000   14647    9658    0.732036\n",
       "\n",
       "[341 rows x 6 columns]"
      ]
     },
     "execution_count": 89,
     "metadata": {},
     "output_type": "execute_result"
    }
   ],
   "source": [
    "df1 = df1.fillna(method='ffill')\n",
    "df1"
   ]
  },
  {
   "cell_type": "code",
   "execution_count": 90,
   "id": "a6a3bd9f",
   "metadata": {},
   "outputs": [
    {
     "data": {
      "text/html": [
       "<div>\n",
       "<style scoped>\n",
       "    .dataframe tbody tr th:only-of-type {\n",
       "        vertical-align: middle;\n",
       "    }\n",
       "\n",
       "    .dataframe tbody tr th {\n",
       "        vertical-align: top;\n",
       "    }\n",
       "\n",
       "    .dataframe thead th {\n",
       "        text-align: right;\n",
       "    }\n",
       "</style>\n",
       "<table border=\"1\" class=\"dataframe\">\n",
       "  <thead>\n",
       "    <tr style=\"text-align: right;\">\n",
       "      <th></th>\n",
       "      <th>年份</th>\n",
       "      <th>地区</th>\n",
       "      <th>结案率</th>\n",
       "      <th>专利_申请量</th>\n",
       "      <th>专利_授权量</th>\n",
       "      <th>职务专利授权量百分比</th>\n",
       "    </tr>\n",
       "  </thead>\n",
       "  <tbody>\n",
       "  </tbody>\n",
       "</table>\n",
       "</div>"
      ],
      "text/plain": [
       "Empty DataFrame\n",
       "Columns: [年份, 地区, 结案率, 专利_申请量, 专利_授权量, 职务专利授权量百分比]\n",
       "Index: []"
      ]
     },
     "execution_count": 90,
     "metadata": {},
     "output_type": "execute_result"
    },
    {
     "data": {
      "text/html": [
       "<div>\n",
       "<style scoped>\n",
       "    .dataframe tbody tr th:only-of-type {\n",
       "        vertical-align: middle;\n",
       "    }\n",
       "\n",
       "    .dataframe tbody tr th {\n",
       "        vertical-align: top;\n",
       "    }\n",
       "\n",
       "    .dataframe thead th {\n",
       "        text-align: right;\n",
       "    }\n",
       "</style>\n",
       "<table border=\"1\" class=\"dataframe\">\n",
       "  <thead>\n",
       "    <tr style=\"text-align: right;\">\n",
       "      <th></th>\n",
       "      <th>年份</th>\n",
       "      <th>地区</th>\n",
       "      <th>结案率</th>\n",
       "      <th>专利_申请量</th>\n",
       "      <th>专利_授权量</th>\n",
       "      <th>职务专利授权量百分比</th>\n",
       "    </tr>\n",
       "  </thead>\n",
       "  <tbody>\n",
       "  </tbody>\n",
       "</table>\n",
       "</div>"
      ],
      "text/plain": [
       "Empty DataFrame\n",
       "Columns: [年份, 地区, 结案率, 专利_申请量, 专利_授权量, 职务专利授权量百分比]\n",
       "Index: []"
      ]
     },
     "execution_count": 90,
     "metadata": {},
     "output_type": "execute_result"
    }
   ],
   "source": [
    "df1[df1[\"结案率\"]==np.inf]\n",
    "\n",
    "df1[df1[\"结案率\"]>1]"
   ]
  },
  {
   "cell_type": "code",
   "execution_count": 91,
   "id": "9979d30c",
   "metadata": {},
   "outputs": [],
   "source": [
    "################无np.inf和大于1的值"
   ]
  },
  {
   "cell_type": "code",
   "execution_count": 92,
   "id": "82ff38d1",
   "metadata": {},
   "outputs": [
    {
     "data": {
      "text/html": [
       "<div>\n",
       "<style scoped>\n",
       "    .dataframe tbody tr th:only-of-type {\n",
       "        vertical-align: middle;\n",
       "    }\n",
       "\n",
       "    .dataframe tbody tr th {\n",
       "        vertical-align: top;\n",
       "    }\n",
       "\n",
       "    .dataframe thead th {\n",
       "        text-align: right;\n",
       "    }\n",
       "</style>\n",
       "<table border=\"1\" class=\"dataframe\">\n",
       "  <thead>\n",
       "    <tr style=\"text-align: right;\">\n",
       "      <th></th>\n",
       "      <th>x</th>\n",
       "      <th>y</th>\n",
       "    </tr>\n",
       "  </thead>\n",
       "  <tbody>\n",
       "    <tr>\n",
       "      <th>0</th>\n",
       "      <td>0.1</td>\n",
       "      <td>0.2</td>\n",
       "    </tr>\n",
       "    <tr>\n",
       "      <th>1</th>\n",
       "      <td>0.3</td>\n",
       "      <td>0.4</td>\n",
       "    </tr>\n",
       "    <tr>\n",
       "      <th>2</th>\n",
       "      <td>0.5</td>\n",
       "      <td>0.6</td>\n",
       "    </tr>\n",
       "    <tr>\n",
       "      <th>3</th>\n",
       "      <td>0.7</td>\n",
       "      <td>0.8</td>\n",
       "    </tr>\n",
       "    <tr>\n",
       "      <th>4</th>\n",
       "      <td>0.9</td>\n",
       "      <td>1.0</td>\n",
       "    </tr>\n",
       "    <tr>\n",
       "      <th>5</th>\n",
       "      <td>inf</td>\n",
       "      <td>1.3</td>\n",
       "    </tr>\n",
       "  </tbody>\n",
       "</table>\n",
       "</div>"
      ],
      "text/plain": [
       "     x    y\n",
       "0  0.1  0.2\n",
       "1  0.3  0.4\n",
       "2  0.5  0.6\n",
       "3  0.7  0.8\n",
       "4  0.9  1.0\n",
       "5  inf  1.3"
      ]
     },
     "execution_count": 92,
     "metadata": {},
     "output_type": "execute_result"
    }
   ],
   "source": [
    "a = pd.DataFrame({\"x\":[0.1,0.3,0.5,0.7,0.9,np.inf],\"y\":[0.2,0.4,0.6,0.8,1.0,1.3]})\n",
    "a"
   ]
  },
  {
   "cell_type": "code",
   "execution_count": 93,
   "id": "bc4e9274",
   "metadata": {},
   "outputs": [
    {
     "data": {
      "text/html": [
       "<div>\n",
       "<style scoped>\n",
       "    .dataframe tbody tr th:only-of-type {\n",
       "        vertical-align: middle;\n",
       "    }\n",
       "\n",
       "    .dataframe tbody tr th {\n",
       "        vertical-align: top;\n",
       "    }\n",
       "\n",
       "    .dataframe thead th {\n",
       "        text-align: right;\n",
       "    }\n",
       "</style>\n",
       "<table border=\"1\" class=\"dataframe\">\n",
       "  <thead>\n",
       "    <tr style=\"text-align: right;\">\n",
       "      <th></th>\n",
       "      <th>x</th>\n",
       "      <th>y</th>\n",
       "    </tr>\n",
       "  </thead>\n",
       "  <tbody>\n",
       "    <tr>\n",
       "      <th>0</th>\n",
       "      <td>0.1</td>\n",
       "      <td>0.2</td>\n",
       "    </tr>\n",
       "    <tr>\n",
       "      <th>1</th>\n",
       "      <td>0.3</td>\n",
       "      <td>0.4</td>\n",
       "    </tr>\n",
       "    <tr>\n",
       "      <th>2</th>\n",
       "      <td>0.5</td>\n",
       "      <td>0.6</td>\n",
       "    </tr>\n",
       "    <tr>\n",
       "      <th>3</th>\n",
       "      <td>0.7</td>\n",
       "      <td>0.8</td>\n",
       "    </tr>\n",
       "    <tr>\n",
       "      <th>4</th>\n",
       "      <td>0.9</td>\n",
       "      <td>1.0</td>\n",
       "    </tr>\n",
       "    <tr>\n",
       "      <th>5</th>\n",
       "      <td>0.0</td>\n",
       "      <td>1.3</td>\n",
       "    </tr>\n",
       "  </tbody>\n",
       "</table>\n",
       "</div>"
      ],
      "text/plain": [
       "     x    y\n",
       "0  0.1  0.2\n",
       "1  0.3  0.4\n",
       "2  0.5  0.6\n",
       "3  0.7  0.8\n",
       "4  0.9  1.0\n",
       "5  0.0  1.3"
      ]
     },
     "execution_count": 93,
     "metadata": {},
     "output_type": "execute_result"
    },
    {
     "data": {
      "text/html": [
       "<div>\n",
       "<style scoped>\n",
       "    .dataframe tbody tr th:only-of-type {\n",
       "        vertical-align: middle;\n",
       "    }\n",
       "\n",
       "    .dataframe tbody tr th {\n",
       "        vertical-align: top;\n",
       "    }\n",
       "\n",
       "    .dataframe thead th {\n",
       "        text-align: right;\n",
       "    }\n",
       "</style>\n",
       "<table border=\"1\" class=\"dataframe\">\n",
       "  <thead>\n",
       "    <tr style=\"text-align: right;\">\n",
       "      <th></th>\n",
       "      <th>x</th>\n",
       "      <th>y</th>\n",
       "    </tr>\n",
       "  </thead>\n",
       "  <tbody>\n",
       "    <tr>\n",
       "      <th>0</th>\n",
       "      <td>0.1</td>\n",
       "      <td>0.2</td>\n",
       "    </tr>\n",
       "    <tr>\n",
       "      <th>1</th>\n",
       "      <td>0.3</td>\n",
       "      <td>0.4</td>\n",
       "    </tr>\n",
       "    <tr>\n",
       "      <th>2</th>\n",
       "      <td>0.5</td>\n",
       "      <td>0.6</td>\n",
       "    </tr>\n",
       "    <tr>\n",
       "      <th>3</th>\n",
       "      <td>0.7</td>\n",
       "      <td>0.8</td>\n",
       "    </tr>\n",
       "    <tr>\n",
       "      <th>4</th>\n",
       "      <td>0.9</td>\n",
       "      <td>1.0</td>\n",
       "    </tr>\n",
       "    <tr>\n",
       "      <th>5</th>\n",
       "      <td>0.0</td>\n",
       "      <td>1.0</td>\n",
       "    </tr>\n",
       "  </tbody>\n",
       "</table>\n",
       "</div>"
      ],
      "text/plain": [
       "     x    y\n",
       "0  0.1  0.2\n",
       "1  0.3  0.4\n",
       "2  0.5  0.6\n",
       "3  0.7  0.8\n",
       "4  0.9  1.0\n",
       "5  0.0  1.0"
      ]
     },
     "execution_count": 93,
     "metadata": {},
     "output_type": "execute_result"
    }
   ],
   "source": [
    "def correctioni(df,column):\n",
    "    l = len(df.index)\n",
    "    for i in range(l):\n",
    "        if df.loc[i,column] == np.inf:\n",
    "            df.loc[i,column] = 0\n",
    "        elif df.loc[i,column] > 1:\n",
    "            df.loc[i,column] = 1\n",
    "    return df\n",
    "b = correctioni(a,\"x\")\n",
    "b\n",
    "c = correctioni(b,\"y\")\n",
    "c"
   ]
  },
  {
   "cell_type": "code",
   "execution_count": null,
   "id": "ec036a33",
   "metadata": {},
   "outputs": [],
   "source": []
  },
  {
   "cell_type": "code",
   "execution_count": 94,
   "id": "4231046d",
   "metadata": {},
   "outputs": [
    {
     "data": {
      "text/html": [
       "<div>\n",
       "<style scoped>\n",
       "    .dataframe tbody tr th:only-of-type {\n",
       "        vertical-align: middle;\n",
       "    }\n",
       "\n",
       "    .dataframe tbody tr th {\n",
       "        vertical-align: top;\n",
       "    }\n",
       "\n",
       "    .dataframe thead th {\n",
       "        text-align: right;\n",
       "    }\n",
       "</style>\n",
       "<table border=\"1\" class=\"dataframe\">\n",
       "  <thead>\n",
       "    <tr style=\"text-align: right;\">\n",
       "      <th></th>\n",
       "      <th>地区</th>\n",
       "      <th>2009</th>\n",
       "      <th>2010</th>\n",
       "      <th>2011</th>\n",
       "      <th>2012</th>\n",
       "      <th>2013</th>\n",
       "      <th>2014</th>\n",
       "      <th>2015</th>\n",
       "      <th>2016</th>\n",
       "      <th>2017</th>\n",
       "      <th>2018</th>\n",
       "    </tr>\n",
       "  </thead>\n",
       "  <tbody>\n",
       "    <tr>\n",
       "      <th>0</th>\n",
       "      <td>北京</td>\n",
       "      <td>1860</td>\n",
       "      <td>1962</td>\n",
       "      <td>2019</td>\n",
       "      <td>2069</td>\n",
       "      <td>2115</td>\n",
       "      <td>2152</td>\n",
       "      <td>2171</td>\n",
       "      <td>2173</td>\n",
       "      <td>2171</td>\n",
       "      <td>2154</td>\n",
       "    </tr>\n",
       "    <tr>\n",
       "      <th>1</th>\n",
       "      <td>天津</td>\n",
       "      <td>1228</td>\n",
       "      <td>1299</td>\n",
       "      <td>1355</td>\n",
       "      <td>1413</td>\n",
       "      <td>1472</td>\n",
       "      <td>1517</td>\n",
       "      <td>1547</td>\n",
       "      <td>1562</td>\n",
       "      <td>1557</td>\n",
       "      <td>1560</td>\n",
       "    </tr>\n",
       "    <tr>\n",
       "      <th>2</th>\n",
       "      <td>河北</td>\n",
       "      <td>7034</td>\n",
       "      <td>7194</td>\n",
       "      <td>7241</td>\n",
       "      <td>7288</td>\n",
       "      <td>7333</td>\n",
       "      <td>7384</td>\n",
       "      <td>7425</td>\n",
       "      <td>7470</td>\n",
       "      <td>7520</td>\n",
       "      <td>7556</td>\n",
       "    </tr>\n",
       "    <tr>\n",
       "      <th>3</th>\n",
       "      <td>山西</td>\n",
       "      <td>3427</td>\n",
       "      <td>3574</td>\n",
       "      <td>3593</td>\n",
       "      <td>3611</td>\n",
       "      <td>3630</td>\n",
       "      <td>3648</td>\n",
       "      <td>3664</td>\n",
       "      <td>3682</td>\n",
       "      <td>3702</td>\n",
       "      <td>3718</td>\n",
       "    </tr>\n",
       "    <tr>\n",
       "      <th>...</th>\n",
       "      <td>...</td>\n",
       "      <td>...</td>\n",
       "      <td>...</td>\n",
       "      <td>...</td>\n",
       "      <td>...</td>\n",
       "      <td>...</td>\n",
       "      <td>...</td>\n",
       "      <td>...</td>\n",
       "      <td>...</td>\n",
       "      <td>...</td>\n",
       "      <td>...</td>\n",
       "    </tr>\n",
       "    <tr>\n",
       "      <th>27</th>\n",
       "      <td>甘肃</td>\n",
       "      <td>2555</td>\n",
       "      <td>2560</td>\n",
       "      <td>2564</td>\n",
       "      <td>2578</td>\n",
       "      <td>2582</td>\n",
       "      <td>2591</td>\n",
       "      <td>2600</td>\n",
       "      <td>2610</td>\n",
       "      <td>2626</td>\n",
       "      <td>2637</td>\n",
       "    </tr>\n",
       "    <tr>\n",
       "      <th>28</th>\n",
       "      <td>青海</td>\n",
       "      <td>557</td>\n",
       "      <td>563</td>\n",
       "      <td>568</td>\n",
       "      <td>573</td>\n",
       "      <td>578</td>\n",
       "      <td>583</td>\n",
       "      <td>588</td>\n",
       "      <td>593</td>\n",
       "      <td>598</td>\n",
       "      <td>603</td>\n",
       "    </tr>\n",
       "    <tr>\n",
       "      <th>29</th>\n",
       "      <td>宁夏</td>\n",
       "      <td>625</td>\n",
       "      <td>633</td>\n",
       "      <td>639</td>\n",
       "      <td>647</td>\n",
       "      <td>654</td>\n",
       "      <td>662</td>\n",
       "      <td>668</td>\n",
       "      <td>675</td>\n",
       "      <td>682</td>\n",
       "      <td>688</td>\n",
       "    </tr>\n",
       "    <tr>\n",
       "      <th>30</th>\n",
       "      <td>新疆</td>\n",
       "      <td>2159</td>\n",
       "      <td>2185</td>\n",
       "      <td>2209</td>\n",
       "      <td>2233</td>\n",
       "      <td>2264</td>\n",
       "      <td>2298</td>\n",
       "      <td>2360</td>\n",
       "      <td>2398</td>\n",
       "      <td>2445</td>\n",
       "      <td>2487</td>\n",
       "    </tr>\n",
       "  </tbody>\n",
       "</table>\n",
       "<p>31 rows × 11 columns</p>\n",
       "</div>"
      ],
      "text/plain": [
       "    地区  2009  2010  2011  2012  2013  2014  2015  2016  2017  2018\n",
       "0   北京  1860  1962  2019  2069  2115  2152  2171  2173  2171  2154\n",
       "1   天津  1228  1299  1355  1413  1472  1517  1547  1562  1557  1560\n",
       "2   河北  7034  7194  7241  7288  7333  7384  7425  7470  7520  7556\n",
       "3   山西  3427  3574  3593  3611  3630  3648  3664  3682  3702  3718\n",
       "..  ..   ...   ...   ...   ...   ...   ...   ...   ...   ...   ...\n",
       "27  甘肃  2555  2560  2564  2578  2582  2591  2600  2610  2626  2637\n",
       "28  青海   557   563   568   573   578   583   588   593   598   603\n",
       "29  宁夏   625   633   639   647   654   662   668   675   682   688\n",
       "30  新疆  2159  2185  2209  2233  2264  2298  2360  2398  2445  2487\n",
       "\n",
       "[31 rows x 11 columns]"
      ]
     },
     "execution_count": 94,
     "metadata": {},
     "output_type": "execute_result"
    }
   ],
   "source": [
    "df2 = pd.read_excel(\"../实验三数据/各省人口数（2009-2018）.xlsx\")\n",
    "df2"
   ]
  },
  {
   "cell_type": "code",
   "execution_count": 95,
   "id": "7ff8c835",
   "metadata": {},
   "outputs": [
    {
     "data": {
      "text/html": [
       "<div>\n",
       "<style scoped>\n",
       "    .dataframe tbody tr th:only-of-type {\n",
       "        vertical-align: middle;\n",
       "    }\n",
       "\n",
       "    .dataframe tbody tr th {\n",
       "        vertical-align: top;\n",
       "    }\n",
       "\n",
       "    .dataframe thead th {\n",
       "        text-align: right;\n",
       "    }\n",
       "</style>\n",
       "<table border=\"1\" class=\"dataframe\">\n",
       "  <thead>\n",
       "    <tr style=\"text-align: right;\">\n",
       "      <th></th>\n",
       "      <th>地区</th>\n",
       "      <th>年份</th>\n",
       "      <th>人口数</th>\n",
       "    </tr>\n",
       "  </thead>\n",
       "  <tbody>\n",
       "    <tr>\n",
       "      <th>0</th>\n",
       "      <td>北京</td>\n",
       "      <td>2009</td>\n",
       "      <td>18600000</td>\n",
       "    </tr>\n",
       "    <tr>\n",
       "      <th>1</th>\n",
       "      <td>天津</td>\n",
       "      <td>2009</td>\n",
       "      <td>12280000</td>\n",
       "    </tr>\n",
       "    <tr>\n",
       "      <th>2</th>\n",
       "      <td>河北</td>\n",
       "      <td>2009</td>\n",
       "      <td>70340000</td>\n",
       "    </tr>\n",
       "    <tr>\n",
       "      <th>3</th>\n",
       "      <td>山西</td>\n",
       "      <td>2009</td>\n",
       "      <td>34270000</td>\n",
       "    </tr>\n",
       "    <tr>\n",
       "      <th>...</th>\n",
       "      <td>...</td>\n",
       "      <td>...</td>\n",
       "      <td>...</td>\n",
       "    </tr>\n",
       "    <tr>\n",
       "      <th>306</th>\n",
       "      <td>甘肃</td>\n",
       "      <td>2018</td>\n",
       "      <td>26370000</td>\n",
       "    </tr>\n",
       "    <tr>\n",
       "      <th>307</th>\n",
       "      <td>青海</td>\n",
       "      <td>2018</td>\n",
       "      <td>6030000</td>\n",
       "    </tr>\n",
       "    <tr>\n",
       "      <th>308</th>\n",
       "      <td>宁夏</td>\n",
       "      <td>2018</td>\n",
       "      <td>6880000</td>\n",
       "    </tr>\n",
       "    <tr>\n",
       "      <th>309</th>\n",
       "      <td>新疆</td>\n",
       "      <td>2018</td>\n",
       "      <td>24870000</td>\n",
       "    </tr>\n",
       "  </tbody>\n",
       "</table>\n",
       "<p>310 rows × 3 columns</p>\n",
       "</div>"
      ],
      "text/plain": [
       "     地区    年份       人口数\n",
       "0    北京  2009  18600000\n",
       "1    天津  2009  12280000\n",
       "2    河北  2009  70340000\n",
       "3    山西  2009  34270000\n",
       "..   ..   ...       ...\n",
       "306  甘肃  2018  26370000\n",
       "307  青海  2018   6030000\n",
       "308  宁夏  2018   6880000\n",
       "309  新疆  2018  24870000\n",
       "\n",
       "[310 rows x 3 columns]"
      ]
     },
     "execution_count": 95,
     "metadata": {},
     "output_type": "execute_result"
    }
   ],
   "source": [
    "df2 = pd.melt(df2,['地区'])\n",
    "df2.columns = ['地区','年份','人口数']\n",
    "df2.人口数 = df2.人口数*10000\n",
    "df2"
   ]
  },
  {
   "cell_type": "code",
   "execution_count": 96,
   "id": "dda3566f",
   "metadata": {},
   "outputs": [
    {
     "data": {
      "text/html": [
       "<div>\n",
       "<style scoped>\n",
       "    .dataframe tbody tr th:only-of-type {\n",
       "        vertical-align: middle;\n",
       "    }\n",
       "\n",
       "    .dataframe tbody tr th {\n",
       "        vertical-align: top;\n",
       "    }\n",
       "\n",
       "    .dataframe thead th {\n",
       "        text-align: right;\n",
       "    }\n",
       "</style>\n",
       "<table border=\"1\" class=\"dataframe\">\n",
       "  <thead>\n",
       "    <tr style=\"text-align: right;\">\n",
       "      <th></th>\n",
       "      <th>年份</th>\n",
       "      <th>地区</th>\n",
       "      <th>结案率</th>\n",
       "      <th>专利_申请量</th>\n",
       "      <th>专利_授权量</th>\n",
       "      <th>职务专利授权量百分比</th>\n",
       "    </tr>\n",
       "  </thead>\n",
       "  <tbody>\n",
       "    <tr>\n",
       "      <th>0</th>\n",
       "      <td>2009.0</td>\n",
       "      <td>北京</td>\n",
       "      <td>1.000000</td>\n",
       "      <td>319205</td>\n",
       "      <td>22921</td>\n",
       "      <td>0.745386</td>\n",
       "    </tr>\n",
       "    <tr>\n",
       "      <th>1</th>\n",
       "      <td>2009.0</td>\n",
       "      <td>天津</td>\n",
       "      <td>0.642857</td>\n",
       "      <td>123771</td>\n",
       "      <td>7404</td>\n",
       "      <td>0.799163</td>\n",
       "    </tr>\n",
       "    <tr>\n",
       "      <th>2</th>\n",
       "      <td>2009.0</td>\n",
       "      <td>河北</td>\n",
       "      <td>1.000000</td>\n",
       "      <td>97663</td>\n",
       "      <td>6839</td>\n",
       "      <td>0.444363</td>\n",
       "    </tr>\n",
       "    <tr>\n",
       "      <th>3</th>\n",
       "      <td>2009.0</td>\n",
       "      <td>山西</td>\n",
       "      <td>0.000000</td>\n",
       "      <td>40031</td>\n",
       "      <td>3227</td>\n",
       "      <td>0.552526</td>\n",
       "    </tr>\n",
       "    <tr>\n",
       "      <th>...</th>\n",
       "      <td>...</td>\n",
       "      <td>...</td>\n",
       "      <td>...</td>\n",
       "      <td>...</td>\n",
       "      <td>...</td>\n",
       "      <td>...</td>\n",
       "    </tr>\n",
       "    <tr>\n",
       "      <th>306</th>\n",
       "      <td>2018.0</td>\n",
       "      <td>青海</td>\n",
       "      <td>0.934286</td>\n",
       "      <td>27882</td>\n",
       "      <td>13958</td>\n",
       "      <td>0.740006</td>\n",
       "    </tr>\n",
       "    <tr>\n",
       "      <th>307</th>\n",
       "      <td>2018.0</td>\n",
       "      <td>宁夏</td>\n",
       "      <td>0.000000</td>\n",
       "      <td>4439</td>\n",
       "      <td>2668</td>\n",
       "      <td>0.776987</td>\n",
       "    </tr>\n",
       "    <tr>\n",
       "      <th>308</th>\n",
       "      <td>2018.0</td>\n",
       "      <td>新疆</td>\n",
       "      <td>0.837838</td>\n",
       "      <td>9860</td>\n",
       "      <td>5658</td>\n",
       "      <td>0.882114</td>\n",
       "    </tr>\n",
       "    <tr>\n",
       "      <th>309</th>\n",
       "      <td>2018.0</td>\n",
       "      <td>海南</td>\n",
       "      <td>1.000000</td>\n",
       "      <td>14647</td>\n",
       "      <td>9658</td>\n",
       "      <td>0.732036</td>\n",
       "    </tr>\n",
       "  </tbody>\n",
       "</table>\n",
       "<p>310 rows × 6 columns</p>\n",
       "</div>"
      ],
      "text/plain": [
       "         年份  地区       结案率  专利_申请量  专利_授权量  职务专利授权量百分比\n",
       "0    2009.0  北京  1.000000  319205   22921    0.745386\n",
       "1    2009.0  天津  0.642857  123771    7404    0.799163\n",
       "2    2009.0  河北  1.000000   97663    6839    0.444363\n",
       "3    2009.0  山西  0.000000   40031    3227    0.552526\n",
       "..      ...  ..       ...     ...     ...         ...\n",
       "306  2018.0  青海  0.934286   27882   13958    0.740006\n",
       "307  2018.0  宁夏  0.000000    4439    2668    0.776987\n",
       "308  2018.0  新疆  0.837838    9860    5658    0.882114\n",
       "309  2018.0  海南  1.000000   14647    9658    0.732036\n",
       "\n",
       "[310 rows x 6 columns]"
      ]
     },
     "execution_count": 96,
     "metadata": {},
     "output_type": "execute_result"
    }
   ],
   "source": [
    "df1.drop(df1[df1.年份 == 2008 ].index,inplace=True) \n",
    "df1 = df1.reset_index(drop=True)   ###重置索引\n",
    "df1"
   ]
  },
  {
   "cell_type": "code",
   "execution_count": 97,
   "id": "a99a8bfa",
   "metadata": {},
   "outputs": [
    {
     "data": {
      "text/html": [
       "<div>\n",
       "<style scoped>\n",
       "    .dataframe tbody tr th:only-of-type {\n",
       "        vertical-align: middle;\n",
       "    }\n",
       "\n",
       "    .dataframe tbody tr th {\n",
       "        vertical-align: top;\n",
       "    }\n",
       "\n",
       "    .dataframe thead th {\n",
       "        text-align: right;\n",
       "    }\n",
       "</style>\n",
       "<table border=\"1\" class=\"dataframe\">\n",
       "  <thead>\n",
       "    <tr style=\"text-align: right;\">\n",
       "      <th></th>\n",
       "      <th>年份</th>\n",
       "      <th>地区</th>\n",
       "      <th>结案率</th>\n",
       "      <th>专利_申请量</th>\n",
       "      <th>专利_授权量</th>\n",
       "      <th>职务专利授权量百分比</th>\n",
       "      <th>人口数</th>\n",
       "    </tr>\n",
       "  </thead>\n",
       "  <tbody>\n",
       "    <tr>\n",
       "      <th>0</th>\n",
       "      <td>2009.0</td>\n",
       "      <td>北京</td>\n",
       "      <td>1.000000</td>\n",
       "      <td>319205</td>\n",
       "      <td>22921</td>\n",
       "      <td>0.745386</td>\n",
       "      <td>18600000</td>\n",
       "    </tr>\n",
       "    <tr>\n",
       "      <th>1</th>\n",
       "      <td>2009.0</td>\n",
       "      <td>天津</td>\n",
       "      <td>0.642857</td>\n",
       "      <td>123771</td>\n",
       "      <td>7404</td>\n",
       "      <td>0.799163</td>\n",
       "      <td>12280000</td>\n",
       "    </tr>\n",
       "    <tr>\n",
       "      <th>2</th>\n",
       "      <td>2009.0</td>\n",
       "      <td>河北</td>\n",
       "      <td>1.000000</td>\n",
       "      <td>97663</td>\n",
       "      <td>6839</td>\n",
       "      <td>0.444363</td>\n",
       "      <td>70340000</td>\n",
       "    </tr>\n",
       "    <tr>\n",
       "      <th>3</th>\n",
       "      <td>2009.0</td>\n",
       "      <td>山西</td>\n",
       "      <td>0.000000</td>\n",
       "      <td>40031</td>\n",
       "      <td>3227</td>\n",
       "      <td>0.552526</td>\n",
       "      <td>34270000</td>\n",
       "    </tr>\n",
       "    <tr>\n",
       "      <th>...</th>\n",
       "      <td>...</td>\n",
       "      <td>...</td>\n",
       "      <td>...</td>\n",
       "      <td>...</td>\n",
       "      <td>...</td>\n",
       "      <td>...</td>\n",
       "      <td>...</td>\n",
       "    </tr>\n",
       "    <tr>\n",
       "      <th>306</th>\n",
       "      <td>2018.0</td>\n",
       "      <td>青海</td>\n",
       "      <td>0.934286</td>\n",
       "      <td>27882</td>\n",
       "      <td>13958</td>\n",
       "      <td>0.740006</td>\n",
       "      <td>6030000</td>\n",
       "    </tr>\n",
       "    <tr>\n",
       "      <th>307</th>\n",
       "      <td>2018.0</td>\n",
       "      <td>宁夏</td>\n",
       "      <td>0.000000</td>\n",
       "      <td>4439</td>\n",
       "      <td>2668</td>\n",
       "      <td>0.776987</td>\n",
       "      <td>6880000</td>\n",
       "    </tr>\n",
       "    <tr>\n",
       "      <th>308</th>\n",
       "      <td>2018.0</td>\n",
       "      <td>新疆</td>\n",
       "      <td>0.837838</td>\n",
       "      <td>9860</td>\n",
       "      <td>5658</td>\n",
       "      <td>0.882114</td>\n",
       "      <td>24870000</td>\n",
       "    </tr>\n",
       "    <tr>\n",
       "      <th>309</th>\n",
       "      <td>2018.0</td>\n",
       "      <td>海南</td>\n",
       "      <td>1.000000</td>\n",
       "      <td>14647</td>\n",
       "      <td>9658</td>\n",
       "      <td>0.732036</td>\n",
       "      <td>9340000</td>\n",
       "    </tr>\n",
       "  </tbody>\n",
       "</table>\n",
       "<p>310 rows × 7 columns</p>\n",
       "</div>"
      ],
      "text/plain": [
       "         年份  地区       结案率  专利_申请量  专利_授权量  职务专利授权量百分比       人口数\n",
       "0    2009.0  北京  1.000000  319205   22921    0.745386  18600000\n",
       "1    2009.0  天津  0.642857  123771    7404    0.799163  12280000\n",
       "2    2009.0  河北  1.000000   97663    6839    0.444363  70340000\n",
       "3    2009.0  山西  0.000000   40031    3227    0.552526  34270000\n",
       "..      ...  ..       ...     ...     ...         ...       ...\n",
       "306  2018.0  青海  0.934286   27882   13958    0.740006   6030000\n",
       "307  2018.0  宁夏  0.000000    4439    2668    0.776987   6880000\n",
       "308  2018.0  新疆  0.837838    9860    5658    0.882114  24870000\n",
       "309  2018.0  海南  1.000000   14647    9658    0.732036   9340000\n",
       "\n",
       "[310 rows x 7 columns]"
      ]
     },
     "execution_count": 97,
     "metadata": {},
     "output_type": "execute_result"
    }
   ],
   "source": [
    "df = pd.merge(df1,df2)\n",
    "df"
   ]
  },
  {
   "cell_type": "code",
   "execution_count": 98,
   "id": "9a55804f",
   "metadata": {},
   "outputs": [
    {
     "data": {
      "text/html": [
       "<div>\n",
       "<style scoped>\n",
       "    .dataframe tbody tr th:only-of-type {\n",
       "        vertical-align: middle;\n",
       "    }\n",
       "\n",
       "    .dataframe tbody tr th {\n",
       "        vertical-align: top;\n",
       "    }\n",
       "\n",
       "    .dataframe thead th {\n",
       "        text-align: right;\n",
       "    }\n",
       "</style>\n",
       "<table border=\"1\" class=\"dataframe\">\n",
       "  <thead>\n",
       "    <tr style=\"text-align: right;\">\n",
       "      <th></th>\n",
       "      <th>地区</th>\n",
       "      <th>2009</th>\n",
       "      <th>2010</th>\n",
       "      <th>2011</th>\n",
       "      <th>2012</th>\n",
       "      <th>2013</th>\n",
       "      <th>2014</th>\n",
       "      <th>2015</th>\n",
       "      <th>2016</th>\n",
       "      <th>2017</th>\n",
       "      <th>2018</th>\n",
       "    </tr>\n",
       "  </thead>\n",
       "  <tbody>\n",
       "    <tr>\n",
       "      <th>0</th>\n",
       "      <td>北京</td>\n",
       "      <td>12153.03</td>\n",
       "      <td>14113.58</td>\n",
       "      <td>16251.93</td>\n",
       "      <td>17879.40</td>\n",
       "      <td>19500.56</td>\n",
       "      <td>21330.8</td>\n",
       "      <td>23014.6</td>\n",
       "      <td>25669.1</td>\n",
       "      <td>28014.9</td>\n",
       "      <td>30319.98</td>\n",
       "    </tr>\n",
       "    <tr>\n",
       "      <th>1</th>\n",
       "      <td>天津</td>\n",
       "      <td>7521.85</td>\n",
       "      <td>9224.46</td>\n",
       "      <td>11307.28</td>\n",
       "      <td>12893.88</td>\n",
       "      <td>14370.16</td>\n",
       "      <td>15727.0</td>\n",
       "      <td>16538.2</td>\n",
       "      <td>17885.4</td>\n",
       "      <td>18549.2</td>\n",
       "      <td>18809.64</td>\n",
       "    </tr>\n",
       "    <tr>\n",
       "      <th>2</th>\n",
       "      <td>河北</td>\n",
       "      <td>17235.48</td>\n",
       "      <td>20394.26</td>\n",
       "      <td>24515.76</td>\n",
       "      <td>26575.01</td>\n",
       "      <td>28301.41</td>\n",
       "      <td>29421.2</td>\n",
       "      <td>29806.4</td>\n",
       "      <td>32070.5</td>\n",
       "      <td>34016.3</td>\n",
       "      <td>36010.27</td>\n",
       "    </tr>\n",
       "    <tr>\n",
       "      <th>3</th>\n",
       "      <td>山西</td>\n",
       "      <td>7358.31</td>\n",
       "      <td>9200.86</td>\n",
       "      <td>11237.55</td>\n",
       "      <td>12112.83</td>\n",
       "      <td>12602.24</td>\n",
       "      <td>12761.5</td>\n",
       "      <td>12766.5</td>\n",
       "      <td>13055.6</td>\n",
       "      <td>15528.4</td>\n",
       "      <td>16818.11</td>\n",
       "    </tr>\n",
       "    <tr>\n",
       "      <th>...</th>\n",
       "      <td>...</td>\n",
       "      <td>...</td>\n",
       "      <td>...</td>\n",
       "      <td>...</td>\n",
       "      <td>...</td>\n",
       "      <td>...</td>\n",
       "      <td>...</td>\n",
       "      <td>...</td>\n",
       "      <td>...</td>\n",
       "      <td>...</td>\n",
       "      <td>...</td>\n",
       "    </tr>\n",
       "    <tr>\n",
       "      <th>27</th>\n",
       "      <td>甘肃</td>\n",
       "      <td>3387.56</td>\n",
       "      <td>4120.75</td>\n",
       "      <td>5020.37</td>\n",
       "      <td>5650.20</td>\n",
       "      <td>6268.01</td>\n",
       "      <td>6836.8</td>\n",
       "      <td>6790.3</td>\n",
       "      <td>7200.4</td>\n",
       "      <td>7459.9</td>\n",
       "      <td>8246.07</td>\n",
       "    </tr>\n",
       "    <tr>\n",
       "      <th>28</th>\n",
       "      <td>青海</td>\n",
       "      <td>1081.27</td>\n",
       "      <td>1350.43</td>\n",
       "      <td>1670.44</td>\n",
       "      <td>1893.54</td>\n",
       "      <td>2101.05</td>\n",
       "      <td>2303.3</td>\n",
       "      <td>2417.1</td>\n",
       "      <td>2572.5</td>\n",
       "      <td>2624.8</td>\n",
       "      <td>2865.23</td>\n",
       "    </tr>\n",
       "    <tr>\n",
       "      <th>29</th>\n",
       "      <td>宁夏</td>\n",
       "      <td>1353.31</td>\n",
       "      <td>1689.65</td>\n",
       "      <td>2102.21</td>\n",
       "      <td>2341.29</td>\n",
       "      <td>2565.06</td>\n",
       "      <td>2752.1</td>\n",
       "      <td>2911.8</td>\n",
       "      <td>3168.6</td>\n",
       "      <td>3443.6</td>\n",
       "      <td>3705.18</td>\n",
       "    </tr>\n",
       "    <tr>\n",
       "      <th>30</th>\n",
       "      <td>新疆</td>\n",
       "      <td>4277.05</td>\n",
       "      <td>5437.47</td>\n",
       "      <td>6610.05</td>\n",
       "      <td>7505.31</td>\n",
       "      <td>8360.24</td>\n",
       "      <td>9273.5</td>\n",
       "      <td>9324.8</td>\n",
       "      <td>9649.7</td>\n",
       "      <td>10882.0</td>\n",
       "      <td>12199.08</td>\n",
       "    </tr>\n",
       "  </tbody>\n",
       "</table>\n",
       "<p>31 rows × 11 columns</p>\n",
       "</div>"
      ],
      "text/plain": [
       "    地区      2009      2010      2011      2012      2013     2014     2015  \\\n",
       "0   北京  12153.03  14113.58  16251.93  17879.40  19500.56  21330.8  23014.6   \n",
       "1   天津   7521.85   9224.46  11307.28  12893.88  14370.16  15727.0  16538.2   \n",
       "2   河北  17235.48  20394.26  24515.76  26575.01  28301.41  29421.2  29806.4   \n",
       "3   山西   7358.31   9200.86  11237.55  12112.83  12602.24  12761.5  12766.5   \n",
       "..  ..       ...       ...       ...       ...       ...      ...      ...   \n",
       "27  甘肃   3387.56   4120.75   5020.37   5650.20   6268.01   6836.8   6790.3   \n",
       "28  青海   1081.27   1350.43   1670.44   1893.54   2101.05   2303.3   2417.1   \n",
       "29  宁夏   1353.31   1689.65   2102.21   2341.29   2565.06   2752.1   2911.8   \n",
       "30  新疆   4277.05   5437.47   6610.05   7505.31   8360.24   9273.5   9324.8   \n",
       "\n",
       "       2016     2017      2018  \n",
       "0   25669.1  28014.9  30319.98  \n",
       "1   17885.4  18549.2  18809.64  \n",
       "2   32070.5  34016.3  36010.27  \n",
       "3   13055.6  15528.4  16818.11  \n",
       "..      ...      ...       ...  \n",
       "27   7200.4   7459.9   8246.07  \n",
       "28   2572.5   2624.8   2865.23  \n",
       "29   3168.6   3443.6   3705.18  \n",
       "30   9649.7  10882.0  12199.08  \n",
       "\n",
       "[31 rows x 11 columns]"
      ]
     },
     "execution_count": 98,
     "metadata": {},
     "output_type": "execute_result"
    }
   ],
   "source": [
    "middf"
   ]
  },
  {
   "cell_type": "code",
   "execution_count": 99,
   "id": "a80d3e99",
   "metadata": {},
   "outputs": [
    {
     "data": {
      "text/html": [
       "<div>\n",
       "<style scoped>\n",
       "    .dataframe tbody tr th:only-of-type {\n",
       "        vertical-align: middle;\n",
       "    }\n",
       "\n",
       "    .dataframe tbody tr th {\n",
       "        vertical-align: top;\n",
       "    }\n",
       "\n",
       "    .dataframe thead th {\n",
       "        text-align: right;\n",
       "    }\n",
       "</style>\n",
       "<table border=\"1\" class=\"dataframe\">\n",
       "  <thead>\n",
       "    <tr style=\"text-align: right;\">\n",
       "      <th></th>\n",
       "      <th>地区</th>\n",
       "      <th>年份</th>\n",
       "      <th>GDP</th>\n",
       "    </tr>\n",
       "  </thead>\n",
       "  <tbody>\n",
       "    <tr>\n",
       "      <th>0</th>\n",
       "      <td>北京</td>\n",
       "      <td>2009</td>\n",
       "      <td>1.215303e+13</td>\n",
       "    </tr>\n",
       "    <tr>\n",
       "      <th>1</th>\n",
       "      <td>天津</td>\n",
       "      <td>2009</td>\n",
       "      <td>7.521850e+12</td>\n",
       "    </tr>\n",
       "    <tr>\n",
       "      <th>2</th>\n",
       "      <td>河北</td>\n",
       "      <td>2009</td>\n",
       "      <td>1.723548e+13</td>\n",
       "    </tr>\n",
       "    <tr>\n",
       "      <th>3</th>\n",
       "      <td>山西</td>\n",
       "      <td>2009</td>\n",
       "      <td>7.358310e+12</td>\n",
       "    </tr>\n",
       "    <tr>\n",
       "      <th>...</th>\n",
       "      <td>...</td>\n",
       "      <td>...</td>\n",
       "      <td>...</td>\n",
       "    </tr>\n",
       "    <tr>\n",
       "      <th>306</th>\n",
       "      <td>甘肃</td>\n",
       "      <td>2018</td>\n",
       "      <td>8.246070e+12</td>\n",
       "    </tr>\n",
       "    <tr>\n",
       "      <th>307</th>\n",
       "      <td>青海</td>\n",
       "      <td>2018</td>\n",
       "      <td>2.865230e+12</td>\n",
       "    </tr>\n",
       "    <tr>\n",
       "      <th>308</th>\n",
       "      <td>宁夏</td>\n",
       "      <td>2018</td>\n",
       "      <td>3.705180e+12</td>\n",
       "    </tr>\n",
       "    <tr>\n",
       "      <th>309</th>\n",
       "      <td>新疆</td>\n",
       "      <td>2018</td>\n",
       "      <td>1.219908e+13</td>\n",
       "    </tr>\n",
       "  </tbody>\n",
       "</table>\n",
       "<p>310 rows × 3 columns</p>\n",
       "</div>"
      ],
      "text/plain": [
       "     地区    年份           GDP\n",
       "0    北京  2009  1.215303e+13\n",
       "1    天津  2009  7.521850e+12\n",
       "2    河北  2009  1.723548e+13\n",
       "3    山西  2009  7.358310e+12\n",
       "..   ..   ...           ...\n",
       "306  甘肃  2018  8.246070e+12\n",
       "307  青海  2018  2.865230e+12\n",
       "308  宁夏  2018  3.705180e+12\n",
       "309  新疆  2018  1.219908e+13\n",
       "\n",
       "[310 rows x 3 columns]"
      ]
     },
     "execution_count": 99,
     "metadata": {},
     "output_type": "execute_result"
    },
    {
     "data": {
      "text/html": [
       "<div>\n",
       "<style scoped>\n",
       "    .dataframe tbody tr th:only-of-type {\n",
       "        vertical-align: middle;\n",
       "    }\n",
       "\n",
       "    .dataframe tbody tr th {\n",
       "        vertical-align: top;\n",
       "    }\n",
       "\n",
       "    .dataframe thead th {\n",
       "        text-align: right;\n",
       "    }\n",
       "</style>\n",
       "<table border=\"1\" class=\"dataframe\">\n",
       "  <thead>\n",
       "    <tr style=\"text-align: right;\">\n",
       "      <th></th>\n",
       "      <th>地区</th>\n",
       "      <th>年份</th>\n",
       "      <th>进出口总额</th>\n",
       "    </tr>\n",
       "  </thead>\n",
       "  <tbody>\n",
       "    <tr>\n",
       "      <th>0</th>\n",
       "      <td>北京</td>\n",
       "      <td>2009</td>\n",
       "      <td>5.685758e+12</td>\n",
       "    </tr>\n",
       "    <tr>\n",
       "      <th>1</th>\n",
       "      <td>天津</td>\n",
       "      <td>2009</td>\n",
       "      <td>4.702551e+12</td>\n",
       "    </tr>\n",
       "    <tr>\n",
       "      <th>2</th>\n",
       "      <td>河北</td>\n",
       "      <td>2009</td>\n",
       "      <td>2.629067e+12</td>\n",
       "    </tr>\n",
       "    <tr>\n",
       "      <th>3</th>\n",
       "      <td>山西</td>\n",
       "      <td>2009</td>\n",
       "      <td>6.084655e+11</td>\n",
       "    </tr>\n",
       "    <tr>\n",
       "      <th>...</th>\n",
       "      <td>...</td>\n",
       "      <td>...</td>\n",
       "      <td>...</td>\n",
       "    </tr>\n",
       "    <tr>\n",
       "      <th>306</th>\n",
       "      <td>甘肃</td>\n",
       "      <td>2018</td>\n",
       "      <td>4.237061e+11</td>\n",
       "    </tr>\n",
       "    <tr>\n",
       "      <th>307</th>\n",
       "      <td>青海</td>\n",
       "      <td>2018</td>\n",
       "      <td>3.786588e+10</td>\n",
       "    </tr>\n",
       "    <tr>\n",
       "      <th>308</th>\n",
       "      <td>宁夏</td>\n",
       "      <td>2018</td>\n",
       "      <td>2.644083e+11</td>\n",
       "    </tr>\n",
       "    <tr>\n",
       "      <th>309</th>\n",
       "      <td>新疆</td>\n",
       "      <td>2018</td>\n",
       "      <td>2.265424e+12</td>\n",
       "    </tr>\n",
       "  </tbody>\n",
       "</table>\n",
       "<p>310 rows × 3 columns</p>\n",
       "</div>"
      ],
      "text/plain": [
       "     地区    年份         进出口总额\n",
       "0    北京  2009  5.685758e+12\n",
       "1    天津  2009  4.702551e+12\n",
       "2    河北  2009  2.629067e+12\n",
       "3    山西  2009  6.084655e+11\n",
       "..   ..   ...           ...\n",
       "306  甘肃  2018  4.237061e+11\n",
       "307  青海  2018  3.786588e+10\n",
       "308  宁夏  2018  2.644083e+11\n",
       "309  新疆  2018  2.265424e+12\n",
       "\n",
       "[310 rows x 3 columns]"
      ]
     },
     "execution_count": 99,
     "metadata": {},
     "output_type": "execute_result"
    },
    {
     "data": {
      "text/html": [
       "<div>\n",
       "<style scoped>\n",
       "    .dataframe tbody tr th:only-of-type {\n",
       "        vertical-align: middle;\n",
       "    }\n",
       "\n",
       "    .dataframe tbody tr th {\n",
       "        vertical-align: top;\n",
       "    }\n",
       "\n",
       "    .dataframe thead th {\n",
       "        text-align: right;\n",
       "    }\n",
       "</style>\n",
       "<table border=\"1\" class=\"dataframe\">\n",
       "  <thead>\n",
       "    <tr style=\"text-align: right;\">\n",
       "      <th></th>\n",
       "      <th>地区</th>\n",
       "      <th>年份</th>\n",
       "      <th>全社会固定资产投入</th>\n",
       "    </tr>\n",
       "  </thead>\n",
       "  <tbody>\n",
       "    <tr>\n",
       "      <th>0</th>\n",
       "      <td>北京</td>\n",
       "      <td>2009</td>\n",
       "      <td>3.814700e+12</td>\n",
       "    </tr>\n",
       "    <tr>\n",
       "      <th>1</th>\n",
       "      <td>天津</td>\n",
       "      <td>2009</td>\n",
       "      <td>3.389800e+12</td>\n",
       "    </tr>\n",
       "    <tr>\n",
       "      <th>2</th>\n",
       "      <td>河北</td>\n",
       "      <td>2009</td>\n",
       "      <td>8.866600e+12</td>\n",
       "    </tr>\n",
       "    <tr>\n",
       "      <th>3</th>\n",
       "      <td>山西</td>\n",
       "      <td>2009</td>\n",
       "      <td>3.531200e+12</td>\n",
       "    </tr>\n",
       "    <tr>\n",
       "      <th>...</th>\n",
       "      <td>...</td>\n",
       "      <td>...</td>\n",
       "      <td>...</td>\n",
       "    </tr>\n",
       "    <tr>\n",
       "      <th>306</th>\n",
       "      <td>甘肃</td>\n",
       "      <td>2018</td>\n",
       "      <td>5.827800e+12</td>\n",
       "    </tr>\n",
       "    <tr>\n",
       "      <th>307</th>\n",
       "      <td>青海</td>\n",
       "      <td>2018</td>\n",
       "      <td>3.883600e+12</td>\n",
       "    </tr>\n",
       "    <tr>\n",
       "      <th>308</th>\n",
       "      <td>宁夏</td>\n",
       "      <td>2018</td>\n",
       "      <td>3.728400e+12</td>\n",
       "    </tr>\n",
       "    <tr>\n",
       "      <th>309</th>\n",
       "      <td>新疆</td>\n",
       "      <td>2018</td>\n",
       "      <td>1.208910e+13</td>\n",
       "    </tr>\n",
       "  </tbody>\n",
       "</table>\n",
       "<p>310 rows × 3 columns</p>\n",
       "</div>"
      ],
      "text/plain": [
       "     地区    年份     全社会固定资产投入\n",
       "0    北京  2009  3.814700e+12\n",
       "1    天津  2009  3.389800e+12\n",
       "2    河北  2009  8.866600e+12\n",
       "3    山西  2009  3.531200e+12\n",
       "..   ..   ...           ...\n",
       "306  甘肃  2018  5.827800e+12\n",
       "307  青海  2018  3.883600e+12\n",
       "308  宁夏  2018  3.728400e+12\n",
       "309  新疆  2018  1.208910e+13\n",
       "\n",
       "[310 rows x 3 columns]"
      ]
     },
     "execution_count": 99,
     "metadata": {},
     "output_type": "execute_result"
    },
    {
     "data": {
      "text/html": [
       "<div>\n",
       "<style scoped>\n",
       "    .dataframe tbody tr th:only-of-type {\n",
       "        vertical-align: middle;\n",
       "    }\n",
       "\n",
       "    .dataframe tbody tr th {\n",
       "        vertical-align: top;\n",
       "    }\n",
       "\n",
       "    .dataframe thead th {\n",
       "        text-align: right;\n",
       "    }\n",
       "</style>\n",
       "<table border=\"1\" class=\"dataframe\">\n",
       "  <thead>\n",
       "    <tr style=\"text-align: right;\">\n",
       "      <th></th>\n",
       "      <th>地区</th>\n",
       "      <th>年份</th>\n",
       "      <th>外商直接投资</th>\n",
       "    </tr>\n",
       "  </thead>\n",
       "  <tbody>\n",
       "    <tr>\n",
       "      <th>0</th>\n",
       "      <td>北京</td>\n",
       "      <td>2009</td>\n",
       "      <td>6.960005e+11</td>\n",
       "    </tr>\n",
       "    <tr>\n",
       "      <th>1</th>\n",
       "      <td>天津</td>\n",
       "      <td>2009</td>\n",
       "      <td>6.379747e+11</td>\n",
       "    </tr>\n",
       "    <tr>\n",
       "      <th>2</th>\n",
       "      <td>河北</td>\n",
       "      <td>2009</td>\n",
       "      <td>2.418189e+11</td>\n",
       "    </tr>\n",
       "    <tr>\n",
       "      <th>3</th>\n",
       "      <td>山西</td>\n",
       "      <td>2009</td>\n",
       "      <td>1.338139e+11</td>\n",
       "    </tr>\n",
       "    <tr>\n",
       "      <th>...</th>\n",
       "      <td>...</td>\n",
       "      <td>...</td>\n",
       "      <td>...</td>\n",
       "    </tr>\n",
       "    <tr>\n",
       "      <th>306</th>\n",
       "      <td>甘肃</td>\n",
       "      <td>2018</td>\n",
       "      <td>5.140561e+10</td>\n",
       "    </tr>\n",
       "    <tr>\n",
       "      <th>307</th>\n",
       "      <td>青海</td>\n",
       "      <td>2018</td>\n",
       "      <td>1.206286e+11</td>\n",
       "    </tr>\n",
       "    <tr>\n",
       "      <th>308</th>\n",
       "      <td>宁夏</td>\n",
       "      <td>2018</td>\n",
       "      <td>1.380835e+11</td>\n",
       "    </tr>\n",
       "    <tr>\n",
       "      <th>309</th>\n",
       "      <td>新疆</td>\n",
       "      <td>2018</td>\n",
       "      <td>6.058105e+11</td>\n",
       "    </tr>\n",
       "  </tbody>\n",
       "</table>\n",
       "<p>310 rows × 3 columns</p>\n",
       "</div>"
      ],
      "text/plain": [
       "     地区    年份        外商直接投资\n",
       "0    北京  2009  6.960005e+11\n",
       "1    天津  2009  6.379747e+11\n",
       "2    河北  2009  2.418189e+11\n",
       "3    山西  2009  1.338139e+11\n",
       "..   ..   ...           ...\n",
       "306  甘肃  2018  5.140561e+10\n",
       "307  青海  2018  1.206286e+11\n",
       "308  宁夏  2018  1.380835e+11\n",
       "309  新疆  2018  6.058105e+11\n",
       "\n",
       "[310 rows x 3 columns]"
      ]
     },
     "execution_count": 99,
     "metadata": {},
     "output_type": "execute_result"
    }
   ],
   "source": [
    "\n",
    "middf = pd.melt(middf.reset_index(),id_vars='地区',value_vars=[str(year) for year in range(2009,2019)])\n",
    "middf.columns = ['地区','年份','GDP']\n",
    "middf['GDP'] = middf['GDP'].astype(\"float64\")\n",
    "middf.GDP = middf.GDP * 1000000000\n",
    "middf\n",
    "df4 = pd.read_excel(\"../实验三数据/各省进出口总额.xlsx\")\n",
    "df4.dropna(axis=1,inplace=True)\n",
    "df4.columns = ['地区',2009,2010,2011,2012,2013,2014,2015,2016,2017,2018]\n",
    "df4 = pd.melt(df4,id_vars='地区',value_vars=[2009,2010,2011,2012,2013,2014,2015,2016,2017,2018])\n",
    "df4.columns = ['地区','年份','进出口总额']\n",
    "df4['进出口总额'] = df4['进出口总额']*6528600000\n",
    "df4\n",
    "\n",
    "df5 = pd.read_excel(\"../实验三数据/全社会固定资产投入.xlsx\")\n",
    "df5.dropna(axis=1,inplace=True)\n",
    "df5.columns = ['地区',2009,2010,2011,2012,2013,2014,2015,2016,2017,2018]\n",
    "df5 = pd.melt(df5,id_vars='地区',value_vars=[2009,2010,2011,2012,2013,2014,2015,2016,2017,2018])\n",
    "df5.columns = ['地区','年份','全社会固定资产投入']\n",
    "df5['全社会固定资产投入'] = df5['全社会固定资产投入']*1000000000\n",
    "df5\n",
    "\n",
    "df6 = pd.read_excel(\"../实验三数据/外商直接投资（FDI）.xlsx\")\n",
    "df6.dropna(axis=1,inplace=True)\n",
    "df6.columns = ['地区',2009,2010,2011,2012,2013,2014,2015,2016,2017,2018]\n",
    "df6 = pd.melt(df6,id_vars='地区',value_vars=[2009,2010,2011,2012,2013,2014,2015,2016,2017,2018])\n",
    "df6.columns = ['地区','年份','外商直接投资']\n",
    "df6['外商直接投资'] = df6['外商直接投资']*6.5286*10000\n",
    "\n",
    "\n",
    "df6"
   ]
  },
  {
   "cell_type": "code",
   "execution_count": 100,
   "id": "88916490",
   "metadata": {},
   "outputs": [
    {
     "data": {
      "text/html": [
       "<div>\n",
       "<style scoped>\n",
       "    .dataframe tbody tr th:only-of-type {\n",
       "        vertical-align: middle;\n",
       "    }\n",
       "\n",
       "    .dataframe tbody tr th {\n",
       "        vertical-align: top;\n",
       "    }\n",
       "\n",
       "    .dataframe thead th {\n",
       "        text-align: right;\n",
       "    }\n",
       "</style>\n",
       "<table border=\"1\" class=\"dataframe\">\n",
       "  <thead>\n",
       "    <tr style=\"text-align: right;\">\n",
       "      <th></th>\n",
       "      <th>年份</th>\n",
       "      <th>地区</th>\n",
       "      <th>结案率</th>\n",
       "      <th>专利_申请量</th>\n",
       "      <th>专利_授权量</th>\n",
       "      <th>职务专利授权量百分比</th>\n",
       "      <th>人口数</th>\n",
       "      <th>GDP</th>\n",
       "      <th>进出口总额</th>\n",
       "      <th>全社会固定资产投入</th>\n",
       "      <th>外商直接投资</th>\n",
       "    </tr>\n",
       "  </thead>\n",
       "  <tbody>\n",
       "    <tr>\n",
       "      <th>0</th>\n",
       "      <td>2009.0</td>\n",
       "      <td>北京</td>\n",
       "      <td>1.000000</td>\n",
       "      <td>319205</td>\n",
       "      <td>22921</td>\n",
       "      <td>0.745386</td>\n",
       "      <td>18600000</td>\n",
       "      <td>1.215303e+13</td>\n",
       "      <td>5.685758e+12</td>\n",
       "      <td>3.814700e+12</td>\n",
       "      <td>6.960005e+11</td>\n",
       "    </tr>\n",
       "    <tr>\n",
       "      <th>1</th>\n",
       "      <td>2009.0</td>\n",
       "      <td>天津</td>\n",
       "      <td>0.642857</td>\n",
       "      <td>123771</td>\n",
       "      <td>7404</td>\n",
       "      <td>0.799163</td>\n",
       "      <td>12280000</td>\n",
       "      <td>7.521850e+12</td>\n",
       "      <td>4.702551e+12</td>\n",
       "      <td>3.389800e+12</td>\n",
       "      <td>6.379747e+11</td>\n",
       "    </tr>\n",
       "    <tr>\n",
       "      <th>2</th>\n",
       "      <td>2009.0</td>\n",
       "      <td>河北</td>\n",
       "      <td>1.000000</td>\n",
       "      <td>97663</td>\n",
       "      <td>6839</td>\n",
       "      <td>0.444363</td>\n",
       "      <td>70340000</td>\n",
       "      <td>1.723548e+13</td>\n",
       "      <td>2.629067e+12</td>\n",
       "      <td>8.866600e+12</td>\n",
       "      <td>2.418189e+11</td>\n",
       "    </tr>\n",
       "    <tr>\n",
       "      <th>3</th>\n",
       "      <td>2009.0</td>\n",
       "      <td>山西</td>\n",
       "      <td>0.000000</td>\n",
       "      <td>40031</td>\n",
       "      <td>3227</td>\n",
       "      <td>0.552526</td>\n",
       "      <td>34270000</td>\n",
       "      <td>7.358310e+12</td>\n",
       "      <td>6.084655e+11</td>\n",
       "      <td>3.531200e+12</td>\n",
       "      <td>1.338139e+11</td>\n",
       "    </tr>\n",
       "    <tr>\n",
       "      <th>...</th>\n",
       "      <td>...</td>\n",
       "      <td>...</td>\n",
       "      <td>...</td>\n",
       "      <td>...</td>\n",
       "      <td>...</td>\n",
       "      <td>...</td>\n",
       "      <td>...</td>\n",
       "      <td>...</td>\n",
       "      <td>...</td>\n",
       "      <td>...</td>\n",
       "      <td>...</td>\n",
       "    </tr>\n",
       "    <tr>\n",
       "      <th>306</th>\n",
       "      <td>2018.0</td>\n",
       "      <td>青海</td>\n",
       "      <td>0.934286</td>\n",
       "      <td>27882</td>\n",
       "      <td>13958</td>\n",
       "      <td>0.740006</td>\n",
       "      <td>6030000</td>\n",
       "      <td>8.246070e+12</td>\n",
       "      <td>4.237061e+11</td>\n",
       "      <td>5.827800e+12</td>\n",
       "      <td>5.140561e+10</td>\n",
       "    </tr>\n",
       "    <tr>\n",
       "      <th>307</th>\n",
       "      <td>2018.0</td>\n",
       "      <td>宁夏</td>\n",
       "      <td>0.000000</td>\n",
       "      <td>4439</td>\n",
       "      <td>2668</td>\n",
       "      <td>0.776987</td>\n",
       "      <td>6880000</td>\n",
       "      <td>2.865230e+12</td>\n",
       "      <td>3.786588e+10</td>\n",
       "      <td>3.883600e+12</td>\n",
       "      <td>1.206286e+11</td>\n",
       "    </tr>\n",
       "    <tr>\n",
       "      <th>308</th>\n",
       "      <td>2018.0</td>\n",
       "      <td>新疆</td>\n",
       "      <td>0.837838</td>\n",
       "      <td>9860</td>\n",
       "      <td>5658</td>\n",
       "      <td>0.882114</td>\n",
       "      <td>24870000</td>\n",
       "      <td>3.705180e+12</td>\n",
       "      <td>2.644083e+11</td>\n",
       "      <td>3.728400e+12</td>\n",
       "      <td>1.380835e+11</td>\n",
       "    </tr>\n",
       "    <tr>\n",
       "      <th>309</th>\n",
       "      <td>2018.0</td>\n",
       "      <td>海南</td>\n",
       "      <td>1.000000</td>\n",
       "      <td>14647</td>\n",
       "      <td>9658</td>\n",
       "      <td>0.732036</td>\n",
       "      <td>9340000</td>\n",
       "      <td>1.219908e+13</td>\n",
       "      <td>2.265424e+12</td>\n",
       "      <td>1.208910e+13</td>\n",
       "      <td>6.058105e+11</td>\n",
       "    </tr>\n",
       "  </tbody>\n",
       "</table>\n",
       "<p>310 rows × 11 columns</p>\n",
       "</div>"
      ],
      "text/plain": [
       "         年份  地区       结案率  专利_申请量  专利_授权量  职务专利授权量百分比       人口数           GDP  \\\n",
       "0    2009.0  北京  1.000000  319205   22921    0.745386  18600000  1.215303e+13   \n",
       "1    2009.0  天津  0.642857  123771    7404    0.799163  12280000  7.521850e+12   \n",
       "2    2009.0  河北  1.000000   97663    6839    0.444363  70340000  1.723548e+13   \n",
       "3    2009.0  山西  0.000000   40031    3227    0.552526  34270000  7.358310e+12   \n",
       "..      ...  ..       ...     ...     ...         ...       ...           ...   \n",
       "306  2018.0  青海  0.934286   27882   13958    0.740006   6030000  8.246070e+12   \n",
       "307  2018.0  宁夏  0.000000    4439    2668    0.776987   6880000  2.865230e+12   \n",
       "308  2018.0  新疆  0.837838    9860    5658    0.882114  24870000  3.705180e+12   \n",
       "309  2018.0  海南  1.000000   14647    9658    0.732036   9340000  1.219908e+13   \n",
       "\n",
       "            进出口总额     全社会固定资产投入        外商直接投资  \n",
       "0    5.685758e+12  3.814700e+12  6.960005e+11  \n",
       "1    4.702551e+12  3.389800e+12  6.379747e+11  \n",
       "2    2.629067e+12  8.866600e+12  2.418189e+11  \n",
       "3    6.084655e+11  3.531200e+12  1.338139e+11  \n",
       "..            ...           ...           ...  \n",
       "306  4.237061e+11  5.827800e+12  5.140561e+10  \n",
       "307  3.786588e+10  3.883600e+12  1.206286e+11  \n",
       "308  2.644083e+11  3.728400e+12  1.380835e+11  \n",
       "309  2.265424e+12  1.208910e+13  6.058105e+11  \n",
       "\n",
       "[310 rows x 11 columns]"
      ]
     },
     "execution_count": 100,
     "metadata": {},
     "output_type": "execute_result"
    }
   ],
   "source": [
    "df_ = df.copy()\n",
    "df_['GDP'] = middf['GDP']\n",
    "df_['进出口总额'] = df4['进出口总额']\n",
    "df_['全社会固定资产投入'] = df5['全社会固定资产投入']\n",
    "df_['外商直接投资'] = df6['外商直接投资']\n",
    "df_"
   ]
  },
  {
   "cell_type": "code",
   "execution_count": 101,
   "id": "3d245117",
   "metadata": {},
   "outputs": [],
   "source": [
    "df_.to_excel(r\"D:\\作业\\大二下\\python数据分析\\1实验\\实验课\\实验三数据\\整合数据.xlsx\")"
   ]
  },
  {
   "cell_type": "code",
   "execution_count": null,
   "id": "9b969c5b",
   "metadata": {},
   "outputs": [],
   "source": []
  },
  {
   "cell_type": "code",
   "execution_count": null,
   "id": "56cdbfc9",
   "metadata": {},
   "outputs": [],
   "source": []
  },
  {
   "cell_type": "code",
   "execution_count": 102,
   "id": "06d2fbd3",
   "metadata": {},
   "outputs": [
    {
     "data": {
      "text/html": [
       "<div>\n",
       "<style scoped>\n",
       "    .dataframe tbody tr th:only-of-type {\n",
       "        vertical-align: middle;\n",
       "    }\n",
       "\n",
       "    .dataframe tbody tr th {\n",
       "        vertical-align: top;\n",
       "    }\n",
       "\n",
       "    .dataframe thead th {\n",
       "        text-align: right;\n",
       "    }\n",
       "</style>\n",
       "<table border=\"1\" class=\"dataframe\">\n",
       "  <thead>\n",
       "    <tr style=\"text-align: right;\">\n",
       "      <th></th>\n",
       "      <th>Unnamed: 0</th>\n",
       "      <th>年份</th>\n",
       "      <th>地区</th>\n",
       "      <th>结案率</th>\n",
       "      <th>专利_申请量</th>\n",
       "      <th>专利_授权量</th>\n",
       "      <th>职务专利授权量百分比</th>\n",
       "      <th>人口数</th>\n",
       "      <th>GDP</th>\n",
       "      <th>进出口总额</th>\n",
       "      <th>全社会固定资产投入</th>\n",
       "      <th>外商直接投资</th>\n",
       "      <th>人均专利申请量</th>\n",
       "    </tr>\n",
       "  </thead>\n",
       "  <tbody>\n",
       "    <tr>\n",
       "      <th>0</th>\n",
       "      <td>0</td>\n",
       "      <td>2009</td>\n",
       "      <td>北京</td>\n",
       "      <td>1.000000</td>\n",
       "      <td>319205</td>\n",
       "      <td>22921</td>\n",
       "      <td>0.745386</td>\n",
       "      <td>18600000</td>\n",
       "      <td>1.215303e+13</td>\n",
       "      <td>5.685758e+12</td>\n",
       "      <td>3.814700e+12</td>\n",
       "      <td>6.960005e+11</td>\n",
       "      <td>0.017162</td>\n",
       "    </tr>\n",
       "    <tr>\n",
       "      <th>1</th>\n",
       "      <td>1</td>\n",
       "      <td>2009</td>\n",
       "      <td>天津</td>\n",
       "      <td>0.642857</td>\n",
       "      <td>123771</td>\n",
       "      <td>7404</td>\n",
       "      <td>0.799163</td>\n",
       "      <td>12280000</td>\n",
       "      <td>7.521850e+12</td>\n",
       "      <td>4.702551e+12</td>\n",
       "      <td>3.389800e+12</td>\n",
       "      <td>6.379747e+11</td>\n",
       "      <td>0.010079</td>\n",
       "    </tr>\n",
       "    <tr>\n",
       "      <th>2</th>\n",
       "      <td>2</td>\n",
       "      <td>2009</td>\n",
       "      <td>河北</td>\n",
       "      <td>1.000000</td>\n",
       "      <td>97663</td>\n",
       "      <td>6839</td>\n",
       "      <td>0.444363</td>\n",
       "      <td>70340000</td>\n",
       "      <td>1.723548e+13</td>\n",
       "      <td>2.629067e+12</td>\n",
       "      <td>8.866600e+12</td>\n",
       "      <td>2.418189e+11</td>\n",
       "      <td>0.001388</td>\n",
       "    </tr>\n",
       "    <tr>\n",
       "      <th>3</th>\n",
       "      <td>3</td>\n",
       "      <td>2009</td>\n",
       "      <td>山西</td>\n",
       "      <td>0.000000</td>\n",
       "      <td>40031</td>\n",
       "      <td>3227</td>\n",
       "      <td>0.552526</td>\n",
       "      <td>34270000</td>\n",
       "      <td>7.358310e+12</td>\n",
       "      <td>6.084655e+11</td>\n",
       "      <td>3.531200e+12</td>\n",
       "      <td>1.338139e+11</td>\n",
       "      <td>0.001168</td>\n",
       "    </tr>\n",
       "    <tr>\n",
       "      <th>...</th>\n",
       "      <td>...</td>\n",
       "      <td>...</td>\n",
       "      <td>...</td>\n",
       "      <td>...</td>\n",
       "      <td>...</td>\n",
       "      <td>...</td>\n",
       "      <td>...</td>\n",
       "      <td>...</td>\n",
       "      <td>...</td>\n",
       "      <td>...</td>\n",
       "      <td>...</td>\n",
       "      <td>...</td>\n",
       "      <td>...</td>\n",
       "    </tr>\n",
       "    <tr>\n",
       "      <th>306</th>\n",
       "      <td>306</td>\n",
       "      <td>2018</td>\n",
       "      <td>青海</td>\n",
       "      <td>0.934286</td>\n",
       "      <td>27882</td>\n",
       "      <td>13958</td>\n",
       "      <td>0.740006</td>\n",
       "      <td>6030000</td>\n",
       "      <td>8.246070e+12</td>\n",
       "      <td>4.237061e+11</td>\n",
       "      <td>5.827800e+12</td>\n",
       "      <td>5.140561e+10</td>\n",
       "      <td>0.004624</td>\n",
       "    </tr>\n",
       "    <tr>\n",
       "      <th>307</th>\n",
       "      <td>307</td>\n",
       "      <td>2018</td>\n",
       "      <td>宁夏</td>\n",
       "      <td>0.000000</td>\n",
       "      <td>4439</td>\n",
       "      <td>2668</td>\n",
       "      <td>0.776987</td>\n",
       "      <td>6880000</td>\n",
       "      <td>2.865230e+12</td>\n",
       "      <td>3.786588e+10</td>\n",
       "      <td>3.883600e+12</td>\n",
       "      <td>1.206286e+11</td>\n",
       "      <td>0.000645</td>\n",
       "    </tr>\n",
       "    <tr>\n",
       "      <th>308</th>\n",
       "      <td>308</td>\n",
       "      <td>2018</td>\n",
       "      <td>新疆</td>\n",
       "      <td>0.837838</td>\n",
       "      <td>9860</td>\n",
       "      <td>5658</td>\n",
       "      <td>0.882114</td>\n",
       "      <td>24870000</td>\n",
       "      <td>3.705180e+12</td>\n",
       "      <td>2.644083e+11</td>\n",
       "      <td>3.728400e+12</td>\n",
       "      <td>1.380835e+11</td>\n",
       "      <td>0.000396</td>\n",
       "    </tr>\n",
       "    <tr>\n",
       "      <th>309</th>\n",
       "      <td>309</td>\n",
       "      <td>2018</td>\n",
       "      <td>海南</td>\n",
       "      <td>1.000000</td>\n",
       "      <td>14647</td>\n",
       "      <td>9658</td>\n",
       "      <td>0.732036</td>\n",
       "      <td>9340000</td>\n",
       "      <td>1.219908e+13</td>\n",
       "      <td>2.265424e+12</td>\n",
       "      <td>1.208910e+13</td>\n",
       "      <td>6.058105e+11</td>\n",
       "      <td>0.001568</td>\n",
       "    </tr>\n",
       "  </tbody>\n",
       "</table>\n",
       "<p>310 rows × 13 columns</p>\n",
       "</div>"
      ],
      "text/plain": [
       "     Unnamed: 0    年份  地区       结案率  专利_申请量  专利_授权量  职务专利授权量百分比       人口数  \\\n",
       "0             0  2009  北京  1.000000  319205   22921    0.745386  18600000   \n",
       "1             1  2009  天津  0.642857  123771    7404    0.799163  12280000   \n",
       "2             2  2009  河北  1.000000   97663    6839    0.444363  70340000   \n",
       "3             3  2009  山西  0.000000   40031    3227    0.552526  34270000   \n",
       "..          ...   ...  ..       ...     ...     ...         ...       ...   \n",
       "306         306  2018  青海  0.934286   27882   13958    0.740006   6030000   \n",
       "307         307  2018  宁夏  0.000000    4439    2668    0.776987   6880000   \n",
       "308         308  2018  新疆  0.837838    9860    5658    0.882114  24870000   \n",
       "309         309  2018  海南  1.000000   14647    9658    0.732036   9340000   \n",
       "\n",
       "              GDP         进出口总额     全社会固定资产投入        外商直接投资   人均专利申请量  \n",
       "0    1.215303e+13  5.685758e+12  3.814700e+12  6.960005e+11  0.017162  \n",
       "1    7.521850e+12  4.702551e+12  3.389800e+12  6.379747e+11  0.010079  \n",
       "2    1.723548e+13  2.629067e+12  8.866600e+12  2.418189e+11  0.001388  \n",
       "3    7.358310e+12  6.084655e+11  3.531200e+12  1.338139e+11  0.001168  \n",
       "..            ...           ...           ...           ...       ...  \n",
       "306  8.246070e+12  4.237061e+11  5.827800e+12  5.140561e+10  0.004624  \n",
       "307  2.865230e+12  3.786588e+10  3.883600e+12  1.206286e+11  0.000645  \n",
       "308  3.705180e+12  2.644083e+11  3.728400e+12  1.380835e+11  0.000396  \n",
       "309  1.219908e+13  2.265424e+12  1.208910e+13  6.058105e+11  0.001568  \n",
       "\n",
       "[310 rows x 13 columns]"
      ]
     },
     "execution_count": 102,
     "metadata": {},
     "output_type": "execute_result"
    }
   ],
   "source": [
    "file = r\"D:\\作业\\大二下\\python数据分析\\1实验\\实验课\\实验三数据\\整合数据.xlsx\"\n",
    "df = pd.read_excel(file)\n",
    "df['人均专利申请量'] = df['专利_申请量']/df['人口数']\n",
    "df"
   ]
  },
  {
   "cell_type": "code",
   "execution_count": 104,
   "id": "0e0950b5",
   "metadata": {},
   "outputs": [
    {
     "data": {
      "text/html": [
       "<div>\n",
       "<style scoped>\n",
       "    .dataframe tbody tr th:only-of-type {\n",
       "        vertical-align: middle;\n",
       "    }\n",
       "\n",
       "    .dataframe tbody tr th {\n",
       "        vertical-align: top;\n",
       "    }\n",
       "\n",
       "    .dataframe thead th {\n",
       "        text-align: right;\n",
       "    }\n",
       "</style>\n",
       "<table border=\"1\" class=\"dataframe\">\n",
       "  <thead>\n",
       "    <tr style=\"text-align: right;\">\n",
       "      <th></th>\n",
       "      <th>结案率</th>\n",
       "      <th>职务专利授权量百分比</th>\n",
       "      <th>人均专利申请量</th>\n",
       "    </tr>\n",
       "  </thead>\n",
       "  <tbody>\n",
       "    <tr>\n",
       "      <th>0</th>\n",
       "      <td>1.000000</td>\n",
       "      <td>0.745386</td>\n",
       "      <td>0.017162</td>\n",
       "    </tr>\n",
       "    <tr>\n",
       "      <th>1</th>\n",
       "      <td>0.642857</td>\n",
       "      <td>0.799163</td>\n",
       "      <td>0.010079</td>\n",
       "    </tr>\n",
       "    <tr>\n",
       "      <th>2</th>\n",
       "      <td>1.000000</td>\n",
       "      <td>0.444363</td>\n",
       "      <td>0.001388</td>\n",
       "    </tr>\n",
       "    <tr>\n",
       "      <th>3</th>\n",
       "      <td>0.000000</td>\n",
       "      <td>0.552526</td>\n",
       "      <td>0.001168</td>\n",
       "    </tr>\n",
       "    <tr>\n",
       "      <th>...</th>\n",
       "      <td>...</td>\n",
       "      <td>...</td>\n",
       "      <td>...</td>\n",
       "    </tr>\n",
       "    <tr>\n",
       "      <th>306</th>\n",
       "      <td>0.934286</td>\n",
       "      <td>0.740006</td>\n",
       "      <td>0.004624</td>\n",
       "    </tr>\n",
       "    <tr>\n",
       "      <th>307</th>\n",
       "      <td>0.000000</td>\n",
       "      <td>0.776987</td>\n",
       "      <td>0.000645</td>\n",
       "    </tr>\n",
       "    <tr>\n",
       "      <th>308</th>\n",
       "      <td>0.837838</td>\n",
       "      <td>0.882114</td>\n",
       "      <td>0.000396</td>\n",
       "    </tr>\n",
       "    <tr>\n",
       "      <th>309</th>\n",
       "      <td>1.000000</td>\n",
       "      <td>0.732036</td>\n",
       "      <td>0.001568</td>\n",
       "    </tr>\n",
       "  </tbody>\n",
       "</table>\n",
       "<p>310 rows × 3 columns</p>\n",
       "</div>"
      ],
      "text/plain": [
       "          结案率  职务专利授权量百分比   人均专利申请量\n",
       "0    1.000000    0.745386  0.017162\n",
       "1    0.642857    0.799163  0.010079\n",
       "2    1.000000    0.444363  0.001388\n",
       "3    0.000000    0.552526  0.001168\n",
       "..        ...         ...       ...\n",
       "306  0.934286    0.740006  0.004624\n",
       "307  0.000000    0.776987  0.000645\n",
       "308  0.837838    0.882114  0.000396\n",
       "309  1.000000    0.732036  0.001568\n",
       "\n",
       "[310 rows x 3 columns]"
      ]
     },
     "execution_count": 104,
     "metadata": {},
     "output_type": "execute_result"
    },
    {
     "data": {
      "text/plain": [
       "array([0.51193041, 0.27736359, 0.210706  ])"
      ]
     },
     "execution_count": 104,
     "metadata": {},
     "output_type": "execute_result"
    }
   ],
   "source": [
    "from sklearn.decomposition import PCA\n",
    "from sklearn.preprocessing import StandardScaler\n",
    "columns = ['结案率','职务专利授权量百分比','人均专利申请量']\n",
    "middf = df[columns]\n",
    "middf\n",
    "\n",
    "ss = StandardScaler()\n",
    "X = middf.values\n",
    "X_scaled = ss.fit_transform(X)\n",
    "pca = PCA(3)\n",
    "X_transformed = pca.fit_transform(X_scaled)\n",
    "weights = pca.explained_variance_ratio_\n",
    "weights"
   ]
  },
  {
   "cell_type": "code",
   "execution_count": 105,
   "id": "eb3c893b",
   "metadata": {},
   "outputs": [
    {
     "data": {
      "text/html": [
       "<div>\n",
       "<style scoped>\n",
       "    .dataframe tbody tr th:only-of-type {\n",
       "        vertical-align: middle;\n",
       "    }\n",
       "\n",
       "    .dataframe tbody tr th {\n",
       "        vertical-align: top;\n",
       "    }\n",
       "\n",
       "    .dataframe thead th {\n",
       "        text-align: right;\n",
       "    }\n",
       "</style>\n",
       "<table border=\"1\" class=\"dataframe\">\n",
       "  <thead>\n",
       "    <tr style=\"text-align: right;\">\n",
       "      <th></th>\n",
       "      <th>Unnamed: 0</th>\n",
       "      <th>年份</th>\n",
       "      <th>地区</th>\n",
       "      <th>结案率</th>\n",
       "      <th>专利_申请量</th>\n",
       "      <th>专利_授权量</th>\n",
       "      <th>职务专利授权量百分比</th>\n",
       "      <th>人口数</th>\n",
       "      <th>GDP</th>\n",
       "      <th>进出口总额</th>\n",
       "      <th>全社会固定资产投入</th>\n",
       "      <th>外商直接投资</th>\n",
       "      <th>人均专利申请量</th>\n",
       "      <th>知识产权保护指数</th>\n",
       "    </tr>\n",
       "  </thead>\n",
       "  <tbody>\n",
       "    <tr>\n",
       "      <th>0</th>\n",
       "      <td>0</td>\n",
       "      <td>2009</td>\n",
       "      <td>北京</td>\n",
       "      <td>1.000000</td>\n",
       "      <td>319205</td>\n",
       "      <td>22921</td>\n",
       "      <td>0.745386</td>\n",
       "      <td>18600000</td>\n",
       "      <td>1.215303e+13</td>\n",
       "      <td>5.685758e+12</td>\n",
       "      <td>3.814700e+12</td>\n",
       "      <td>6.960005e+11</td>\n",
       "      <td>0.017162</td>\n",
       "      <td>3.510327</td>\n",
       "    </tr>\n",
       "    <tr>\n",
       "      <th>1</th>\n",
       "      <td>1</td>\n",
       "      <td>2009</td>\n",
       "      <td>天津</td>\n",
       "      <td>0.642857</td>\n",
       "      <td>123771</td>\n",
       "      <td>7404</td>\n",
       "      <td>0.799163</td>\n",
       "      <td>12280000</td>\n",
       "      <td>7.521850e+12</td>\n",
       "      <td>4.702551e+12</td>\n",
       "      <td>3.389800e+12</td>\n",
       "      <td>6.379747e+11</td>\n",
       "      <td>0.010079</td>\n",
       "      <td>2.686999</td>\n",
       "    </tr>\n",
       "    <tr>\n",
       "      <th>2</th>\n",
       "      <td>2</td>\n",
       "      <td>2009</td>\n",
       "      <td>河北</td>\n",
       "      <td>1.000000</td>\n",
       "      <td>97663</td>\n",
       "      <td>6839</td>\n",
       "      <td>0.444363</td>\n",
       "      <td>70340000</td>\n",
       "      <td>1.723548e+13</td>\n",
       "      <td>2.629067e+12</td>\n",
       "      <td>8.866600e+12</td>\n",
       "      <td>2.418189e+11</td>\n",
       "      <td>0.001388</td>\n",
       "      <td>3.088399</td>\n",
       "    </tr>\n",
       "    <tr>\n",
       "      <th>3</th>\n",
       "      <td>3</td>\n",
       "      <td>2009</td>\n",
       "      <td>山西</td>\n",
       "      <td>0.000000</td>\n",
       "      <td>40031</td>\n",
       "      <td>3227</td>\n",
       "      <td>0.552526</td>\n",
       "      <td>34270000</td>\n",
       "      <td>7.358310e+12</td>\n",
       "      <td>6.084655e+11</td>\n",
       "      <td>3.531200e+12</td>\n",
       "      <td>1.338139e+11</td>\n",
       "      <td>0.001168</td>\n",
       "      <td>0.745993</td>\n",
       "    </tr>\n",
       "    <tr>\n",
       "      <th>...</th>\n",
       "      <td>...</td>\n",
       "      <td>...</td>\n",
       "      <td>...</td>\n",
       "      <td>...</td>\n",
       "      <td>...</td>\n",
       "      <td>...</td>\n",
       "      <td>...</td>\n",
       "      <td>...</td>\n",
       "      <td>...</td>\n",
       "      <td>...</td>\n",
       "      <td>...</td>\n",
       "      <td>...</td>\n",
       "      <td>...</td>\n",
       "      <td>...</td>\n",
       "    </tr>\n",
       "    <tr>\n",
       "      <th>306</th>\n",
       "      <td>306</td>\n",
       "      <td>2018</td>\n",
       "      <td>青海</td>\n",
       "      <td>0.934286</td>\n",
       "      <td>27882</td>\n",
       "      <td>13958</td>\n",
       "      <td>0.740006</td>\n",
       "      <td>6030000</td>\n",
       "      <td>8.246070e+12</td>\n",
       "      <td>4.237061e+11</td>\n",
       "      <td>5.827800e+12</td>\n",
       "      <td>5.140561e+10</td>\n",
       "      <td>0.004624</td>\n",
       "      <td>3.326739</td>\n",
       "    </tr>\n",
       "    <tr>\n",
       "      <th>307</th>\n",
       "      <td>307</td>\n",
       "      <td>2018</td>\n",
       "      <td>宁夏</td>\n",
       "      <td>0.000000</td>\n",
       "      <td>4439</td>\n",
       "      <td>2668</td>\n",
       "      <td>0.776987</td>\n",
       "      <td>6880000</td>\n",
       "      <td>2.865230e+12</td>\n",
       "      <td>3.786588e+10</td>\n",
       "      <td>3.883600e+12</td>\n",
       "      <td>1.206286e+11</td>\n",
       "      <td>0.000645</td>\n",
       "      <td>1.048028</td>\n",
       "    </tr>\n",
       "    <tr>\n",
       "      <th>308</th>\n",
       "      <td>308</td>\n",
       "      <td>2018</td>\n",
       "      <td>新疆</td>\n",
       "      <td>0.837838</td>\n",
       "      <td>9860</td>\n",
       "      <td>5658</td>\n",
       "      <td>0.882114</td>\n",
       "      <td>24870000</td>\n",
       "      <td>3.705180e+12</td>\n",
       "      <td>2.644083e+11</td>\n",
       "      <td>3.728400e+12</td>\n",
       "      <td>1.380835e+11</td>\n",
       "      <td>0.000396</td>\n",
       "      <td>3.274009</td>\n",
       "    </tr>\n",
       "    <tr>\n",
       "      <th>309</th>\n",
       "      <td>309</td>\n",
       "      <td>2018</td>\n",
       "      <td>海南</td>\n",
       "      <td>1.000000</td>\n",
       "      <td>14647</td>\n",
       "      <td>9658</td>\n",
       "      <td>0.732036</td>\n",
       "      <td>9340000</td>\n",
       "      <td>1.219908e+13</td>\n",
       "      <td>2.265424e+12</td>\n",
       "      <td>1.208910e+13</td>\n",
       "      <td>6.058105e+11</td>\n",
       "      <td>0.001568</td>\n",
       "      <td>3.476362</td>\n",
       "    </tr>\n",
       "  </tbody>\n",
       "</table>\n",
       "<p>310 rows × 14 columns</p>\n",
       "</div>"
      ],
      "text/plain": [
       "     Unnamed: 0    年份  地区       结案率  专利_申请量  专利_授权量  职务专利授权量百分比       人口数  \\\n",
       "0             0  2009  北京  1.000000  319205   22921    0.745386  18600000   \n",
       "1             1  2009  天津  0.642857  123771    7404    0.799163  12280000   \n",
       "2             2  2009  河北  1.000000   97663    6839    0.444363  70340000   \n",
       "3             3  2009  山西  0.000000   40031    3227    0.552526  34270000   \n",
       "..          ...   ...  ..       ...     ...     ...         ...       ...   \n",
       "306         306  2018  青海  0.934286   27882   13958    0.740006   6030000   \n",
       "307         307  2018  宁夏  0.000000    4439    2668    0.776987   6880000   \n",
       "308         308  2018  新疆  0.837838    9860    5658    0.882114  24870000   \n",
       "309         309  2018  海南  1.000000   14647    9658    0.732036   9340000   \n",
       "\n",
       "              GDP         进出口总额     全社会固定资产投入        外商直接投资   人均专利申请量  \\\n",
       "0    1.215303e+13  5.685758e+12  3.814700e+12  6.960005e+11  0.017162   \n",
       "1    7.521850e+12  4.702551e+12  3.389800e+12  6.379747e+11  0.010079   \n",
       "2    1.723548e+13  2.629067e+12  8.866600e+12  2.418189e+11  0.001388   \n",
       "3    7.358310e+12  6.084655e+11  3.531200e+12  1.338139e+11  0.001168   \n",
       "..            ...           ...           ...           ...       ...   \n",
       "306  8.246070e+12  4.237061e+11  5.827800e+12  5.140561e+10  0.004624   \n",
       "307  2.865230e+12  3.786588e+10  3.883600e+12  1.206286e+11  0.000645   \n",
       "308  3.705180e+12  2.644083e+11  3.728400e+12  1.380835e+11  0.000396   \n",
       "309  1.219908e+13  2.265424e+12  1.208910e+13  6.058105e+11  0.001568   \n",
       "\n",
       "     知识产权保护指数  \n",
       "0    3.510327  \n",
       "1    2.686999  \n",
       "2    3.088399  \n",
       "3    0.745993  \n",
       "..        ...  \n",
       "306  3.326739  \n",
       "307  1.048028  \n",
       "308  3.274009  \n",
       "309  3.476362  \n",
       "\n",
       "[310 rows x 14 columns]"
      ]
     },
     "execution_count": 105,
     "metadata": {},
     "output_type": "execute_result"
    }
   ],
   "source": [
    "df['知识产权保护指数'] = middf.values.dot(weights)*4.86\n",
    "df"
   ]
  },
  {
   "cell_type": "code",
   "execution_count": 106,
   "id": "99410f49",
   "metadata": {},
   "outputs": [
    {
     "data": {
      "text/html": [
       "<div>\n",
       "<style scoped>\n",
       "    .dataframe tbody tr th:only-of-type {\n",
       "        vertical-align: middle;\n",
       "    }\n",
       "\n",
       "    .dataframe tbody tr th {\n",
       "        vertical-align: top;\n",
       "    }\n",
       "\n",
       "    .dataframe thead th {\n",
       "        text-align: right;\n",
       "    }\n",
       "</style>\n",
       "<table border=\"1\" class=\"dataframe\">\n",
       "  <thead>\n",
       "    <tr style=\"text-align: right;\">\n",
       "      <th></th>\n",
       "      <th>Unnamed: 0</th>\n",
       "      <th>年份</th>\n",
       "      <th>地区</th>\n",
       "      <th>结案率</th>\n",
       "      <th>专利_申请量</th>\n",
       "      <th>专利_授权量</th>\n",
       "      <th>职务专利授权量百分比</th>\n",
       "      <th>人口数</th>\n",
       "      <th>GDP</th>\n",
       "      <th>进出口总额</th>\n",
       "      <th>全社会固定资产投入</th>\n",
       "      <th>外商直接投资</th>\n",
       "      <th>人均专利申请量</th>\n",
       "      <th>知识产权保护指数</th>\n",
       "      <th>人均GDP</th>\n",
       "    </tr>\n",
       "  </thead>\n",
       "  <tbody>\n",
       "    <tr>\n",
       "      <th>0</th>\n",
       "      <td>0</td>\n",
       "      <td>2009</td>\n",
       "      <td>北京</td>\n",
       "      <td>1.000000</td>\n",
       "      <td>319205</td>\n",
       "      <td>22921</td>\n",
       "      <td>0.745386</td>\n",
       "      <td>18600000</td>\n",
       "      <td>1.215303e+13</td>\n",
       "      <td>5.685758e+12</td>\n",
       "      <td>3.814700e+12</td>\n",
       "      <td>6.960005e+11</td>\n",
       "      <td>0.017162</td>\n",
       "      <td>3.510327</td>\n",
       "      <td>6.533887e+05</td>\n",
       "    </tr>\n",
       "    <tr>\n",
       "      <th>1</th>\n",
       "      <td>1</td>\n",
       "      <td>2009</td>\n",
       "      <td>天津</td>\n",
       "      <td>0.642857</td>\n",
       "      <td>123771</td>\n",
       "      <td>7404</td>\n",
       "      <td>0.799163</td>\n",
       "      <td>12280000</td>\n",
       "      <td>7.521850e+12</td>\n",
       "      <td>4.702551e+12</td>\n",
       "      <td>3.389800e+12</td>\n",
       "      <td>6.379747e+11</td>\n",
       "      <td>0.010079</td>\n",
       "      <td>2.686999</td>\n",
       "      <td>6.125285e+05</td>\n",
       "    </tr>\n",
       "    <tr>\n",
       "      <th>2</th>\n",
       "      <td>2</td>\n",
       "      <td>2009</td>\n",
       "      <td>河北</td>\n",
       "      <td>1.000000</td>\n",
       "      <td>97663</td>\n",
       "      <td>6839</td>\n",
       "      <td>0.444363</td>\n",
       "      <td>70340000</td>\n",
       "      <td>1.723548e+13</td>\n",
       "      <td>2.629067e+12</td>\n",
       "      <td>8.866600e+12</td>\n",
       "      <td>2.418189e+11</td>\n",
       "      <td>0.001388</td>\n",
       "      <td>3.088399</td>\n",
       "      <td>2.450310e+05</td>\n",
       "    </tr>\n",
       "    <tr>\n",
       "      <th>3</th>\n",
       "      <td>3</td>\n",
       "      <td>2009</td>\n",
       "      <td>山西</td>\n",
       "      <td>0.000000</td>\n",
       "      <td>40031</td>\n",
       "      <td>3227</td>\n",
       "      <td>0.552526</td>\n",
       "      <td>34270000</td>\n",
       "      <td>7.358310e+12</td>\n",
       "      <td>6.084655e+11</td>\n",
       "      <td>3.531200e+12</td>\n",
       "      <td>1.338139e+11</td>\n",
       "      <td>0.001168</td>\n",
       "      <td>0.745993</td>\n",
       "      <td>2.147158e+05</td>\n",
       "    </tr>\n",
       "    <tr>\n",
       "      <th>...</th>\n",
       "      <td>...</td>\n",
       "      <td>...</td>\n",
       "      <td>...</td>\n",
       "      <td>...</td>\n",
       "      <td>...</td>\n",
       "      <td>...</td>\n",
       "      <td>...</td>\n",
       "      <td>...</td>\n",
       "      <td>...</td>\n",
       "      <td>...</td>\n",
       "      <td>...</td>\n",
       "      <td>...</td>\n",
       "      <td>...</td>\n",
       "      <td>...</td>\n",
       "      <td>...</td>\n",
       "    </tr>\n",
       "    <tr>\n",
       "      <th>306</th>\n",
       "      <td>306</td>\n",
       "      <td>2018</td>\n",
       "      <td>青海</td>\n",
       "      <td>0.934286</td>\n",
       "      <td>27882</td>\n",
       "      <td>13958</td>\n",
       "      <td>0.740006</td>\n",
       "      <td>6030000</td>\n",
       "      <td>8.246070e+12</td>\n",
       "      <td>4.237061e+11</td>\n",
       "      <td>5.827800e+12</td>\n",
       "      <td>5.140561e+10</td>\n",
       "      <td>0.004624</td>\n",
       "      <td>3.326739</td>\n",
       "      <td>1.367507e+06</td>\n",
       "    </tr>\n",
       "    <tr>\n",
       "      <th>307</th>\n",
       "      <td>307</td>\n",
       "      <td>2018</td>\n",
       "      <td>宁夏</td>\n",
       "      <td>0.000000</td>\n",
       "      <td>4439</td>\n",
       "      <td>2668</td>\n",
       "      <td>0.776987</td>\n",
       "      <td>6880000</td>\n",
       "      <td>2.865230e+12</td>\n",
       "      <td>3.786588e+10</td>\n",
       "      <td>3.883600e+12</td>\n",
       "      <td>1.206286e+11</td>\n",
       "      <td>0.000645</td>\n",
       "      <td>1.048028</td>\n",
       "      <td>4.164578e+05</td>\n",
       "    </tr>\n",
       "    <tr>\n",
       "      <th>308</th>\n",
       "      <td>308</td>\n",
       "      <td>2018</td>\n",
       "      <td>新疆</td>\n",
       "      <td>0.837838</td>\n",
       "      <td>9860</td>\n",
       "      <td>5658</td>\n",
       "      <td>0.882114</td>\n",
       "      <td>24870000</td>\n",
       "      <td>3.705180e+12</td>\n",
       "      <td>2.644083e+11</td>\n",
       "      <td>3.728400e+12</td>\n",
       "      <td>1.380835e+11</td>\n",
       "      <td>0.000396</td>\n",
       "      <td>3.274009</td>\n",
       "      <td>1.489819e+05</td>\n",
       "    </tr>\n",
       "    <tr>\n",
       "      <th>309</th>\n",
       "      <td>309</td>\n",
       "      <td>2018</td>\n",
       "      <td>海南</td>\n",
       "      <td>1.000000</td>\n",
       "      <td>14647</td>\n",
       "      <td>9658</td>\n",
       "      <td>0.732036</td>\n",
       "      <td>9340000</td>\n",
       "      <td>1.219908e+13</td>\n",
       "      <td>2.265424e+12</td>\n",
       "      <td>1.208910e+13</td>\n",
       "      <td>6.058105e+11</td>\n",
       "      <td>0.001568</td>\n",
       "      <td>3.476362</td>\n",
       "      <td>1.306111e+06</td>\n",
       "    </tr>\n",
       "  </tbody>\n",
       "</table>\n",
       "<p>310 rows × 15 columns</p>\n",
       "</div>"
      ],
      "text/plain": [
       "     Unnamed: 0    年份  地区       结案率  专利_申请量  专利_授权量  职务专利授权量百分比       人口数  \\\n",
       "0             0  2009  北京  1.000000  319205   22921    0.745386  18600000   \n",
       "1             1  2009  天津  0.642857  123771    7404    0.799163  12280000   \n",
       "2             2  2009  河北  1.000000   97663    6839    0.444363  70340000   \n",
       "3             3  2009  山西  0.000000   40031    3227    0.552526  34270000   \n",
       "..          ...   ...  ..       ...     ...     ...         ...       ...   \n",
       "306         306  2018  青海  0.934286   27882   13958    0.740006   6030000   \n",
       "307         307  2018  宁夏  0.000000    4439    2668    0.776987   6880000   \n",
       "308         308  2018  新疆  0.837838    9860    5658    0.882114  24870000   \n",
       "309         309  2018  海南  1.000000   14647    9658    0.732036   9340000   \n",
       "\n",
       "              GDP         进出口总额     全社会固定资产投入        外商直接投资   人均专利申请量  \\\n",
       "0    1.215303e+13  5.685758e+12  3.814700e+12  6.960005e+11  0.017162   \n",
       "1    7.521850e+12  4.702551e+12  3.389800e+12  6.379747e+11  0.010079   \n",
       "2    1.723548e+13  2.629067e+12  8.866600e+12  2.418189e+11  0.001388   \n",
       "3    7.358310e+12  6.084655e+11  3.531200e+12  1.338139e+11  0.001168   \n",
       "..            ...           ...           ...           ...       ...   \n",
       "306  8.246070e+12  4.237061e+11  5.827800e+12  5.140561e+10  0.004624   \n",
       "307  2.865230e+12  3.786588e+10  3.883600e+12  1.206286e+11  0.000645   \n",
       "308  3.705180e+12  2.644083e+11  3.728400e+12  1.380835e+11  0.000396   \n",
       "309  1.219908e+13  2.265424e+12  1.208910e+13  6.058105e+11  0.001568   \n",
       "\n",
       "     知识产权保护指数         人均GDP  \n",
       "0    3.510327  6.533887e+05  \n",
       "1    2.686999  6.125285e+05  \n",
       "2    3.088399  2.450310e+05  \n",
       "3    0.745993  2.147158e+05  \n",
       "..        ...           ...  \n",
       "306  3.326739  1.367507e+06  \n",
       "307  1.048028  4.164578e+05  \n",
       "308  3.274009  1.489819e+05  \n",
       "309  3.476362  1.306111e+06  \n",
       "\n",
       "[310 rows x 15 columns]"
      ]
     },
     "execution_count": 106,
     "metadata": {},
     "output_type": "execute_result"
    }
   ],
   "source": [
    "df['人均GDP'] = df['GDP'] / df['人口数']\n",
    "df"
   ]
  },
  {
   "cell_type": "code",
   "execution_count": 107,
   "id": "aadea4a0",
   "metadata": {},
   "outputs": [
    {
     "data": {
      "text/html": [
       "<div>\n",
       "<style scoped>\n",
       "    .dataframe tbody tr th:only-of-type {\n",
       "        vertical-align: middle;\n",
       "    }\n",
       "\n",
       "    .dataframe tbody tr th {\n",
       "        vertical-align: top;\n",
       "    }\n",
       "\n",
       "    .dataframe thead th {\n",
       "        text-align: right;\n",
       "    }\n",
       "</style>\n",
       "<table border=\"1\" class=\"dataframe\">\n",
       "  <thead>\n",
       "    <tr style=\"text-align: right;\">\n",
       "      <th></th>\n",
       "      <th>Unnamed: 0</th>\n",
       "      <th>年份</th>\n",
       "      <th>地区</th>\n",
       "      <th>结案率</th>\n",
       "      <th>专利_申请量</th>\n",
       "      <th>专利_授权量</th>\n",
       "      <th>职务专利授权量百分比</th>\n",
       "      <th>人口数</th>\n",
       "      <th>GDP</th>\n",
       "      <th>进出口总额</th>\n",
       "      <th>全社会固定资产投入</th>\n",
       "      <th>外商直接投资</th>\n",
       "      <th>人均专利申请量</th>\n",
       "      <th>知识产权保护指数</th>\n",
       "      <th>人均GDP</th>\n",
       "      <th>经济开放度</th>\n",
       "    </tr>\n",
       "  </thead>\n",
       "  <tbody>\n",
       "    <tr>\n",
       "      <th>0</th>\n",
       "      <td>0</td>\n",
       "      <td>2009</td>\n",
       "      <td>北京</td>\n",
       "      <td>1.000000</td>\n",
       "      <td>319205</td>\n",
       "      <td>22921</td>\n",
       "      <td>0.745386</td>\n",
       "      <td>18600000</td>\n",
       "      <td>1.215303e+13</td>\n",
       "      <td>5.685758e+12</td>\n",
       "      <td>3.814700e+12</td>\n",
       "      <td>6.960005e+11</td>\n",
       "      <td>0.017162</td>\n",
       "      <td>3.510327</td>\n",
       "      <td>6.533887e+05</td>\n",
       "      <td>0.467847</td>\n",
       "    </tr>\n",
       "    <tr>\n",
       "      <th>1</th>\n",
       "      <td>1</td>\n",
       "      <td>2009</td>\n",
       "      <td>天津</td>\n",
       "      <td>0.642857</td>\n",
       "      <td>123771</td>\n",
       "      <td>7404</td>\n",
       "      <td>0.799163</td>\n",
       "      <td>12280000</td>\n",
       "      <td>7.521850e+12</td>\n",
       "      <td>4.702551e+12</td>\n",
       "      <td>3.389800e+12</td>\n",
       "      <td>6.379747e+11</td>\n",
       "      <td>0.010079</td>\n",
       "      <td>2.686999</td>\n",
       "      <td>6.125285e+05</td>\n",
       "      <td>0.625185</td>\n",
       "    </tr>\n",
       "    <tr>\n",
       "      <th>2</th>\n",
       "      <td>2</td>\n",
       "      <td>2009</td>\n",
       "      <td>河北</td>\n",
       "      <td>1.000000</td>\n",
       "      <td>97663</td>\n",
       "      <td>6839</td>\n",
       "      <td>0.444363</td>\n",
       "      <td>70340000</td>\n",
       "      <td>1.723548e+13</td>\n",
       "      <td>2.629067e+12</td>\n",
       "      <td>8.866600e+12</td>\n",
       "      <td>2.418189e+11</td>\n",
       "      <td>0.001388</td>\n",
       "      <td>3.088399</td>\n",
       "      <td>2.450310e+05</td>\n",
       "      <td>0.152538</td>\n",
       "    </tr>\n",
       "    <tr>\n",
       "      <th>3</th>\n",
       "      <td>3</td>\n",
       "      <td>2009</td>\n",
       "      <td>山西</td>\n",
       "      <td>0.000000</td>\n",
       "      <td>40031</td>\n",
       "      <td>3227</td>\n",
       "      <td>0.552526</td>\n",
       "      <td>34270000</td>\n",
       "      <td>7.358310e+12</td>\n",
       "      <td>6.084655e+11</td>\n",
       "      <td>3.531200e+12</td>\n",
       "      <td>1.338139e+11</td>\n",
       "      <td>0.001168</td>\n",
       "      <td>0.745993</td>\n",
       "      <td>2.147158e+05</td>\n",
       "      <td>0.082691</td>\n",
       "    </tr>\n",
       "    <tr>\n",
       "      <th>...</th>\n",
       "      <td>...</td>\n",
       "      <td>...</td>\n",
       "      <td>...</td>\n",
       "      <td>...</td>\n",
       "      <td>...</td>\n",
       "      <td>...</td>\n",
       "      <td>...</td>\n",
       "      <td>...</td>\n",
       "      <td>...</td>\n",
       "      <td>...</td>\n",
       "      <td>...</td>\n",
       "      <td>...</td>\n",
       "      <td>...</td>\n",
       "      <td>...</td>\n",
       "      <td>...</td>\n",
       "      <td>...</td>\n",
       "    </tr>\n",
       "    <tr>\n",
       "      <th>306</th>\n",
       "      <td>306</td>\n",
       "      <td>2018</td>\n",
       "      <td>青海</td>\n",
       "      <td>0.934286</td>\n",
       "      <td>27882</td>\n",
       "      <td>13958</td>\n",
       "      <td>0.740006</td>\n",
       "      <td>6030000</td>\n",
       "      <td>8.246070e+12</td>\n",
       "      <td>4.237061e+11</td>\n",
       "      <td>5.827800e+12</td>\n",
       "      <td>5.140561e+10</td>\n",
       "      <td>0.004624</td>\n",
       "      <td>3.326739</td>\n",
       "      <td>1.367507e+06</td>\n",
       "      <td>0.051383</td>\n",
       "    </tr>\n",
       "    <tr>\n",
       "      <th>307</th>\n",
       "      <td>307</td>\n",
       "      <td>2018</td>\n",
       "      <td>宁夏</td>\n",
       "      <td>0.000000</td>\n",
       "      <td>4439</td>\n",
       "      <td>2668</td>\n",
       "      <td>0.776987</td>\n",
       "      <td>6880000</td>\n",
       "      <td>2.865230e+12</td>\n",
       "      <td>3.786588e+10</td>\n",
       "      <td>3.883600e+12</td>\n",
       "      <td>1.206286e+11</td>\n",
       "      <td>0.000645</td>\n",
       "      <td>1.048028</td>\n",
       "      <td>4.164578e+05</td>\n",
       "      <td>0.013216</td>\n",
       "    </tr>\n",
       "    <tr>\n",
       "      <th>308</th>\n",
       "      <td>308</td>\n",
       "      <td>2018</td>\n",
       "      <td>新疆</td>\n",
       "      <td>0.837838</td>\n",
       "      <td>9860</td>\n",
       "      <td>5658</td>\n",
       "      <td>0.882114</td>\n",
       "      <td>24870000</td>\n",
       "      <td>3.705180e+12</td>\n",
       "      <td>2.644083e+11</td>\n",
       "      <td>3.728400e+12</td>\n",
       "      <td>1.380835e+11</td>\n",
       "      <td>0.000396</td>\n",
       "      <td>3.274009</td>\n",
       "      <td>1.489819e+05</td>\n",
       "      <td>0.071362</td>\n",
       "    </tr>\n",
       "    <tr>\n",
       "      <th>309</th>\n",
       "      <td>309</td>\n",
       "      <td>2018</td>\n",
       "      <td>海南</td>\n",
       "      <td>1.000000</td>\n",
       "      <td>14647</td>\n",
       "      <td>9658</td>\n",
       "      <td>0.732036</td>\n",
       "      <td>9340000</td>\n",
       "      <td>1.219908e+13</td>\n",
       "      <td>2.265424e+12</td>\n",
       "      <td>1.208910e+13</td>\n",
       "      <td>6.058105e+11</td>\n",
       "      <td>0.001568</td>\n",
       "      <td>3.476362</td>\n",
       "      <td>1.306111e+06</td>\n",
       "      <td>0.185705</td>\n",
       "    </tr>\n",
       "  </tbody>\n",
       "</table>\n",
       "<p>310 rows × 16 columns</p>\n",
       "</div>"
      ],
      "text/plain": [
       "     Unnamed: 0    年份  地区       结案率  专利_申请量  专利_授权量  职务专利授权量百分比       人口数  \\\n",
       "0             0  2009  北京  1.000000  319205   22921    0.745386  18600000   \n",
       "1             1  2009  天津  0.642857  123771    7404    0.799163  12280000   \n",
       "2             2  2009  河北  1.000000   97663    6839    0.444363  70340000   \n",
       "3             3  2009  山西  0.000000   40031    3227    0.552526  34270000   \n",
       "..          ...   ...  ..       ...     ...     ...         ...       ...   \n",
       "306         306  2018  青海  0.934286   27882   13958    0.740006   6030000   \n",
       "307         307  2018  宁夏  0.000000    4439    2668    0.776987   6880000   \n",
       "308         308  2018  新疆  0.837838    9860    5658    0.882114  24870000   \n",
       "309         309  2018  海南  1.000000   14647    9658    0.732036   9340000   \n",
       "\n",
       "              GDP         进出口总额     全社会固定资产投入        外商直接投资   人均专利申请量  \\\n",
       "0    1.215303e+13  5.685758e+12  3.814700e+12  6.960005e+11  0.017162   \n",
       "1    7.521850e+12  4.702551e+12  3.389800e+12  6.379747e+11  0.010079   \n",
       "2    1.723548e+13  2.629067e+12  8.866600e+12  2.418189e+11  0.001388   \n",
       "3    7.358310e+12  6.084655e+11  3.531200e+12  1.338139e+11  0.001168   \n",
       "..            ...           ...           ...           ...       ...   \n",
       "306  8.246070e+12  4.237061e+11  5.827800e+12  5.140561e+10  0.004624   \n",
       "307  2.865230e+12  3.786588e+10  3.883600e+12  1.206286e+11  0.000645   \n",
       "308  3.705180e+12  2.644083e+11  3.728400e+12  1.380835e+11  0.000396   \n",
       "309  1.219908e+13  2.265424e+12  1.208910e+13  6.058105e+11  0.001568   \n",
       "\n",
       "     知识产权保护指数         人均GDP     经济开放度  \n",
       "0    3.510327  6.533887e+05  0.467847  \n",
       "1    2.686999  6.125285e+05  0.625185  \n",
       "2    3.088399  2.450310e+05  0.152538  \n",
       "3    0.745993  2.147158e+05  0.082691  \n",
       "..        ...           ...       ...  \n",
       "306  3.326739  1.367507e+06  0.051383  \n",
       "307  1.048028  4.164578e+05  0.013216  \n",
       "308  3.274009  1.489819e+05  0.071362  \n",
       "309  3.476362  1.306111e+06  0.185705  \n",
       "\n",
       "[310 rows x 16 columns]"
      ]
     },
     "execution_count": 107,
     "metadata": {},
     "output_type": "execute_result"
    }
   ],
   "source": [
    "df['经济开放度'] = df['进出口总额'] / df['GDP']\n",
    "df"
   ]
  },
  {
   "cell_type": "code",
   "execution_count": 108,
   "id": "cf002bae",
   "metadata": {},
   "outputs": [
    {
     "data": {
      "text/html": [
       "<div>\n",
       "<style scoped>\n",
       "    .dataframe tbody tr th:only-of-type {\n",
       "        vertical-align: middle;\n",
       "    }\n",
       "\n",
       "    .dataframe tbody tr th {\n",
       "        vertical-align: top;\n",
       "    }\n",
       "\n",
       "    .dataframe thead th {\n",
       "        text-align: right;\n",
       "    }\n",
       "</style>\n",
       "<table border=\"1\" class=\"dataframe\">\n",
       "  <thead>\n",
       "    <tr style=\"text-align: right;\">\n",
       "      <th></th>\n",
       "      <th>Unnamed: 0</th>\n",
       "      <th>年份</th>\n",
       "      <th>地区</th>\n",
       "      <th>结案率</th>\n",
       "      <th>专利_申请量</th>\n",
       "      <th>专利_授权量</th>\n",
       "      <th>职务专利授权量百分比</th>\n",
       "      <th>人口数</th>\n",
       "      <th>GDP</th>\n",
       "      <th>进出口总额</th>\n",
       "      <th>全社会固定资产投入</th>\n",
       "      <th>外商直接投资</th>\n",
       "      <th>人均专利申请量</th>\n",
       "      <th>知识产权保护指数</th>\n",
       "      <th>人均GDP</th>\n",
       "      <th>经济开放度</th>\n",
       "      <th>GDP_哑变量</th>\n",
       "    </tr>\n",
       "  </thead>\n",
       "  <tbody>\n",
       "    <tr>\n",
       "      <th>0</th>\n",
       "      <td>0</td>\n",
       "      <td>2009</td>\n",
       "      <td>北京</td>\n",
       "      <td>1.000000</td>\n",
       "      <td>319205</td>\n",
       "      <td>22921</td>\n",
       "      <td>0.745386</td>\n",
       "      <td>18600000</td>\n",
       "      <td>1.215303e+13</td>\n",
       "      <td>5.685758e+12</td>\n",
       "      <td>3.814700e+12</td>\n",
       "      <td>6.960005e+11</td>\n",
       "      <td>0.017162</td>\n",
       "      <td>3.510327</td>\n",
       "      <td>6.533887e+05</td>\n",
       "      <td>0.467847</td>\n",
       "      <td>0</td>\n",
       "    </tr>\n",
       "    <tr>\n",
       "      <th>1</th>\n",
       "      <td>1</td>\n",
       "      <td>2009</td>\n",
       "      <td>天津</td>\n",
       "      <td>0.642857</td>\n",
       "      <td>123771</td>\n",
       "      <td>7404</td>\n",
       "      <td>0.799163</td>\n",
       "      <td>12280000</td>\n",
       "      <td>7.521850e+12</td>\n",
       "      <td>4.702551e+12</td>\n",
       "      <td>3.389800e+12</td>\n",
       "      <td>6.379747e+11</td>\n",
       "      <td>0.010079</td>\n",
       "      <td>2.686999</td>\n",
       "      <td>6.125285e+05</td>\n",
       "      <td>0.625185</td>\n",
       "      <td>0</td>\n",
       "    </tr>\n",
       "    <tr>\n",
       "      <th>2</th>\n",
       "      <td>2</td>\n",
       "      <td>2009</td>\n",
       "      <td>河北</td>\n",
       "      <td>1.000000</td>\n",
       "      <td>97663</td>\n",
       "      <td>6839</td>\n",
       "      <td>0.444363</td>\n",
       "      <td>70340000</td>\n",
       "      <td>1.723548e+13</td>\n",
       "      <td>2.629067e+12</td>\n",
       "      <td>8.866600e+12</td>\n",
       "      <td>2.418189e+11</td>\n",
       "      <td>0.001388</td>\n",
       "      <td>3.088399</td>\n",
       "      <td>2.450310e+05</td>\n",
       "      <td>0.152538</td>\n",
       "      <td>1</td>\n",
       "    </tr>\n",
       "    <tr>\n",
       "      <th>3</th>\n",
       "      <td>3</td>\n",
       "      <td>2009</td>\n",
       "      <td>山西</td>\n",
       "      <td>0.000000</td>\n",
       "      <td>40031</td>\n",
       "      <td>3227</td>\n",
       "      <td>0.552526</td>\n",
       "      <td>34270000</td>\n",
       "      <td>7.358310e+12</td>\n",
       "      <td>6.084655e+11</td>\n",
       "      <td>3.531200e+12</td>\n",
       "      <td>1.338139e+11</td>\n",
       "      <td>0.001168</td>\n",
       "      <td>0.745993</td>\n",
       "      <td>2.147158e+05</td>\n",
       "      <td>0.082691</td>\n",
       "      <td>0</td>\n",
       "    </tr>\n",
       "    <tr>\n",
       "      <th>...</th>\n",
       "      <td>...</td>\n",
       "      <td>...</td>\n",
       "      <td>...</td>\n",
       "      <td>...</td>\n",
       "      <td>...</td>\n",
       "      <td>...</td>\n",
       "      <td>...</td>\n",
       "      <td>...</td>\n",
       "      <td>...</td>\n",
       "      <td>...</td>\n",
       "      <td>...</td>\n",
       "      <td>...</td>\n",
       "      <td>...</td>\n",
       "      <td>...</td>\n",
       "      <td>...</td>\n",
       "      <td>...</td>\n",
       "      <td>...</td>\n",
       "    </tr>\n",
       "    <tr>\n",
       "      <th>306</th>\n",
       "      <td>306</td>\n",
       "      <td>2018</td>\n",
       "      <td>青海</td>\n",
       "      <td>0.934286</td>\n",
       "      <td>27882</td>\n",
       "      <td>13958</td>\n",
       "      <td>0.740006</td>\n",
       "      <td>6030000</td>\n",
       "      <td>8.246070e+12</td>\n",
       "      <td>4.237061e+11</td>\n",
       "      <td>5.827800e+12</td>\n",
       "      <td>5.140561e+10</td>\n",
       "      <td>0.004624</td>\n",
       "      <td>3.326739</td>\n",
       "      <td>1.367507e+06</td>\n",
       "      <td>0.051383</td>\n",
       "      <td>0</td>\n",
       "    </tr>\n",
       "    <tr>\n",
       "      <th>307</th>\n",
       "      <td>307</td>\n",
       "      <td>2018</td>\n",
       "      <td>宁夏</td>\n",
       "      <td>0.000000</td>\n",
       "      <td>4439</td>\n",
       "      <td>2668</td>\n",
       "      <td>0.776987</td>\n",
       "      <td>6880000</td>\n",
       "      <td>2.865230e+12</td>\n",
       "      <td>3.786588e+10</td>\n",
       "      <td>3.883600e+12</td>\n",
       "      <td>1.206286e+11</td>\n",
       "      <td>0.000645</td>\n",
       "      <td>1.048028</td>\n",
       "      <td>4.164578e+05</td>\n",
       "      <td>0.013216</td>\n",
       "      <td>0</td>\n",
       "    </tr>\n",
       "    <tr>\n",
       "      <th>308</th>\n",
       "      <td>308</td>\n",
       "      <td>2018</td>\n",
       "      <td>新疆</td>\n",
       "      <td>0.837838</td>\n",
       "      <td>9860</td>\n",
       "      <td>5658</td>\n",
       "      <td>0.882114</td>\n",
       "      <td>24870000</td>\n",
       "      <td>3.705180e+12</td>\n",
       "      <td>2.644083e+11</td>\n",
       "      <td>3.728400e+12</td>\n",
       "      <td>1.380835e+11</td>\n",
       "      <td>0.000396</td>\n",
       "      <td>3.274009</td>\n",
       "      <td>1.489819e+05</td>\n",
       "      <td>0.071362</td>\n",
       "      <td>0</td>\n",
       "    </tr>\n",
       "    <tr>\n",
       "      <th>309</th>\n",
       "      <td>309</td>\n",
       "      <td>2018</td>\n",
       "      <td>海南</td>\n",
       "      <td>1.000000</td>\n",
       "      <td>14647</td>\n",
       "      <td>9658</td>\n",
       "      <td>0.732036</td>\n",
       "      <td>9340000</td>\n",
       "      <td>1.219908e+13</td>\n",
       "      <td>2.265424e+12</td>\n",
       "      <td>1.208910e+13</td>\n",
       "      <td>6.058105e+11</td>\n",
       "      <td>0.001568</td>\n",
       "      <td>3.476362</td>\n",
       "      <td>1.306111e+06</td>\n",
       "      <td>0.185705</td>\n",
       "      <td>0</td>\n",
       "    </tr>\n",
       "  </tbody>\n",
       "</table>\n",
       "<p>310 rows × 17 columns</p>\n",
       "</div>"
      ],
      "text/plain": [
       "     Unnamed: 0    年份  地区       结案率  专利_申请量  专利_授权量  职务专利授权量百分比       人口数  \\\n",
       "0             0  2009  北京  1.000000  319205   22921    0.745386  18600000   \n",
       "1             1  2009  天津  0.642857  123771    7404    0.799163  12280000   \n",
       "2             2  2009  河北  1.000000   97663    6839    0.444363  70340000   \n",
       "3             3  2009  山西  0.000000   40031    3227    0.552526  34270000   \n",
       "..          ...   ...  ..       ...     ...     ...         ...       ...   \n",
       "306         306  2018  青海  0.934286   27882   13958    0.740006   6030000   \n",
       "307         307  2018  宁夏  0.000000    4439    2668    0.776987   6880000   \n",
       "308         308  2018  新疆  0.837838    9860    5658    0.882114  24870000   \n",
       "309         309  2018  海南  1.000000   14647    9658    0.732036   9340000   \n",
       "\n",
       "              GDP         进出口总额     全社会固定资产投入        外商直接投资   人均专利申请量  \\\n",
       "0    1.215303e+13  5.685758e+12  3.814700e+12  6.960005e+11  0.017162   \n",
       "1    7.521850e+12  4.702551e+12  3.389800e+12  6.379747e+11  0.010079   \n",
       "2    1.723548e+13  2.629067e+12  8.866600e+12  2.418189e+11  0.001388   \n",
       "3    7.358310e+12  6.084655e+11  3.531200e+12  1.338139e+11  0.001168   \n",
       "..            ...           ...           ...           ...       ...   \n",
       "306  8.246070e+12  4.237061e+11  5.827800e+12  5.140561e+10  0.004624   \n",
       "307  2.865230e+12  3.786588e+10  3.883600e+12  1.206286e+11  0.000645   \n",
       "308  3.705180e+12  2.644083e+11  3.728400e+12  1.380835e+11  0.000396   \n",
       "309  1.219908e+13  2.265424e+12  1.208910e+13  6.058105e+11  0.001568   \n",
       "\n",
       "     知识产权保护指数         人均GDP     经济开放度  GDP_哑变量  \n",
       "0    3.510327  6.533887e+05  0.467847        0  \n",
       "1    2.686999  6.125285e+05  0.625185        0  \n",
       "2    3.088399  2.450310e+05  0.152538        1  \n",
       "3    0.745993  2.147158e+05  0.082691        0  \n",
       "..        ...           ...       ...      ...  \n",
       "306  3.326739  1.367507e+06  0.051383        0  \n",
       "307  1.048028  4.164578e+05  0.013216        0  \n",
       "308  3.274009  1.489819e+05  0.071362        0  \n",
       "309  3.476362  1.306111e+06  0.185705        0  \n",
       "\n",
       "[310 rows x 17 columns]"
      ]
     },
     "execution_count": 108,
     "metadata": {},
     "output_type": "execute_result"
    }
   ],
   "source": [
    "df['GDP_哑变量'] = np.where(df['GDP'] > np.median(df['GDP']), 1, 0)\n",
    "df"
   ]
  },
  {
   "cell_type": "code",
   "execution_count": null,
   "id": "06f53a5e",
   "metadata": {},
   "outputs": [],
   "source": []
  },
  {
   "cell_type": "code",
   "execution_count": null,
   "id": "4d01968b",
   "metadata": {},
   "outputs": [],
   "source": []
  },
  {
   "cell_type": "code",
   "execution_count": 109,
   "id": "0314f093",
   "metadata": {},
   "outputs": [
    {
     "data": {
      "text/html": [
       "<div>\n",
       "<style scoped>\n",
       "    .dataframe tbody tr th:only-of-type {\n",
       "        vertical-align: middle;\n",
       "    }\n",
       "\n",
       "    .dataframe tbody tr th {\n",
       "        vertical-align: top;\n",
       "    }\n",
       "\n",
       "    .dataframe thead th {\n",
       "        text-align: right;\n",
       "    }\n",
       "</style>\n",
       "<table border=\"1\" class=\"dataframe\">\n",
       "  <thead>\n",
       "    <tr style=\"text-align: right;\">\n",
       "      <th></th>\n",
       "      <th>Unnamed: 0</th>\n",
       "      <th>年份</th>\n",
       "      <th>地区</th>\n",
       "      <th>结案率</th>\n",
       "      <th>专利_申请量</th>\n",
       "      <th>专利_授权量</th>\n",
       "      <th>职务专利授权量百分比</th>\n",
       "      <th>人口数</th>\n",
       "      <th>GDP</th>\n",
       "      <th>进出口总额</th>\n",
       "      <th>全社会固定资产投入</th>\n",
       "      <th>外商直接投资</th>\n",
       "      <th>人均专利申请量</th>\n",
       "      <th>知识产权保护指数</th>\n",
       "      <th>人均GDP</th>\n",
       "      <th>经济开放度</th>\n",
       "      <th>GDP_哑变量</th>\n",
       "      <th>人均专利授权量</th>\n",
       "    </tr>\n",
       "  </thead>\n",
       "  <tbody>\n",
       "    <tr>\n",
       "      <th>0</th>\n",
       "      <td>0</td>\n",
       "      <td>2009</td>\n",
       "      <td>北京</td>\n",
       "      <td>1.000000</td>\n",
       "      <td>319205</td>\n",
       "      <td>22921</td>\n",
       "      <td>0.745386</td>\n",
       "      <td>18600000</td>\n",
       "      <td>1.215303e+13</td>\n",
       "      <td>5.685758e+12</td>\n",
       "      <td>3.814700e+12</td>\n",
       "      <td>6.960005e+11</td>\n",
       "      <td>0.017162</td>\n",
       "      <td>3.510327</td>\n",
       "      <td>6.533887e+05</td>\n",
       "      <td>0.467847</td>\n",
       "      <td>0</td>\n",
       "      <td>0.001232</td>\n",
       "    </tr>\n",
       "    <tr>\n",
       "      <th>1</th>\n",
       "      <td>1</td>\n",
       "      <td>2009</td>\n",
       "      <td>天津</td>\n",
       "      <td>0.642857</td>\n",
       "      <td>123771</td>\n",
       "      <td>7404</td>\n",
       "      <td>0.799163</td>\n",
       "      <td>12280000</td>\n",
       "      <td>7.521850e+12</td>\n",
       "      <td>4.702551e+12</td>\n",
       "      <td>3.389800e+12</td>\n",
       "      <td>6.379747e+11</td>\n",
       "      <td>0.010079</td>\n",
       "      <td>2.686999</td>\n",
       "      <td>6.125285e+05</td>\n",
       "      <td>0.625185</td>\n",
       "      <td>0</td>\n",
       "      <td>0.000603</td>\n",
       "    </tr>\n",
       "    <tr>\n",
       "      <th>2</th>\n",
       "      <td>2</td>\n",
       "      <td>2009</td>\n",
       "      <td>河北</td>\n",
       "      <td>1.000000</td>\n",
       "      <td>97663</td>\n",
       "      <td>6839</td>\n",
       "      <td>0.444363</td>\n",
       "      <td>70340000</td>\n",
       "      <td>1.723548e+13</td>\n",
       "      <td>2.629067e+12</td>\n",
       "      <td>8.866600e+12</td>\n",
       "      <td>2.418189e+11</td>\n",
       "      <td>0.001388</td>\n",
       "      <td>3.088399</td>\n",
       "      <td>2.450310e+05</td>\n",
       "      <td>0.152538</td>\n",
       "      <td>1</td>\n",
       "      <td>0.000097</td>\n",
       "    </tr>\n",
       "    <tr>\n",
       "      <th>3</th>\n",
       "      <td>3</td>\n",
       "      <td>2009</td>\n",
       "      <td>山西</td>\n",
       "      <td>0.000000</td>\n",
       "      <td>40031</td>\n",
       "      <td>3227</td>\n",
       "      <td>0.552526</td>\n",
       "      <td>34270000</td>\n",
       "      <td>7.358310e+12</td>\n",
       "      <td>6.084655e+11</td>\n",
       "      <td>3.531200e+12</td>\n",
       "      <td>1.338139e+11</td>\n",
       "      <td>0.001168</td>\n",
       "      <td>0.745993</td>\n",
       "      <td>2.147158e+05</td>\n",
       "      <td>0.082691</td>\n",
       "      <td>0</td>\n",
       "      <td>0.000094</td>\n",
       "    </tr>\n",
       "    <tr>\n",
       "      <th>...</th>\n",
       "      <td>...</td>\n",
       "      <td>...</td>\n",
       "      <td>...</td>\n",
       "      <td>...</td>\n",
       "      <td>...</td>\n",
       "      <td>...</td>\n",
       "      <td>...</td>\n",
       "      <td>...</td>\n",
       "      <td>...</td>\n",
       "      <td>...</td>\n",
       "      <td>...</td>\n",
       "      <td>...</td>\n",
       "      <td>...</td>\n",
       "      <td>...</td>\n",
       "      <td>...</td>\n",
       "      <td>...</td>\n",
       "      <td>...</td>\n",
       "      <td>...</td>\n",
       "    </tr>\n",
       "    <tr>\n",
       "      <th>306</th>\n",
       "      <td>306</td>\n",
       "      <td>2018</td>\n",
       "      <td>青海</td>\n",
       "      <td>0.934286</td>\n",
       "      <td>27882</td>\n",
       "      <td>13958</td>\n",
       "      <td>0.740006</td>\n",
       "      <td>6030000</td>\n",
       "      <td>8.246070e+12</td>\n",
       "      <td>4.237061e+11</td>\n",
       "      <td>5.827800e+12</td>\n",
       "      <td>5.140561e+10</td>\n",
       "      <td>0.004624</td>\n",
       "      <td>3.326739</td>\n",
       "      <td>1.367507e+06</td>\n",
       "      <td>0.051383</td>\n",
       "      <td>0</td>\n",
       "      <td>0.002315</td>\n",
       "    </tr>\n",
       "    <tr>\n",
       "      <th>307</th>\n",
       "      <td>307</td>\n",
       "      <td>2018</td>\n",
       "      <td>宁夏</td>\n",
       "      <td>0.000000</td>\n",
       "      <td>4439</td>\n",
       "      <td>2668</td>\n",
       "      <td>0.776987</td>\n",
       "      <td>6880000</td>\n",
       "      <td>2.865230e+12</td>\n",
       "      <td>3.786588e+10</td>\n",
       "      <td>3.883600e+12</td>\n",
       "      <td>1.206286e+11</td>\n",
       "      <td>0.000645</td>\n",
       "      <td>1.048028</td>\n",
       "      <td>4.164578e+05</td>\n",
       "      <td>0.013216</td>\n",
       "      <td>0</td>\n",
       "      <td>0.000388</td>\n",
       "    </tr>\n",
       "    <tr>\n",
       "      <th>308</th>\n",
       "      <td>308</td>\n",
       "      <td>2018</td>\n",
       "      <td>新疆</td>\n",
       "      <td>0.837838</td>\n",
       "      <td>9860</td>\n",
       "      <td>5658</td>\n",
       "      <td>0.882114</td>\n",
       "      <td>24870000</td>\n",
       "      <td>3.705180e+12</td>\n",
       "      <td>2.644083e+11</td>\n",
       "      <td>3.728400e+12</td>\n",
       "      <td>1.380835e+11</td>\n",
       "      <td>0.000396</td>\n",
       "      <td>3.274009</td>\n",
       "      <td>1.489819e+05</td>\n",
       "      <td>0.071362</td>\n",
       "      <td>0</td>\n",
       "      <td>0.000228</td>\n",
       "    </tr>\n",
       "    <tr>\n",
       "      <th>309</th>\n",
       "      <td>309</td>\n",
       "      <td>2018</td>\n",
       "      <td>海南</td>\n",
       "      <td>1.000000</td>\n",
       "      <td>14647</td>\n",
       "      <td>9658</td>\n",
       "      <td>0.732036</td>\n",
       "      <td>9340000</td>\n",
       "      <td>1.219908e+13</td>\n",
       "      <td>2.265424e+12</td>\n",
       "      <td>1.208910e+13</td>\n",
       "      <td>6.058105e+11</td>\n",
       "      <td>0.001568</td>\n",
       "      <td>3.476362</td>\n",
       "      <td>1.306111e+06</td>\n",
       "      <td>0.185705</td>\n",
       "      <td>0</td>\n",
       "      <td>0.001034</td>\n",
       "    </tr>\n",
       "  </tbody>\n",
       "</table>\n",
       "<p>310 rows × 18 columns</p>\n",
       "</div>"
      ],
      "text/plain": [
       "     Unnamed: 0    年份  地区       结案率  专利_申请量  专利_授权量  职务专利授权量百分比       人口数  \\\n",
       "0             0  2009  北京  1.000000  319205   22921    0.745386  18600000   \n",
       "1             1  2009  天津  0.642857  123771    7404    0.799163  12280000   \n",
       "2             2  2009  河北  1.000000   97663    6839    0.444363  70340000   \n",
       "3             3  2009  山西  0.000000   40031    3227    0.552526  34270000   \n",
       "..          ...   ...  ..       ...     ...     ...         ...       ...   \n",
       "306         306  2018  青海  0.934286   27882   13958    0.740006   6030000   \n",
       "307         307  2018  宁夏  0.000000    4439    2668    0.776987   6880000   \n",
       "308         308  2018  新疆  0.837838    9860    5658    0.882114  24870000   \n",
       "309         309  2018  海南  1.000000   14647    9658    0.732036   9340000   \n",
       "\n",
       "              GDP         进出口总额     全社会固定资产投入        外商直接投资   人均专利申请量  \\\n",
       "0    1.215303e+13  5.685758e+12  3.814700e+12  6.960005e+11  0.017162   \n",
       "1    7.521850e+12  4.702551e+12  3.389800e+12  6.379747e+11  0.010079   \n",
       "2    1.723548e+13  2.629067e+12  8.866600e+12  2.418189e+11  0.001388   \n",
       "3    7.358310e+12  6.084655e+11  3.531200e+12  1.338139e+11  0.001168   \n",
       "..            ...           ...           ...           ...       ...   \n",
       "306  8.246070e+12  4.237061e+11  5.827800e+12  5.140561e+10  0.004624   \n",
       "307  2.865230e+12  3.786588e+10  3.883600e+12  1.206286e+11  0.000645   \n",
       "308  3.705180e+12  2.644083e+11  3.728400e+12  1.380835e+11  0.000396   \n",
       "309  1.219908e+13  2.265424e+12  1.208910e+13  6.058105e+11  0.001568   \n",
       "\n",
       "     知识产权保护指数         人均GDP     经济开放度  GDP_哑变量   人均专利授权量  \n",
       "0    3.510327  6.533887e+05  0.467847        0  0.001232  \n",
       "1    2.686999  6.125285e+05  0.625185        0  0.000603  \n",
       "2    3.088399  2.450310e+05  0.152538        1  0.000097  \n",
       "3    0.745993  2.147158e+05  0.082691        0  0.000094  \n",
       "..        ...           ...       ...      ...       ...  \n",
       "306  3.326739  1.367507e+06  0.051383        0  0.002315  \n",
       "307  1.048028  4.164578e+05  0.013216        0  0.000388  \n",
       "308  3.274009  1.489819e+05  0.071362        0  0.000228  \n",
       "309  3.476362  1.306111e+06  0.185705        0  0.001034  \n",
       "\n",
       "[310 rows x 18 columns]"
      ]
     },
     "execution_count": 109,
     "metadata": {},
     "output_type": "execute_result"
    }
   ],
   "source": [
    "###添加人均专利授权量\n",
    "df['人均专利授权量'] = df['专利_授权量'] / df['人口数']\n",
    "df"
   ]
  },
  {
   "cell_type": "code",
   "execution_count": 110,
   "id": "82df6e57",
   "metadata": {},
   "outputs": [
    {
     "data": {
      "text/html": [
       "<div>\n",
       "<style scoped>\n",
       "    .dataframe tbody tr th:only-of-type {\n",
       "        vertical-align: middle;\n",
       "    }\n",
       "\n",
       "    .dataframe tbody tr th {\n",
       "        vertical-align: top;\n",
       "    }\n",
       "\n",
       "    .dataframe thead th {\n",
       "        text-align: right;\n",
       "    }\n",
       "</style>\n",
       "<table border=\"1\" class=\"dataframe\">\n",
       "  <thead>\n",
       "    <tr style=\"text-align: right;\">\n",
       "      <th></th>\n",
       "      <th>人均专利申请量</th>\n",
       "      <th>人均专利授权量</th>\n",
       "      <th>知识产权保护指数</th>\n",
       "      <th>人口数</th>\n",
       "      <th>全社会固定资产投入</th>\n",
       "      <th>GDP</th>\n",
       "      <th>经济开放度</th>\n",
       "      <th>外商直接投资</th>\n",
       "      <th>GDP_哑变量</th>\n",
       "    </tr>\n",
       "  </thead>\n",
       "  <tbody>\n",
       "    <tr>\n",
       "      <th>count</th>\n",
       "      <td>310.000000</td>\n",
       "      <td>310.000000</td>\n",
       "      <td>310.000000</td>\n",
       "      <td>3.100000e+02</td>\n",
       "      <td>3.100000e+02</td>\n",
       "      <td>3.100000e+02</td>\n",
       "      <td>310.000000</td>\n",
       "      <td>3.100000e+02</td>\n",
       "      <td>310.000000</td>\n",
       "    </tr>\n",
       "    <tr>\n",
       "      <th>mean</th>\n",
       "      <td>0.007224</td>\n",
       "      <td>0.000946</td>\n",
       "      <td>2.788664</td>\n",
       "      <td>4.516065e+07</td>\n",
       "      <td>1.314110e+13</td>\n",
       "      <td>2.091489e+13</td>\n",
       "      <td>0.260745</td>\n",
       "      <td>8.961913e+11</td>\n",
       "      <td>0.500000</td>\n",
       "    </tr>\n",
       "    <tr>\n",
       "      <th>std</th>\n",
       "      <td>0.009369</td>\n",
       "      <td>0.001146</td>\n",
       "      <td>0.873090</td>\n",
       "      <td>3.587171e+07</td>\n",
       "      <td>1.064413e+13</td>\n",
       "      <td>1.773466e+13</td>\n",
       "      <td>0.290616</td>\n",
       "      <td>1.502031e+12</td>\n",
       "      <td>0.500808</td>\n",
       "    </tr>\n",
       "    <tr>\n",
       "      <th>min</th>\n",
       "      <td>0.000029</td>\n",
       "      <td>0.000003</td>\n",
       "      <td>0.074238</td>\n",
       "      <td>2.960000e+06</td>\n",
       "      <td>3.099000e+11</td>\n",
       "      <td>4.413600e+11</td>\n",
       "      <td>0.001400</td>\n",
       "      <td>3.485228e+09</td>\n",
       "      <td>0.000000</td>\n",
       "    </tr>\n",
       "    <tr>\n",
       "      <th>25%</th>\n",
       "      <td>0.001340</td>\n",
       "      <td>0.000180</td>\n",
       "      <td>2.329101</td>\n",
       "      <td>2.430750e+07</td>\n",
       "      <td>5.488725e+12</td>\n",
       "      <td>9.356415e+12</td>\n",
       "      <td>0.085008</td>\n",
       "      <td>1.551320e+11</td>\n",
       "      <td>0.000000</td>\n",
       "    </tr>\n",
       "    <tr>\n",
       "      <th>50%</th>\n",
       "      <td>0.003428</td>\n",
       "      <td>0.000475</td>\n",
       "      <td>3.147719</td>\n",
       "      <td>3.802500e+07</td>\n",
       "      <td>1.032635e+13</td>\n",
       "      <td>1.617406e+13</td>\n",
       "      <td>0.133673</td>\n",
       "      <td>3.197996e+11</td>\n",
       "      <td>0.500000</td>\n",
       "    </tr>\n",
       "    <tr>\n",
       "      <th>75%</th>\n",
       "      <td>0.008695</td>\n",
       "      <td>0.001277</td>\n",
       "      <td>3.428919</td>\n",
       "      <td>6.019500e+07</td>\n",
       "      <td>1.775832e+13</td>\n",
       "      <td>2.706756e+13</td>\n",
       "      <td>0.315726</td>\n",
       "      <td>9.342400e+11</td>\n",
       "      <td>1.000000</td>\n",
       "    </tr>\n",
       "    <tr>\n",
       "      <th>max</th>\n",
       "      <td>0.053060</td>\n",
       "      <td>0.005913</td>\n",
       "      <td>3.787443</td>\n",
       "      <td>4.459200e+08</td>\n",
       "      <td>5.520270e+13</td>\n",
       "      <td>9.727777e+13</td>\n",
       "      <td>1.473174</td>\n",
       "      <td>1.255753e+13</td>\n",
       "      <td>1.000000</td>\n",
       "    </tr>\n",
       "  </tbody>\n",
       "</table>\n",
       "</div>"
      ],
      "text/plain": [
       "          人均专利申请量     人均专利授权量    知识产权保护指数           人口数     全社会固定资产投入  \\\n",
       "count  310.000000  310.000000  310.000000  3.100000e+02  3.100000e+02   \n",
       "mean     0.007224    0.000946    2.788664  4.516065e+07  1.314110e+13   \n",
       "std      0.009369    0.001146    0.873090  3.587171e+07  1.064413e+13   \n",
       "min      0.000029    0.000003    0.074238  2.960000e+06  3.099000e+11   \n",
       "25%      0.001340    0.000180    2.329101  2.430750e+07  5.488725e+12   \n",
       "50%      0.003428    0.000475    3.147719  3.802500e+07  1.032635e+13   \n",
       "75%      0.008695    0.001277    3.428919  6.019500e+07  1.775832e+13   \n",
       "max      0.053060    0.005913    3.787443  4.459200e+08  5.520270e+13   \n",
       "\n",
       "                GDP       经济开放度        外商直接投资     GDP_哑变量  \n",
       "count  3.100000e+02  310.000000  3.100000e+02  310.000000  \n",
       "mean   2.091489e+13    0.260745  8.961913e+11    0.500000  \n",
       "std    1.773466e+13    0.290616  1.502031e+12    0.500808  \n",
       "min    4.413600e+11    0.001400  3.485228e+09    0.000000  \n",
       "25%    9.356415e+12    0.085008  1.551320e+11    0.000000  \n",
       "50%    1.617406e+13    0.133673  3.197996e+11    0.500000  \n",
       "75%    2.706756e+13    0.315726  9.342400e+11    1.000000  \n",
       "max    9.727777e+13    1.473174  1.255753e+13    1.000000  "
      ]
     },
     "execution_count": 110,
     "metadata": {},
     "output_type": "execute_result"
    }
   ],
   "source": [
    "C = ['人均专利申请量','人均专利授权量','知识产权保护指数','人口数','全社会固定资产投入','GDP','经济开放度','外商直接投资','GDP_哑变量']\n",
    "df1 = df[C].copy()\n",
    "df1.describe()"
   ]
  },
  {
   "cell_type": "code",
   "execution_count": 111,
   "id": "8495d343",
   "metadata": {
    "scrolled": true
   },
   "outputs": [
    {
     "data": {
      "application/javascript": "/* Put everything inside the global mpl namespace */\n/* global mpl */\nwindow.mpl = {};\n\nmpl.get_websocket_type = function () {\n    if (typeof WebSocket !== 'undefined') {\n        return WebSocket;\n    } else if (typeof MozWebSocket !== 'undefined') {\n        return MozWebSocket;\n    } else {\n        alert(\n            'Your browser does not have WebSocket support. ' +\n                'Please try Chrome, Safari or Firefox ≥ 6. ' +\n                'Firefox 4 and 5 are also supported but you ' +\n                'have to enable WebSockets in about:config.'\n        );\n    }\n};\n\nmpl.figure = function (figure_id, websocket, ondownload, parent_element) {\n    this.id = figure_id;\n\n    this.ws = websocket;\n\n    this.supports_binary = this.ws.binaryType !== undefined;\n\n    if (!this.supports_binary) {\n        var warnings = document.getElementById('mpl-warnings');\n        if (warnings) {\n            warnings.style.display = 'block';\n            warnings.textContent =\n                'This browser does not support binary websocket messages. ' +\n                'Performance may be slow.';\n        }\n    }\n\n    this.imageObj = new Image();\n\n    this.context = undefined;\n    this.message = undefined;\n    this.canvas = undefined;\n    this.rubberband_canvas = undefined;\n    this.rubberband_context = undefined;\n    this.format_dropdown = undefined;\n\n    this.image_mode = 'full';\n\n    this.root = document.createElement('div');\n    this.root.setAttribute('style', 'display: inline-block');\n    this._root_extra_style(this.root);\n\n    parent_element.appendChild(this.root);\n\n    this._init_header(this);\n    this._init_canvas(this);\n    this._init_toolbar(this);\n\n    var fig = this;\n\n    this.waiting = false;\n\n    this.ws.onopen = function () {\n        fig.send_message('supports_binary', { value: fig.supports_binary });\n        fig.send_message('send_image_mode', {});\n        if (fig.ratio !== 1) {\n            fig.send_message('set_device_pixel_ratio', {\n                device_pixel_ratio: fig.ratio,\n            });\n        }\n        fig.send_message('refresh', {});\n    };\n\n    this.imageObj.onload = function () {\n        if (fig.image_mode === 'full') {\n            // Full images could contain transparency (where diff images\n            // almost always do), so we need to clear the canvas so that\n            // there is no ghosting.\n            fig.context.clearRect(0, 0, fig.canvas.width, fig.canvas.height);\n        }\n        fig.context.drawImage(fig.imageObj, 0, 0);\n    };\n\n    this.imageObj.onunload = function () {\n        fig.ws.close();\n    };\n\n    this.ws.onmessage = this._make_on_message_function(this);\n\n    this.ondownload = ondownload;\n};\n\nmpl.figure.prototype._init_header = function () {\n    var titlebar = document.createElement('div');\n    titlebar.classList =\n        'ui-dialog-titlebar ui-widget-header ui-corner-all ui-helper-clearfix';\n    var titletext = document.createElement('div');\n    titletext.classList = 'ui-dialog-title';\n    titletext.setAttribute(\n        'style',\n        'width: 100%; text-align: center; padding: 3px;'\n    );\n    titlebar.appendChild(titletext);\n    this.root.appendChild(titlebar);\n    this.header = titletext;\n};\n\nmpl.figure.prototype._canvas_extra_style = function (_canvas_div) {};\n\nmpl.figure.prototype._root_extra_style = function (_canvas_div) {};\n\nmpl.figure.prototype._init_canvas = function () {\n    var fig = this;\n\n    var canvas_div = (this.canvas_div = document.createElement('div'));\n    canvas_div.setAttribute('tabindex', '0');\n    canvas_div.setAttribute(\n        'style',\n        'border: 1px solid #ddd;' +\n            'box-sizing: content-box;' +\n            'clear: both;' +\n            'min-height: 1px;' +\n            'min-width: 1px;' +\n            'outline: 0;' +\n            'overflow: hidden;' +\n            'position: relative;' +\n            'resize: both;' +\n            'z-index: 2;'\n    );\n\n    function on_keyboard_event_closure(name) {\n        return function (event) {\n            return fig.key_event(event, name);\n        };\n    }\n\n    canvas_div.addEventListener(\n        'keydown',\n        on_keyboard_event_closure('key_press')\n    );\n    canvas_div.addEventListener(\n        'keyup',\n        on_keyboard_event_closure('key_release')\n    );\n\n    this._canvas_extra_style(canvas_div);\n    this.root.appendChild(canvas_div);\n\n    var canvas = (this.canvas = document.createElement('canvas'));\n    canvas.classList.add('mpl-canvas');\n    canvas.setAttribute(\n        'style',\n        'box-sizing: content-box;' +\n            'pointer-events: none;' +\n            'position: relative;' +\n            'z-index: 0;'\n    );\n\n    this.context = canvas.getContext('2d');\n\n    var backingStore =\n        this.context.backingStorePixelRatio ||\n        this.context.webkitBackingStorePixelRatio ||\n        this.context.mozBackingStorePixelRatio ||\n        this.context.msBackingStorePixelRatio ||\n        this.context.oBackingStorePixelRatio ||\n        this.context.backingStorePixelRatio ||\n        1;\n\n    this.ratio = (window.devicePixelRatio || 1) / backingStore;\n\n    var rubberband_canvas = (this.rubberband_canvas = document.createElement(\n        'canvas'\n    ));\n    rubberband_canvas.setAttribute(\n        'style',\n        'box-sizing: content-box;' +\n            'left: 0;' +\n            'pointer-events: none;' +\n            'position: absolute;' +\n            'top: 0;' +\n            'z-index: 1;'\n    );\n\n    // Apply a ponyfill if ResizeObserver is not implemented by browser.\n    if (this.ResizeObserver === undefined) {\n        if (window.ResizeObserver !== undefined) {\n            this.ResizeObserver = window.ResizeObserver;\n        } else {\n            var obs = _JSXTOOLS_RESIZE_OBSERVER({});\n            this.ResizeObserver = obs.ResizeObserver;\n        }\n    }\n\n    this.resizeObserverInstance = new this.ResizeObserver(function (entries) {\n        // There's no need to resize if the WebSocket is not connected:\n        // - If it is still connecting, then we will get an initial resize from\n        //   Python once it connects.\n        // - If it has disconnected, then resizing will clear the canvas and\n        //   never get anything back to refill it, so better to not resize and\n        //   keep something visible.\n        if (fig.ws.readyState != 1) {\n            return;\n        }\n        var nentries = entries.length;\n        for (var i = 0; i < nentries; i++) {\n            var entry = entries[i];\n            var width, height;\n            if (entry.contentBoxSize) {\n                if (entry.contentBoxSize instanceof Array) {\n                    // Chrome 84 implements new version of spec.\n                    width = entry.contentBoxSize[0].inlineSize;\n                    height = entry.contentBoxSize[0].blockSize;\n                } else {\n                    // Firefox implements old version of spec.\n                    width = entry.contentBoxSize.inlineSize;\n                    height = entry.contentBoxSize.blockSize;\n                }\n            } else {\n                // Chrome <84 implements even older version of spec.\n                width = entry.contentRect.width;\n                height = entry.contentRect.height;\n            }\n\n            // Keep the size of the canvas and rubber band canvas in sync with\n            // the canvas container.\n            if (entry.devicePixelContentBoxSize) {\n                // Chrome 84 implements new version of spec.\n                canvas.setAttribute(\n                    'width',\n                    entry.devicePixelContentBoxSize[0].inlineSize\n                );\n                canvas.setAttribute(\n                    'height',\n                    entry.devicePixelContentBoxSize[0].blockSize\n                );\n            } else {\n                canvas.setAttribute('width', width * fig.ratio);\n                canvas.setAttribute('height', height * fig.ratio);\n            }\n            /* This rescales the canvas back to display pixels, so that it\n             * appears correct on HiDPI screens. */\n            canvas.style.width = width + 'px';\n            canvas.style.height = height + 'px';\n\n            rubberband_canvas.setAttribute('width', width);\n            rubberband_canvas.setAttribute('height', height);\n\n            // And update the size in Python. We ignore the initial 0/0 size\n            // that occurs as the element is placed into the DOM, which should\n            // otherwise not happen due to the minimum size styling.\n            if (width != 0 && height != 0) {\n                fig.request_resize(width, height);\n            }\n        }\n    });\n    this.resizeObserverInstance.observe(canvas_div);\n\n    function on_mouse_event_closure(name) {\n        /* User Agent sniffing is bad, but WebKit is busted:\n         * https://bugs.webkit.org/show_bug.cgi?id=144526\n         * https://bugs.webkit.org/show_bug.cgi?id=181818\n         * The worst that happens here is that they get an extra browser\n         * selection when dragging, if this check fails to catch them.\n         */\n        var UA = navigator.userAgent;\n        var isWebKit = /AppleWebKit/.test(UA) && !/Chrome/.test(UA);\n        if(isWebKit) {\n            return function (event) {\n                /* This prevents the web browser from automatically changing to\n                 * the text insertion cursor when the button is pressed. We\n                 * want to control all of the cursor setting manually through\n                 * the 'cursor' event from matplotlib */\n                event.preventDefault()\n                return fig.mouse_event(event, name);\n            };\n        } else {\n            return function (event) {\n                return fig.mouse_event(event, name);\n            };\n        }\n    }\n\n    canvas_div.addEventListener(\n        'mousedown',\n        on_mouse_event_closure('button_press')\n    );\n    canvas_div.addEventListener(\n        'mouseup',\n        on_mouse_event_closure('button_release')\n    );\n    canvas_div.addEventListener(\n        'dblclick',\n        on_mouse_event_closure('dblclick')\n    );\n    // Throttle sequential mouse events to 1 every 20ms.\n    canvas_div.addEventListener(\n        'mousemove',\n        on_mouse_event_closure('motion_notify')\n    );\n\n    canvas_div.addEventListener(\n        'mouseenter',\n        on_mouse_event_closure('figure_enter')\n    );\n    canvas_div.addEventListener(\n        'mouseleave',\n        on_mouse_event_closure('figure_leave')\n    );\n\n    canvas_div.addEventListener('wheel', function (event) {\n        if (event.deltaY < 0) {\n            event.step = 1;\n        } else {\n            event.step = -1;\n        }\n        on_mouse_event_closure('scroll')(event);\n    });\n\n    canvas_div.appendChild(canvas);\n    canvas_div.appendChild(rubberband_canvas);\n\n    this.rubberband_context = rubberband_canvas.getContext('2d');\n    this.rubberband_context.strokeStyle = '#000000';\n\n    this._resize_canvas = function (width, height, forward) {\n        if (forward) {\n            canvas_div.style.width = width + 'px';\n            canvas_div.style.height = height + 'px';\n        }\n    };\n\n    // Disable right mouse context menu.\n    canvas_div.addEventListener('contextmenu', function (_e) {\n        event.preventDefault();\n        return false;\n    });\n\n    function set_focus() {\n        canvas.focus();\n        canvas_div.focus();\n    }\n\n    window.setTimeout(set_focus, 100);\n};\n\nmpl.figure.prototype._init_toolbar = function () {\n    var fig = this;\n\n    var toolbar = document.createElement('div');\n    toolbar.classList = 'mpl-toolbar';\n    this.root.appendChild(toolbar);\n\n    function on_click_closure(name) {\n        return function (_event) {\n            return fig.toolbar_button_onclick(name);\n        };\n    }\n\n    function on_mouseover_closure(tooltip) {\n        return function (event) {\n            if (!event.currentTarget.disabled) {\n                return fig.toolbar_button_onmouseover(tooltip);\n            }\n        };\n    }\n\n    fig.buttons = {};\n    var buttonGroup = document.createElement('div');\n    buttonGroup.classList = 'mpl-button-group';\n    for (var toolbar_ind in mpl.toolbar_items) {\n        var name = mpl.toolbar_items[toolbar_ind][0];\n        var tooltip = mpl.toolbar_items[toolbar_ind][1];\n        var image = mpl.toolbar_items[toolbar_ind][2];\n        var method_name = mpl.toolbar_items[toolbar_ind][3];\n\n        if (!name) {\n            /* Instead of a spacer, we start a new button group. */\n            if (buttonGroup.hasChildNodes()) {\n                toolbar.appendChild(buttonGroup);\n            }\n            buttonGroup = document.createElement('div');\n            buttonGroup.classList = 'mpl-button-group';\n            continue;\n        }\n\n        var button = (fig.buttons[name] = document.createElement('button'));\n        button.classList = 'mpl-widget';\n        button.setAttribute('role', 'button');\n        button.setAttribute('aria-disabled', 'false');\n        button.addEventListener('click', on_click_closure(method_name));\n        button.addEventListener('mouseover', on_mouseover_closure(tooltip));\n\n        var icon_img = document.createElement('img');\n        icon_img.src = '_images/' + image + '.png';\n        icon_img.srcset = '_images/' + image + '_large.png 2x';\n        icon_img.alt = tooltip;\n        button.appendChild(icon_img);\n\n        buttonGroup.appendChild(button);\n    }\n\n    if (buttonGroup.hasChildNodes()) {\n        toolbar.appendChild(buttonGroup);\n    }\n\n    var fmt_picker = document.createElement('select');\n    fmt_picker.classList = 'mpl-widget';\n    toolbar.appendChild(fmt_picker);\n    this.format_dropdown = fmt_picker;\n\n    for (var ind in mpl.extensions) {\n        var fmt = mpl.extensions[ind];\n        var option = document.createElement('option');\n        option.selected = fmt === mpl.default_extension;\n        option.innerHTML = fmt;\n        fmt_picker.appendChild(option);\n    }\n\n    var status_bar = document.createElement('span');\n    status_bar.classList = 'mpl-message';\n    toolbar.appendChild(status_bar);\n    this.message = status_bar;\n};\n\nmpl.figure.prototype.request_resize = function (x_pixels, y_pixels) {\n    // Request matplotlib to resize the figure. Matplotlib will then trigger a resize in the client,\n    // which will in turn request a refresh of the image.\n    this.send_message('resize', { width: x_pixels, height: y_pixels });\n};\n\nmpl.figure.prototype.send_message = function (type, properties) {\n    properties['type'] = type;\n    properties['figure_id'] = this.id;\n    this.ws.send(JSON.stringify(properties));\n};\n\nmpl.figure.prototype.send_draw_message = function () {\n    if (!this.waiting) {\n        this.waiting = true;\n        this.ws.send(JSON.stringify({ type: 'draw', figure_id: this.id }));\n    }\n};\n\nmpl.figure.prototype.handle_save = function (fig, _msg) {\n    var format_dropdown = fig.format_dropdown;\n    var format = format_dropdown.options[format_dropdown.selectedIndex].value;\n    fig.ondownload(fig, format);\n};\n\nmpl.figure.prototype.handle_resize = function (fig, msg) {\n    var size = msg['size'];\n    if (size[0] !== fig.canvas.width || size[1] !== fig.canvas.height) {\n        fig._resize_canvas(size[0], size[1], msg['forward']);\n        fig.send_message('refresh', {});\n    }\n};\n\nmpl.figure.prototype.handle_rubberband = function (fig, msg) {\n    var x0 = msg['x0'] / fig.ratio;\n    var y0 = (fig.canvas.height - msg['y0']) / fig.ratio;\n    var x1 = msg['x1'] / fig.ratio;\n    var y1 = (fig.canvas.height - msg['y1']) / fig.ratio;\n    x0 = Math.floor(x0) + 0.5;\n    y0 = Math.floor(y0) + 0.5;\n    x1 = Math.floor(x1) + 0.5;\n    y1 = Math.floor(y1) + 0.5;\n    var min_x = Math.min(x0, x1);\n    var min_y = Math.min(y0, y1);\n    var width = Math.abs(x1 - x0);\n    var height = Math.abs(y1 - y0);\n\n    fig.rubberband_context.clearRect(\n        0,\n        0,\n        fig.canvas.width / fig.ratio,\n        fig.canvas.height / fig.ratio\n    );\n\n    fig.rubberband_context.strokeRect(min_x, min_y, width, height);\n};\n\nmpl.figure.prototype.handle_figure_label = function (fig, msg) {\n    // Updates the figure title.\n    fig.header.textContent = msg['label'];\n};\n\nmpl.figure.prototype.handle_cursor = function (fig, msg) {\n    fig.canvas_div.style.cursor = msg['cursor'];\n};\n\nmpl.figure.prototype.handle_message = function (fig, msg) {\n    fig.message.textContent = msg['message'];\n};\n\nmpl.figure.prototype.handle_draw = function (fig, _msg) {\n    // Request the server to send over a new figure.\n    fig.send_draw_message();\n};\n\nmpl.figure.prototype.handle_image_mode = function (fig, msg) {\n    fig.image_mode = msg['mode'];\n};\n\nmpl.figure.prototype.handle_history_buttons = function (fig, msg) {\n    for (var key in msg) {\n        if (!(key in fig.buttons)) {\n            continue;\n        }\n        fig.buttons[key].disabled = !msg[key];\n        fig.buttons[key].setAttribute('aria-disabled', !msg[key]);\n    }\n};\n\nmpl.figure.prototype.handle_navigate_mode = function (fig, msg) {\n    if (msg['mode'] === 'PAN') {\n        fig.buttons['Pan'].classList.add('active');\n        fig.buttons['Zoom'].classList.remove('active');\n    } else if (msg['mode'] === 'ZOOM') {\n        fig.buttons['Pan'].classList.remove('active');\n        fig.buttons['Zoom'].classList.add('active');\n    } else {\n        fig.buttons['Pan'].classList.remove('active');\n        fig.buttons['Zoom'].classList.remove('active');\n    }\n};\n\nmpl.figure.prototype.updated_canvas_event = function () {\n    // Called whenever the canvas gets updated.\n    this.send_message('ack', {});\n};\n\n// A function to construct a web socket function for onmessage handling.\n// Called in the figure constructor.\nmpl.figure.prototype._make_on_message_function = function (fig) {\n    return function socket_on_message(evt) {\n        if (evt.data instanceof Blob) {\n            var img = evt.data;\n            if (img.type !== 'image/png') {\n                /* FIXME: We get \"Resource interpreted as Image but\n                 * transferred with MIME type text/plain:\" errors on\n                 * Chrome.  But how to set the MIME type?  It doesn't seem\n                 * to be part of the websocket stream */\n                img.type = 'image/png';\n            }\n\n            /* Free the memory for the previous frames */\n            if (fig.imageObj.src) {\n                (window.URL || window.webkitURL).revokeObjectURL(\n                    fig.imageObj.src\n                );\n            }\n\n            fig.imageObj.src = (window.URL || window.webkitURL).createObjectURL(\n                img\n            );\n            fig.updated_canvas_event();\n            fig.waiting = false;\n            return;\n        } else if (\n            typeof evt.data === 'string' &&\n            evt.data.slice(0, 21) === 'data:image/png;base64'\n        ) {\n            fig.imageObj.src = evt.data;\n            fig.updated_canvas_event();\n            fig.waiting = false;\n            return;\n        }\n\n        var msg = JSON.parse(evt.data);\n        var msg_type = msg['type'];\n\n        // Call the  \"handle_{type}\" callback, which takes\n        // the figure and JSON message as its only arguments.\n        try {\n            var callback = fig['handle_' + msg_type];\n        } catch (e) {\n            console.log(\n                \"No handler for the '\" + msg_type + \"' message type: \",\n                msg\n            );\n            return;\n        }\n\n        if (callback) {\n            try {\n                // console.log(\"Handling '\" + msg_type + \"' message: \", msg);\n                callback(fig, msg);\n            } catch (e) {\n                console.log(\n                    \"Exception inside the 'handler_\" + msg_type + \"' callback:\",\n                    e,\n                    e.stack,\n                    msg\n                );\n            }\n        }\n    };\n};\n\nfunction getModifiers(event) {\n    var mods = [];\n    if (event.ctrlKey) {\n        mods.push('ctrl');\n    }\n    if (event.altKey) {\n        mods.push('alt');\n    }\n    if (event.shiftKey) {\n        mods.push('shift');\n    }\n    if (event.metaKey) {\n        mods.push('meta');\n    }\n    return mods;\n}\n\n/*\n * return a copy of an object with only non-object keys\n * we need this to avoid circular references\n * https://stackoverflow.com/a/24161582/3208463\n */\nfunction simpleKeys(original) {\n    return Object.keys(original).reduce(function (obj, key) {\n        if (typeof original[key] !== 'object') {\n            obj[key] = original[key];\n        }\n        return obj;\n    }, {});\n}\n\nmpl.figure.prototype.mouse_event = function (event, name) {\n    if (name === 'button_press') {\n        this.canvas.focus();\n        this.canvas_div.focus();\n    }\n\n    // from https://stackoverflow.com/q/1114465\n    var boundingRect = this.canvas.getBoundingClientRect();\n    var x = (event.clientX - boundingRect.left) * this.ratio;\n    var y = (event.clientY - boundingRect.top) * this.ratio;\n\n    this.send_message(name, {\n        x: x,\n        y: y,\n        button: event.button,\n        step: event.step,\n        buttons: event.buttons,\n        modifiers: getModifiers(event),\n        guiEvent: simpleKeys(event),\n    });\n\n    return false;\n};\n\nmpl.figure.prototype._key_event_extra = function (_event, _name) {\n    // Handle any extra behaviour associated with a key event\n};\n\nmpl.figure.prototype.key_event = function (event, name) {\n    // Prevent repeat events\n    if (name === 'key_press') {\n        if (event.key === this._key) {\n            return;\n        } else {\n            this._key = event.key;\n        }\n    }\n    if (name === 'key_release') {\n        this._key = null;\n    }\n\n    var value = '';\n    if (event.ctrlKey && event.key !== 'Control') {\n        value += 'ctrl+';\n    }\n    else if (event.altKey && event.key !== 'Alt') {\n        value += 'alt+';\n    }\n    else if (event.shiftKey && event.key !== 'Shift') {\n        value += 'shift+';\n    }\n\n    value += 'k' + event.key;\n\n    this._key_event_extra(event, name);\n\n    this.send_message(name, { key: value, guiEvent: simpleKeys(event) });\n    return false;\n};\n\nmpl.figure.prototype.toolbar_button_onclick = function (name) {\n    if (name === 'download') {\n        this.handle_save(this, null);\n    } else {\n        this.send_message('toolbar_button', { name: name });\n    }\n};\n\nmpl.figure.prototype.toolbar_button_onmouseover = function (tooltip) {\n    this.message.textContent = tooltip;\n};\n\n///////////////// REMAINING CONTENT GENERATED BY embed_js.py /////////////////\n// prettier-ignore\nvar _JSXTOOLS_RESIZE_OBSERVER=function(A){var t,i=new WeakMap,n=new WeakMap,a=new WeakMap,r=new WeakMap,o=new Set;function s(e){if(!(this instanceof s))throw new TypeError(\"Constructor requires 'new' operator\");i.set(this,e)}function h(){throw new TypeError(\"Function is not a constructor\")}function c(e,t,i,n){e=0 in arguments?Number(arguments[0]):0,t=1 in arguments?Number(arguments[1]):0,i=2 in arguments?Number(arguments[2]):0,n=3 in arguments?Number(arguments[3]):0,this.right=(this.x=this.left=e)+(this.width=i),this.bottom=(this.y=this.top=t)+(this.height=n),Object.freeze(this)}function d(){t=requestAnimationFrame(d);var s=new WeakMap,p=new Set;o.forEach((function(t){r.get(t).forEach((function(i){var r=t instanceof window.SVGElement,o=a.get(t),d=r?0:parseFloat(o.paddingTop),f=r?0:parseFloat(o.paddingRight),l=r?0:parseFloat(o.paddingBottom),u=r?0:parseFloat(o.paddingLeft),g=r?0:parseFloat(o.borderTopWidth),m=r?0:parseFloat(o.borderRightWidth),w=r?0:parseFloat(o.borderBottomWidth),b=u+f,F=d+l,v=(r?0:parseFloat(o.borderLeftWidth))+m,W=g+w,y=r?0:t.offsetHeight-W-t.clientHeight,E=r?0:t.offsetWidth-v-t.clientWidth,R=b+v,z=F+W,M=r?t.width:parseFloat(o.width)-R-E,O=r?t.height:parseFloat(o.height)-z-y;if(n.has(t)){var k=n.get(t);if(k[0]===M&&k[1]===O)return}n.set(t,[M,O]);var S=Object.create(h.prototype);S.target=t,S.contentRect=new c(u,d,M,O),s.has(i)||(s.set(i,[]),p.add(i)),s.get(i).push(S)}))})),p.forEach((function(e){i.get(e).call(e,s.get(e),e)}))}return s.prototype.observe=function(i){if(i instanceof window.Element){r.has(i)||(r.set(i,new Set),o.add(i),a.set(i,window.getComputedStyle(i)));var n=r.get(i);n.has(this)||n.add(this),cancelAnimationFrame(t),t=requestAnimationFrame(d)}},s.prototype.unobserve=function(i){if(i instanceof window.Element&&r.has(i)){var n=r.get(i);n.has(this)&&(n.delete(this),n.size||(r.delete(i),o.delete(i))),n.size||r.delete(i),o.size||cancelAnimationFrame(t)}},A.DOMRectReadOnly=c,A.ResizeObserver=s,A.ResizeObserverEntry=h,A}; // eslint-disable-line\nmpl.toolbar_items = [[\"Home\", \"Reset original view\", \"fa fa-home\", \"home\"], [\"Back\", \"Back to previous view\", \"fa fa-arrow-left\", \"back\"], [\"Forward\", \"Forward to next view\", \"fa fa-arrow-right\", \"forward\"], [\"\", \"\", \"\", \"\"], [\"Pan\", \"Left button pans, Right button zooms\\nx/y fixes axis, CTRL fixes aspect\", \"fa fa-arrows\", \"pan\"], [\"Zoom\", \"Zoom to rectangle\\nx/y fixes axis\", \"fa fa-square-o\", \"zoom\"], [\"\", \"\", \"\", \"\"], [\"Download\", \"Download plot\", \"fa fa-floppy-o\", \"download\"]];\n\nmpl.extensions = [\"eps\", \"jpeg\", \"pgf\", \"pdf\", \"png\", \"ps\", \"raw\", \"svg\", \"tif\", \"webp\"];\n\nmpl.default_extension = \"png\";/* global mpl */\n\nvar comm_websocket_adapter = function (comm) {\n    // Create a \"websocket\"-like object which calls the given IPython comm\n    // object with the appropriate methods. Currently this is a non binary\n    // socket, so there is still some room for performance tuning.\n    var ws = {};\n\n    ws.binaryType = comm.kernel.ws.binaryType;\n    ws.readyState = comm.kernel.ws.readyState;\n    function updateReadyState(_event) {\n        if (comm.kernel.ws) {\n            ws.readyState = comm.kernel.ws.readyState;\n        } else {\n            ws.readyState = 3; // Closed state.\n        }\n    }\n    comm.kernel.ws.addEventListener('open', updateReadyState);\n    comm.kernel.ws.addEventListener('close', updateReadyState);\n    comm.kernel.ws.addEventListener('error', updateReadyState);\n\n    ws.close = function () {\n        comm.close();\n    };\n    ws.send = function (m) {\n        //console.log('sending', m);\n        comm.send(m);\n    };\n    // Register the callback with on_msg.\n    comm.on_msg(function (msg) {\n        //console.log('receiving', msg['content']['data'], msg);\n        var data = msg['content']['data'];\n        if (data['blob'] !== undefined) {\n            data = {\n                data: new Blob(msg['buffers'], { type: data['blob'] }),\n            };\n        }\n        // Pass the mpl event to the overridden (by mpl) onmessage function.\n        ws.onmessage(data);\n    });\n    return ws;\n};\n\nmpl.mpl_figure_comm = function (comm, msg) {\n    // This is the function which gets called when the mpl process\n    // starts-up an IPython Comm through the \"matplotlib\" channel.\n\n    var id = msg.content.data.id;\n    // Get hold of the div created by the display call when the Comm\n    // socket was opened in Python.\n    var element = document.getElementById(id);\n    var ws_proxy = comm_websocket_adapter(comm);\n\n    function ondownload(figure, _format) {\n        window.open(figure.canvas.toDataURL());\n    }\n\n    var fig = new mpl.figure(id, ws_proxy, ondownload, element);\n\n    // Call onopen now - mpl needs it, as it is assuming we've passed it a real\n    // web socket which is closed, not our websocket->open comm proxy.\n    ws_proxy.onopen();\n\n    fig.parent_element = element;\n    fig.cell_info = mpl.find_output_cell(\"<div id='\" + id + \"'></div>\");\n    if (!fig.cell_info) {\n        console.error('Failed to find cell for figure', id, fig);\n        return;\n    }\n    fig.cell_info[0].output_area.element.on(\n        'cleared',\n        { fig: fig },\n        fig._remove_fig_handler\n    );\n};\n\nmpl.figure.prototype.handle_close = function (fig, msg) {\n    var width = fig.canvas.width / fig.ratio;\n    fig.cell_info[0].output_area.element.off(\n        'cleared',\n        fig._remove_fig_handler\n    );\n    fig.resizeObserverInstance.unobserve(fig.canvas_div);\n\n    // Update the output cell to use the data from the current canvas.\n    fig.push_to_output();\n    var dataURL = fig.canvas.toDataURL();\n    // Re-enable the keyboard manager in IPython - without this line, in FF,\n    // the notebook keyboard shortcuts fail.\n    IPython.keyboard_manager.enable();\n    fig.parent_element.innerHTML =\n        '<img src=\"' + dataURL + '\" width=\"' + width + '\">';\n    fig.close_ws(fig, msg);\n};\n\nmpl.figure.prototype.close_ws = function (fig, msg) {\n    fig.send_message('closing', msg);\n    // fig.ws.close()\n};\n\nmpl.figure.prototype.push_to_output = function (_remove_interactive) {\n    // Turn the data on the canvas into data in the output cell.\n    var width = this.canvas.width / this.ratio;\n    var dataURL = this.canvas.toDataURL();\n    this.cell_info[1]['text/html'] =\n        '<img src=\"' + dataURL + '\" width=\"' + width + '\">';\n};\n\nmpl.figure.prototype.updated_canvas_event = function () {\n    // Tell IPython that the notebook contents must change.\n    IPython.notebook.set_dirty(true);\n    this.send_message('ack', {});\n    var fig = this;\n    // Wait a second, then push the new image to the DOM so\n    // that it is saved nicely (might be nice to debounce this).\n    setTimeout(function () {\n        fig.push_to_output();\n    }, 1000);\n};\n\nmpl.figure.prototype._init_toolbar = function () {\n    var fig = this;\n\n    var toolbar = document.createElement('div');\n    toolbar.classList = 'btn-toolbar';\n    this.root.appendChild(toolbar);\n\n    function on_click_closure(name) {\n        return function (_event) {\n            return fig.toolbar_button_onclick(name);\n        };\n    }\n\n    function on_mouseover_closure(tooltip) {\n        return function (event) {\n            if (!event.currentTarget.disabled) {\n                return fig.toolbar_button_onmouseover(tooltip);\n            }\n        };\n    }\n\n    fig.buttons = {};\n    var buttonGroup = document.createElement('div');\n    buttonGroup.classList = 'btn-group';\n    var button;\n    for (var toolbar_ind in mpl.toolbar_items) {\n        var name = mpl.toolbar_items[toolbar_ind][0];\n        var tooltip = mpl.toolbar_items[toolbar_ind][1];\n        var image = mpl.toolbar_items[toolbar_ind][2];\n        var method_name = mpl.toolbar_items[toolbar_ind][3];\n\n        if (!name) {\n            /* Instead of a spacer, we start a new button group. */\n            if (buttonGroup.hasChildNodes()) {\n                toolbar.appendChild(buttonGroup);\n            }\n            buttonGroup = document.createElement('div');\n            buttonGroup.classList = 'btn-group';\n            continue;\n        }\n\n        button = fig.buttons[name] = document.createElement('button');\n        button.classList = 'btn btn-default';\n        button.href = '#';\n        button.title = name;\n        button.innerHTML = '<i class=\"fa ' + image + ' fa-lg\"></i>';\n        button.addEventListener('click', on_click_closure(method_name));\n        button.addEventListener('mouseover', on_mouseover_closure(tooltip));\n        buttonGroup.appendChild(button);\n    }\n\n    if (buttonGroup.hasChildNodes()) {\n        toolbar.appendChild(buttonGroup);\n    }\n\n    // Add the status bar.\n    var status_bar = document.createElement('span');\n    status_bar.classList = 'mpl-message pull-right';\n    toolbar.appendChild(status_bar);\n    this.message = status_bar;\n\n    // Add the close button to the window.\n    var buttongrp = document.createElement('div');\n    buttongrp.classList = 'btn-group inline pull-right';\n    button = document.createElement('button');\n    button.classList = 'btn btn-mini btn-primary';\n    button.href = '#';\n    button.title = 'Stop Interaction';\n    button.innerHTML = '<i class=\"fa fa-power-off icon-remove icon-large\"></i>';\n    button.addEventListener('click', function (_evt) {\n        fig.handle_close(fig, {});\n    });\n    button.addEventListener(\n        'mouseover',\n        on_mouseover_closure('Stop Interaction')\n    );\n    buttongrp.appendChild(button);\n    var titlebar = this.root.querySelector('.ui-dialog-titlebar');\n    titlebar.insertBefore(buttongrp, titlebar.firstChild);\n};\n\nmpl.figure.prototype._remove_fig_handler = function (event) {\n    var fig = event.data.fig;\n    if (event.target !== this) {\n        // Ignore bubbled events from children.\n        return;\n    }\n    fig.close_ws(fig, {});\n};\n\nmpl.figure.prototype._root_extra_style = function (el) {\n    el.style.boxSizing = 'content-box'; // override notebook setting of border-box.\n};\n\nmpl.figure.prototype._canvas_extra_style = function (el) {\n    // this is important to make the div 'focusable\n    el.setAttribute('tabindex', 0);\n    // reach out to IPython and tell the keyboard manager to turn it's self\n    // off when our div gets focus\n\n    // location in version 3\n    if (IPython.notebook.keyboard_manager) {\n        IPython.notebook.keyboard_manager.register_events(el);\n    } else {\n        // location in version 2\n        IPython.keyboard_manager.register_events(el);\n    }\n};\n\nmpl.figure.prototype._key_event_extra = function (event, _name) {\n    // Check for shift+enter\n    if (event.shiftKey && event.which === 13) {\n        this.canvas_div.blur();\n        // select the cell after this one\n        var index = IPython.notebook.find_cell_index(this.cell_info[0]);\n        IPython.notebook.select(index + 1);\n    }\n};\n\nmpl.figure.prototype.handle_save = function (fig, _msg) {\n    fig.ondownload(fig, null);\n};\n\nmpl.find_output_cell = function (html_output) {\n    // Return the cell and output element which can be found *uniquely* in the notebook.\n    // Note - this is a bit hacky, but it is done because the \"notebook_saving.Notebook\"\n    // IPython event is triggered only after the cells have been serialised, which for\n    // our purposes (turning an active figure into a static one), is too late.\n    var cells = IPython.notebook.get_cells();\n    var ncells = cells.length;\n    for (var i = 0; i < ncells; i++) {\n        var cell = cells[i];\n        if (cell.cell_type === 'code') {\n            for (var j = 0; j < cell.output_area.outputs.length; j++) {\n                var data = cell.output_area.outputs[j];\n                if (data.data) {\n                    // IPython >= 3 moved mimebundle to data attribute of output\n                    data = data.data;\n                }\n                if (data['text/html'] === html_output) {\n                    return [cell, data, j];\n                }\n            }\n        }\n    }\n};\n\n// Register the function which deals with the matplotlib target/channel.\n// The kernel may be null if the page has been refreshed.\nif (IPython.notebook.kernel !== null) {\n    IPython.notebook.kernel.comm_manager.register_target(\n        'matplotlib',\n        mpl.mpl_figure_comm\n    );\n}\n",
      "text/plain": [
       "<IPython.core.display.Javascript object>"
      ]
     },
     "metadata": {},
     "output_type": "display_data"
    },
    {
     "data": {
      "text/html": [
       "<div id='07da2fb6-6109-468f-aa98-7502412015df'></div>"
      ],
      "text/plain": [
       "<IPython.core.display.HTML object>"
      ]
     },
     "metadata": {},
     "output_type": "display_data"
    },
    {
     "data": {
      "text/plain": [
       "[<matplotlib.lines.Line2D at 0x147956b60>]"
      ]
     },
     "execution_count": 111,
     "metadata": {},
     "output_type": "execute_result"
    },
    {
     "data": {
      "text/plain": [
       "[<matplotlib.lines.Line2D at 0x14789f9a0>]"
      ]
     },
     "execution_count": 111,
     "metadata": {},
     "output_type": "execute_result"
    },
    {
     "data": {
      "text/plain": [
       "Text(0.5, 1.0, '北京')"
      ]
     },
     "execution_count": 111,
     "metadata": {},
     "output_type": "execute_result"
    },
    {
     "data": {
      "text/plain": [
       "Text(0, 0.5, '人均专利申请量')"
      ]
     },
     "execution_count": 111,
     "metadata": {},
     "output_type": "execute_result"
    },
    {
     "data": {
      "text/plain": [
       "Text(0.5, 0, '年份')"
      ]
     },
     "execution_count": 111,
     "metadata": {},
     "output_type": "execute_result"
    },
    {
     "data": {
      "text/plain": [
       "[<matplotlib.lines.Line2D at 0x14792dcc0>]"
      ]
     },
     "execution_count": 111,
     "metadata": {},
     "output_type": "execute_result"
    },
    {
     "data": {
      "text/plain": [
       "[<matplotlib.lines.Line2D at 0x147653d00>]"
      ]
     },
     "execution_count": 111,
     "metadata": {},
     "output_type": "execute_result"
    },
    {
     "data": {
      "text/plain": [
       "Text(0.5, 1.0, '北京')"
      ]
     },
     "execution_count": 111,
     "metadata": {},
     "output_type": "execute_result"
    },
    {
     "data": {
      "text/plain": [
       "Text(0, 0.5, '人均专利授权量')"
      ]
     },
     "execution_count": 111,
     "metadata": {},
     "output_type": "execute_result"
    },
    {
     "data": {
      "text/plain": [
       "Text(0.5, 0, '年份')"
      ]
     },
     "execution_count": 111,
     "metadata": {},
     "output_type": "execute_result"
    },
    {
     "data": {
      "text/plain": [
       "[<matplotlib.lines.Line2D at 0x14763b0d0>]"
      ]
     },
     "execution_count": 111,
     "metadata": {},
     "output_type": "execute_result"
    },
    {
     "data": {
      "text/plain": [
       "[<matplotlib.lines.Line2D at 0x1476101c0>]"
      ]
     },
     "execution_count": 111,
     "metadata": {},
     "output_type": "execute_result"
    },
    {
     "data": {
      "text/plain": [
       "Text(0.5, 1.0, '天津')"
      ]
     },
     "execution_count": 111,
     "metadata": {},
     "output_type": "execute_result"
    },
    {
     "data": {
      "text/plain": [
       "Text(0, 0.5, '人均专利申请量')"
      ]
     },
     "execution_count": 111,
     "metadata": {},
     "output_type": "execute_result"
    },
    {
     "data": {
      "text/plain": [
       "Text(0.5, 0, '年份')"
      ]
     },
     "execution_count": 111,
     "metadata": {},
     "output_type": "execute_result"
    },
    {
     "data": {
      "text/plain": [
       "[<matplotlib.lines.Line2D at 0x1474d7a00>]"
      ]
     },
     "execution_count": 111,
     "metadata": {},
     "output_type": "execute_result"
    },
    {
     "data": {
      "text/plain": [
       "[<matplotlib.lines.Line2D at 0x147639060>]"
      ]
     },
     "execution_count": 111,
     "metadata": {},
     "output_type": "execute_result"
    },
    {
     "data": {
      "text/plain": [
       "Text(0.5, 1.0, '天津')"
      ]
     },
     "execution_count": 111,
     "metadata": {},
     "output_type": "execute_result"
    },
    {
     "data": {
      "text/plain": [
       "Text(0, 0.5, '人均专利授权量')"
      ]
     },
     "execution_count": 111,
     "metadata": {},
     "output_type": "execute_result"
    },
    {
     "data": {
      "text/plain": [
       "Text(0.5, 0, '年份')"
      ]
     },
     "execution_count": 111,
     "metadata": {},
     "output_type": "execute_result"
    },
    {
     "data": {
      "text/plain": [
       "[<matplotlib.lines.Line2D at 0x1475c7670>]"
      ]
     },
     "execution_count": 111,
     "metadata": {},
     "output_type": "execute_result"
    },
    {
     "data": {
      "text/plain": [
       "[<matplotlib.lines.Line2D at 0x1472641c0>]"
      ]
     },
     "execution_count": 111,
     "metadata": {},
     "output_type": "execute_result"
    },
    {
     "data": {
      "text/plain": [
       "Text(0.5, 1.0, '河北')"
      ]
     },
     "execution_count": 111,
     "metadata": {},
     "output_type": "execute_result"
    },
    {
     "data": {
      "text/plain": [
       "Text(0, 0.5, '人均专利申请量')"
      ]
     },
     "execution_count": 111,
     "metadata": {},
     "output_type": "execute_result"
    },
    {
     "data": {
      "text/plain": [
       "Text(0.5, 0, '年份')"
      ]
     },
     "execution_count": 111,
     "metadata": {},
     "output_type": "execute_result"
    },
    {
     "data": {
      "text/plain": [
       "[<matplotlib.lines.Line2D at 0x1474b2e30>]"
      ]
     },
     "execution_count": 111,
     "metadata": {},
     "output_type": "execute_result"
    },
    {
     "data": {
      "text/plain": [
       "[<matplotlib.lines.Line2D at 0x1470e2e00>]"
      ]
     },
     "execution_count": 111,
     "metadata": {},
     "output_type": "execute_result"
    },
    {
     "data": {
      "text/plain": [
       "Text(0.5, 1.0, '河北')"
      ]
     },
     "execution_count": 111,
     "metadata": {},
     "output_type": "execute_result"
    },
    {
     "data": {
      "text/plain": [
       "Text(0, 0.5, '人均专利授权量')"
      ]
     },
     "execution_count": 111,
     "metadata": {},
     "output_type": "execute_result"
    },
    {
     "data": {
      "text/plain": [
       "Text(0.5, 0, '年份')"
      ]
     },
     "execution_count": 111,
     "metadata": {},
     "output_type": "execute_result"
    },
    {
     "data": {
      "text/plain": [
       "[<matplotlib.lines.Line2D at 0x147095870>]"
      ]
     },
     "execution_count": 111,
     "metadata": {},
     "output_type": "execute_result"
    },
    {
     "data": {
      "text/plain": [
       "[<matplotlib.lines.Line2D at 0x146ab59c0>]"
      ]
     },
     "execution_count": 111,
     "metadata": {},
     "output_type": "execute_result"
    },
    {
     "data": {
      "text/plain": [
       "Text(0.5, 1.0, '山西')"
      ]
     },
     "execution_count": 111,
     "metadata": {},
     "output_type": "execute_result"
    },
    {
     "data": {
      "text/plain": [
       "Text(0, 0.5, '人均专利申请量')"
      ]
     },
     "execution_count": 111,
     "metadata": {},
     "output_type": "execute_result"
    },
    {
     "data": {
      "text/plain": [
       "Text(0.5, 0, '年份')"
      ]
     },
     "execution_count": 111,
     "metadata": {},
     "output_type": "execute_result"
    },
    {
     "data": {
      "text/plain": [
       "[<matplotlib.lines.Line2D at 0x144d0a6e0>]"
      ]
     },
     "execution_count": 111,
     "metadata": {},
     "output_type": "execute_result"
    },
    {
     "data": {
      "text/plain": [
       "[<matplotlib.lines.Line2D at 0x147955cc0>]"
      ]
     },
     "execution_count": 111,
     "metadata": {},
     "output_type": "execute_result"
    },
    {
     "data": {
      "text/plain": [
       "Text(0.5, 1.0, '山西')"
      ]
     },
     "execution_count": 111,
     "metadata": {},
     "output_type": "execute_result"
    },
    {
     "data": {
      "text/plain": [
       "Text(0, 0.5, '人均专利授权量')"
      ]
     },
     "execution_count": 111,
     "metadata": {},
     "output_type": "execute_result"
    },
    {
     "data": {
      "text/plain": [
       "Text(0.5, 0, '年份')"
      ]
     },
     "execution_count": 111,
     "metadata": {},
     "output_type": "execute_result"
    },
    {
     "data": {
      "text/plain": [
       "[<matplotlib.lines.Line2D at 0x147957010>]"
      ]
     },
     "execution_count": 111,
     "metadata": {},
     "output_type": "execute_result"
    },
    {
     "data": {
      "text/plain": [
       "[<matplotlib.lines.Line2D at 0x1479571c0>]"
      ]
     },
     "execution_count": 111,
     "metadata": {},
     "output_type": "execute_result"
    },
    {
     "data": {
      "text/plain": [
       "Text(0.5, 1.0, '内蒙古')"
      ]
     },
     "execution_count": 111,
     "metadata": {},
     "output_type": "execute_result"
    },
    {
     "data": {
      "text/plain": [
       "Text(0, 0.5, '人均专利申请量')"
      ]
     },
     "execution_count": 111,
     "metadata": {},
     "output_type": "execute_result"
    },
    {
     "data": {
      "text/plain": [
       "Text(0.5, 0, '年份')"
      ]
     },
     "execution_count": 111,
     "metadata": {},
     "output_type": "execute_result"
    },
    {
     "data": {
      "text/plain": [
       "[<matplotlib.lines.Line2D at 0x147957460>]"
      ]
     },
     "execution_count": 111,
     "metadata": {},
     "output_type": "execute_result"
    },
    {
     "data": {
      "text/plain": [
       "[<matplotlib.lines.Line2D at 0x1479577c0>]"
      ]
     },
     "execution_count": 111,
     "metadata": {},
     "output_type": "execute_result"
    },
    {
     "data": {
      "text/plain": [
       "Text(0.5, 1.0, '内蒙古')"
      ]
     },
     "execution_count": 111,
     "metadata": {},
     "output_type": "execute_result"
    },
    {
     "data": {
      "text/plain": [
       "Text(0, 0.5, '人均专利授权量')"
      ]
     },
     "execution_count": 111,
     "metadata": {},
     "output_type": "execute_result"
    },
    {
     "data": {
      "text/plain": [
       "Text(0.5, 0, '年份')"
      ]
     },
     "execution_count": 111,
     "metadata": {},
     "output_type": "execute_result"
    },
    {
     "data": {
      "text/plain": [
       "[<matplotlib.lines.Line2D at 0x147956e90>]"
      ]
     },
     "execution_count": 111,
     "metadata": {},
     "output_type": "execute_result"
    },
    {
     "data": {
      "text/plain": [
       "[<matplotlib.lines.Line2D at 0x147957d00>]"
      ]
     },
     "execution_count": 111,
     "metadata": {},
     "output_type": "execute_result"
    },
    {
     "data": {
      "text/plain": [
       "Text(0.5, 1.0, '辽宁')"
      ]
     },
     "execution_count": 111,
     "metadata": {},
     "output_type": "execute_result"
    },
    {
     "data": {
      "text/plain": [
       "Text(0, 0.5, '人均专利申请量')"
      ]
     },
     "execution_count": 111,
     "metadata": {},
     "output_type": "execute_result"
    },
    {
     "data": {
      "text/plain": [
       "Text(0.5, 0, '年份')"
      ]
     },
     "execution_count": 111,
     "metadata": {},
     "output_type": "execute_result"
    },
    {
     "data": {
      "text/plain": [
       "[<matplotlib.lines.Line2D at 0x147956a70>]"
      ]
     },
     "execution_count": 111,
     "metadata": {},
     "output_type": "execute_result"
    },
    {
     "data": {
      "text/plain": [
       "[<matplotlib.lines.Line2D at 0x1479a8250>]"
      ]
     },
     "execution_count": 111,
     "metadata": {},
     "output_type": "execute_result"
    },
    {
     "data": {
      "text/plain": [
       "Text(0.5, 1.0, '辽宁')"
      ]
     },
     "execution_count": 111,
     "metadata": {},
     "output_type": "execute_result"
    },
    {
     "data": {
      "text/plain": [
       "Text(0, 0.5, '人均专利授权量')"
      ]
     },
     "execution_count": 111,
     "metadata": {},
     "output_type": "execute_result"
    },
    {
     "data": {
      "text/plain": [
       "Text(0.5, 0, '年份')"
      ]
     },
     "execution_count": 111,
     "metadata": {},
     "output_type": "execute_result"
    },
    {
     "data": {
      "text/plain": [
       "[<matplotlib.lines.Line2D at 0x1479a8460>]"
      ]
     },
     "execution_count": 111,
     "metadata": {},
     "output_type": "execute_result"
    },
    {
     "data": {
      "text/plain": [
       "[<matplotlib.lines.Line2D at 0x1479a8a30>]"
      ]
     },
     "execution_count": 111,
     "metadata": {},
     "output_type": "execute_result"
    },
    {
     "data": {
      "text/plain": [
       "Text(0.5, 1.0, '吉林')"
      ]
     },
     "execution_count": 111,
     "metadata": {},
     "output_type": "execute_result"
    },
    {
     "data": {
      "text/plain": [
       "Text(0, 0.5, '人均专利申请量')"
      ]
     },
     "execution_count": 111,
     "metadata": {},
     "output_type": "execute_result"
    },
    {
     "data": {
      "text/plain": [
       "Text(0.5, 0, '年份')"
      ]
     },
     "execution_count": 111,
     "metadata": {},
     "output_type": "execute_result"
    },
    {
     "data": {
      "text/plain": [
       "[<matplotlib.lines.Line2D at 0x1479a8220>]"
      ]
     },
     "execution_count": 111,
     "metadata": {},
     "output_type": "execute_result"
    },
    {
     "data": {
      "text/plain": [
       "[<matplotlib.lines.Line2D at 0x1479a9030>]"
      ]
     },
     "execution_count": 111,
     "metadata": {},
     "output_type": "execute_result"
    },
    {
     "data": {
      "text/plain": [
       "Text(0.5, 1.0, '吉林')"
      ]
     },
     "execution_count": 111,
     "metadata": {},
     "output_type": "execute_result"
    },
    {
     "data": {
      "text/plain": [
       "Text(0, 0.5, '人均专利授权量')"
      ]
     },
     "execution_count": 111,
     "metadata": {},
     "output_type": "execute_result"
    },
    {
     "data": {
      "text/plain": [
       "Text(0.5, 0, '年份')"
      ]
     },
     "execution_count": 111,
     "metadata": {},
     "output_type": "execute_result"
    },
    {
     "data": {
      "text/plain": [
       "[<matplotlib.lines.Line2D at 0x1479a88b0>]"
      ]
     },
     "execution_count": 111,
     "metadata": {},
     "output_type": "execute_result"
    },
    {
     "data": {
      "text/plain": [
       "[<matplotlib.lines.Line2D at 0x1479a9630>]"
      ]
     },
     "execution_count": 111,
     "metadata": {},
     "output_type": "execute_result"
    },
    {
     "data": {
      "text/plain": [
       "Text(0.5, 1.0, '黑龙江')"
      ]
     },
     "execution_count": 111,
     "metadata": {},
     "output_type": "execute_result"
    },
    {
     "data": {
      "text/plain": [
       "Text(0, 0.5, '人均专利申请量')"
      ]
     },
     "execution_count": 111,
     "metadata": {},
     "output_type": "execute_result"
    },
    {
     "data": {
      "text/plain": [
       "Text(0.5, 0, '年份')"
      ]
     },
     "execution_count": 111,
     "metadata": {},
     "output_type": "execute_result"
    },
    {
     "data": {
      "text/plain": [
       "[<matplotlib.lines.Line2D at 0x1479a9a80>]"
      ]
     },
     "execution_count": 111,
     "metadata": {},
     "output_type": "execute_result"
    },
    {
     "data": {
      "text/plain": [
       "[<matplotlib.lines.Line2D at 0x1479a9c90>]"
      ]
     },
     "execution_count": 111,
     "metadata": {},
     "output_type": "execute_result"
    },
    {
     "data": {
      "text/plain": [
       "Text(0.5, 1.0, '黑龙江')"
      ]
     },
     "execution_count": 111,
     "metadata": {},
     "output_type": "execute_result"
    },
    {
     "data": {
      "text/plain": [
       "Text(0, 0.5, '人均专利授权量')"
      ]
     },
     "execution_count": 111,
     "metadata": {},
     "output_type": "execute_result"
    },
    {
     "data": {
      "text/plain": [
       "Text(0.5, 0, '年份')"
      ]
     },
     "execution_count": 111,
     "metadata": {},
     "output_type": "execute_result"
    },
    {
     "data": {
      "text/plain": [
       "[<matplotlib.lines.Line2D at 0x1479a9e70>]"
      ]
     },
     "execution_count": 111,
     "metadata": {},
     "output_type": "execute_result"
    },
    {
     "data": {
      "text/plain": [
       "[<matplotlib.lines.Line2D at 0x1479aa350>]"
      ]
     },
     "execution_count": 111,
     "metadata": {},
     "output_type": "execute_result"
    },
    {
     "data": {
      "text/plain": [
       "Text(0.5, 1.0, '上海')"
      ]
     },
     "execution_count": 111,
     "metadata": {},
     "output_type": "execute_result"
    },
    {
     "data": {
      "text/plain": [
       "Text(0, 0.5, '人均专利申请量')"
      ]
     },
     "execution_count": 111,
     "metadata": {},
     "output_type": "execute_result"
    },
    {
     "data": {
      "text/plain": [
       "Text(0.5, 0, '年份')"
      ]
     },
     "execution_count": 111,
     "metadata": {},
     "output_type": "execute_result"
    },
    {
     "data": {
      "text/plain": [
       "[<matplotlib.lines.Line2D at 0x1479aa110>]"
      ]
     },
     "execution_count": 111,
     "metadata": {},
     "output_type": "execute_result"
    },
    {
     "data": {
      "text/plain": [
       "[<matplotlib.lines.Line2D at 0x1479aa5f0>]"
      ]
     },
     "execution_count": 111,
     "metadata": {},
     "output_type": "execute_result"
    },
    {
     "data": {
      "text/plain": [
       "Text(0.5, 1.0, '上海')"
      ]
     },
     "execution_count": 111,
     "metadata": {},
     "output_type": "execute_result"
    },
    {
     "data": {
      "text/plain": [
       "Text(0, 0.5, '人均专利授权量')"
      ]
     },
     "execution_count": 111,
     "metadata": {},
     "output_type": "execute_result"
    },
    {
     "data": {
      "text/plain": [
       "Text(0.5, 0, '年份')"
      ]
     },
     "execution_count": 111,
     "metadata": {},
     "output_type": "execute_result"
    },
    {
     "data": {
      "text/plain": [
       "[<matplotlib.lines.Line2D at 0x1479aacb0>]"
      ]
     },
     "execution_count": 111,
     "metadata": {},
     "output_type": "execute_result"
    },
    {
     "data": {
      "text/plain": [
       "[<matplotlib.lines.Line2D at 0x1479aad40>]"
      ]
     },
     "execution_count": 111,
     "metadata": {},
     "output_type": "execute_result"
    },
    {
     "data": {
      "text/plain": [
       "Text(0.5, 1.0, '江苏')"
      ]
     },
     "execution_count": 111,
     "metadata": {},
     "output_type": "execute_result"
    },
    {
     "data": {
      "text/plain": [
       "Text(0, 0.5, '人均专利申请量')"
      ]
     },
     "execution_count": 111,
     "metadata": {},
     "output_type": "execute_result"
    },
    {
     "data": {
      "text/plain": [
       "Text(0.5, 0, '年份')"
      ]
     },
     "execution_count": 111,
     "metadata": {},
     "output_type": "execute_result"
    },
    {
     "data": {
      "text/plain": [
       "[<matplotlib.lines.Line2D at 0x1479aa260>]"
      ]
     },
     "execution_count": 111,
     "metadata": {},
     "output_type": "execute_result"
    },
    {
     "data": {
      "text/plain": [
       "[<matplotlib.lines.Line2D at 0x1479ab3a0>]"
      ]
     },
     "execution_count": 111,
     "metadata": {},
     "output_type": "execute_result"
    },
    {
     "data": {
      "text/plain": [
       "Text(0.5, 1.0, '江苏')"
      ]
     },
     "execution_count": 111,
     "metadata": {},
     "output_type": "execute_result"
    },
    {
     "data": {
      "text/plain": [
       "Text(0, 0.5, '人均专利授权量')"
      ]
     },
     "execution_count": 111,
     "metadata": {},
     "output_type": "execute_result"
    },
    {
     "data": {
      "text/plain": [
       "Text(0.5, 0, '年份')"
      ]
     },
     "execution_count": 111,
     "metadata": {},
     "output_type": "execute_result"
    },
    {
     "data": {
      "text/plain": [
       "[<matplotlib.lines.Line2D at 0x1479aada0>]"
      ]
     },
     "execution_count": 111,
     "metadata": {},
     "output_type": "execute_result"
    },
    {
     "data": {
      "text/plain": [
       "[<matplotlib.lines.Line2D at 0x1479ab9a0>]"
      ]
     },
     "execution_count": 111,
     "metadata": {},
     "output_type": "execute_result"
    },
    {
     "data": {
      "text/plain": [
       "Text(0.5, 1.0, '浙江')"
      ]
     },
     "execution_count": 111,
     "metadata": {},
     "output_type": "execute_result"
    },
    {
     "data": {
      "text/plain": [
       "Text(0, 0.5, '人均专利申请量')"
      ]
     },
     "execution_count": 111,
     "metadata": {},
     "output_type": "execute_result"
    },
    {
     "data": {
      "text/plain": [
       "Text(0.5, 0, '年份')"
      ]
     },
     "execution_count": 111,
     "metadata": {},
     "output_type": "execute_result"
    },
    {
     "data": {
      "text/plain": [
       "[<matplotlib.lines.Line2D at 0x1479ab310>]"
      ]
     },
     "execution_count": 111,
     "metadata": {},
     "output_type": "execute_result"
    },
    {
     "data": {
      "text/plain": [
       "[<matplotlib.lines.Line2D at 0x1479e40d0>]"
      ]
     },
     "execution_count": 111,
     "metadata": {},
     "output_type": "execute_result"
    },
    {
     "data": {
      "text/plain": [
       "Text(0.5, 1.0, '浙江')"
      ]
     },
     "execution_count": 111,
     "metadata": {},
     "output_type": "execute_result"
    },
    {
     "data": {
      "text/plain": [
       "Text(0, 0.5, '人均专利授权量')"
      ]
     },
     "execution_count": 111,
     "metadata": {},
     "output_type": "execute_result"
    },
    {
     "data": {
      "text/plain": [
       "Text(0.5, 0, '年份')"
      ]
     },
     "execution_count": 111,
     "metadata": {},
     "output_type": "execute_result"
    },
    {
     "data": {
      "text/plain": [
       "[<matplotlib.lines.Line2D at 0x1479ab820>]"
      ]
     },
     "execution_count": 111,
     "metadata": {},
     "output_type": "execute_result"
    },
    {
     "data": {
      "text/plain": [
       "[<matplotlib.lines.Line2D at 0x1479e43a0>]"
      ]
     },
     "execution_count": 111,
     "metadata": {},
     "output_type": "execute_result"
    },
    {
     "data": {
      "text/plain": [
       "Text(0.5, 1.0, '安徽')"
      ]
     },
     "execution_count": 111,
     "metadata": {},
     "output_type": "execute_result"
    },
    {
     "data": {
      "text/plain": [
       "Text(0, 0.5, '人均专利申请量')"
      ]
     },
     "execution_count": 111,
     "metadata": {},
     "output_type": "execute_result"
    },
    {
     "data": {
      "text/plain": [
       "Text(0.5, 0, '年份')"
      ]
     },
     "execution_count": 111,
     "metadata": {},
     "output_type": "execute_result"
    },
    {
     "data": {
      "text/plain": [
       "[<matplotlib.lines.Line2D at 0x1479e46d0>]"
      ]
     },
     "execution_count": 111,
     "metadata": {},
     "output_type": "execute_result"
    },
    {
     "data": {
      "text/plain": [
       "[<matplotlib.lines.Line2D at 0x1479e4d00>]"
      ]
     },
     "execution_count": 111,
     "metadata": {},
     "output_type": "execute_result"
    },
    {
     "data": {
      "text/plain": [
       "Text(0.5, 1.0, '安徽')"
      ]
     },
     "execution_count": 111,
     "metadata": {},
     "output_type": "execute_result"
    },
    {
     "data": {
      "text/plain": [
       "Text(0, 0.5, '人均专利授权量')"
      ]
     },
     "execution_count": 111,
     "metadata": {},
     "output_type": "execute_result"
    },
    {
     "data": {
      "text/plain": [
       "Text(0.5, 0, '年份')"
      ]
     },
     "execution_count": 111,
     "metadata": {},
     "output_type": "execute_result"
    },
    {
     "data": {
      "text/plain": [
       "[<matplotlib.lines.Line2D at 0x1479e4a30>]"
      ]
     },
     "execution_count": 111,
     "metadata": {},
     "output_type": "execute_result"
    },
    {
     "data": {
      "text/plain": [
       "[<matplotlib.lines.Line2D at 0x1479e4fa0>]"
      ]
     },
     "execution_count": 111,
     "metadata": {},
     "output_type": "execute_result"
    },
    {
     "data": {
      "text/plain": [
       "Text(0.5, 1.0, '福建')"
      ]
     },
     "execution_count": 111,
     "metadata": {},
     "output_type": "execute_result"
    },
    {
     "data": {
      "text/plain": [
       "Text(0, 0.5, '人均专利申请量')"
      ]
     },
     "execution_count": 111,
     "metadata": {},
     "output_type": "execute_result"
    },
    {
     "data": {
      "text/plain": [
       "Text(0.5, 0, '年份')"
      ]
     },
     "execution_count": 111,
     "metadata": {},
     "output_type": "execute_result"
    },
    {
     "data": {
      "text/plain": [
       "[<matplotlib.lines.Line2D at 0x1479e5000>]"
      ]
     },
     "execution_count": 111,
     "metadata": {},
     "output_type": "execute_result"
    },
    {
     "data": {
      "text/plain": [
       "[<matplotlib.lines.Line2D at 0x1479e57e0>]"
      ]
     },
     "execution_count": 111,
     "metadata": {},
     "output_type": "execute_result"
    },
    {
     "data": {
      "text/plain": [
       "Text(0.5, 1.0, '福建')"
      ]
     },
     "execution_count": 111,
     "metadata": {},
     "output_type": "execute_result"
    },
    {
     "data": {
      "text/plain": [
       "Text(0, 0.5, '人均专利授权量')"
      ]
     },
     "execution_count": 111,
     "metadata": {},
     "output_type": "execute_result"
    },
    {
     "data": {
      "text/plain": [
       "Text(0.5, 0, '年份')"
      ]
     },
     "execution_count": 111,
     "metadata": {},
     "output_type": "execute_result"
    },
    {
     "data": {
      "text/plain": [
       "[<matplotlib.lines.Line2D at 0x1479e5330>]"
      ]
     },
     "execution_count": 111,
     "metadata": {},
     "output_type": "execute_result"
    },
    {
     "data": {
      "text/plain": [
       "[<matplotlib.lines.Line2D at 0x1479e5de0>]"
      ]
     },
     "execution_count": 111,
     "metadata": {},
     "output_type": "execute_result"
    },
    {
     "data": {
      "text/plain": [
       "Text(0.5, 1.0, '江西')"
      ]
     },
     "execution_count": 111,
     "metadata": {},
     "output_type": "execute_result"
    },
    {
     "data": {
      "text/plain": [
       "Text(0, 0.5, '人均专利申请量')"
      ]
     },
     "execution_count": 111,
     "metadata": {},
     "output_type": "execute_result"
    },
    {
     "data": {
      "text/plain": [
       "Text(0.5, 0, '年份')"
      ]
     },
     "execution_count": 111,
     "metadata": {},
     "output_type": "execute_result"
    },
    {
     "data": {
      "text/plain": [
       "[<matplotlib.lines.Line2D at 0x1479e5990>]"
      ]
     },
     "execution_count": 111,
     "metadata": {},
     "output_type": "execute_result"
    },
    {
     "data": {
      "text/plain": [
       "[<matplotlib.lines.Line2D at 0x1479e6440>]"
      ]
     },
     "execution_count": 111,
     "metadata": {},
     "output_type": "execute_result"
    },
    {
     "data": {
      "text/plain": [
       "Text(0.5, 1.0, '江西')"
      ]
     },
     "execution_count": 111,
     "metadata": {},
     "output_type": "execute_result"
    },
    {
     "data": {
      "text/plain": [
       "Text(0, 0.5, '人均专利授权量')"
      ]
     },
     "execution_count": 111,
     "metadata": {},
     "output_type": "execute_result"
    },
    {
     "data": {
      "text/plain": [
       "Text(0.5, 0, '年份')"
      ]
     },
     "execution_count": 111,
     "metadata": {},
     "output_type": "execute_result"
    },
    {
     "data": {
      "text/plain": [
       "[<matplotlib.lines.Line2D at 0x1479e65f0>]"
      ]
     },
     "execution_count": 111,
     "metadata": {},
     "output_type": "execute_result"
    },
    {
     "data": {
      "text/plain": [
       "[<matplotlib.lines.Line2D at 0x1479e6a70>]"
      ]
     },
     "execution_count": 111,
     "metadata": {},
     "output_type": "execute_result"
    },
    {
     "data": {
      "text/plain": [
       "Text(0.5, 1.0, '山东')"
      ]
     },
     "execution_count": 111,
     "metadata": {},
     "output_type": "execute_result"
    },
    {
     "data": {
      "text/plain": [
       "Text(0, 0.5, '人均专利申请量')"
      ]
     },
     "execution_count": 111,
     "metadata": {},
     "output_type": "execute_result"
    },
    {
     "data": {
      "text/plain": [
       "Text(0.5, 0, '年份')"
      ]
     },
     "execution_count": 111,
     "metadata": {},
     "output_type": "execute_result"
    },
    {
     "data": {
      "text/plain": [
       "[<matplotlib.lines.Line2D at 0x1479e6c50>]"
      ]
     },
     "execution_count": 111,
     "metadata": {},
     "output_type": "execute_result"
    },
    {
     "data": {
      "text/plain": [
       "[<matplotlib.lines.Line2D at 0x1479e7100>]"
      ]
     },
     "execution_count": 111,
     "metadata": {},
     "output_type": "execute_result"
    },
    {
     "data": {
      "text/plain": [
       "Text(0.5, 1.0, '山东')"
      ]
     },
     "execution_count": 111,
     "metadata": {},
     "output_type": "execute_result"
    },
    {
     "data": {
      "text/plain": [
       "Text(0, 0.5, '人均专利授权量')"
      ]
     },
     "execution_count": 111,
     "metadata": {},
     "output_type": "execute_result"
    },
    {
     "data": {
      "text/plain": [
       "Text(0.5, 0, '年份')"
      ]
     },
     "execution_count": 111,
     "metadata": {},
     "output_type": "execute_result"
    },
    {
     "data": {
      "text/plain": [
       "[<matplotlib.lines.Line2D at 0x1479e7220>]"
      ]
     },
     "execution_count": 111,
     "metadata": {},
     "output_type": "execute_result"
    },
    {
     "data": {
      "text/plain": [
       "[<matplotlib.lines.Line2D at 0x1479e75b0>]"
      ]
     },
     "execution_count": 111,
     "metadata": {},
     "output_type": "execute_result"
    },
    {
     "data": {
      "text/plain": [
       "Text(0.5, 1.0, '河南')"
      ]
     },
     "execution_count": 111,
     "metadata": {},
     "output_type": "execute_result"
    },
    {
     "data": {
      "text/plain": [
       "Text(0, 0.5, '人均专利申请量')"
      ]
     },
     "execution_count": 111,
     "metadata": {},
     "output_type": "execute_result"
    },
    {
     "data": {
      "text/plain": [
       "Text(0.5, 0, '年份')"
      ]
     },
     "execution_count": 111,
     "metadata": {},
     "output_type": "execute_result"
    },
    {
     "data": {
      "text/plain": [
       "[<matplotlib.lines.Line2D at 0x1479e6680>]"
      ]
     },
     "execution_count": 111,
     "metadata": {},
     "output_type": "execute_result"
    },
    {
     "data": {
      "text/plain": [
       "[<matplotlib.lines.Line2D at 0x1479e7b50>]"
      ]
     },
     "execution_count": 111,
     "metadata": {},
     "output_type": "execute_result"
    },
    {
     "data": {
      "text/plain": [
       "Text(0.5, 1.0, '河南')"
      ]
     },
     "execution_count": 111,
     "metadata": {},
     "output_type": "execute_result"
    },
    {
     "data": {
      "text/plain": [
       "Text(0, 0.5, '人均专利授权量')"
      ]
     },
     "execution_count": 111,
     "metadata": {},
     "output_type": "execute_result"
    },
    {
     "data": {
      "text/plain": [
       "Text(0.5, 0, '年份')"
      ]
     },
     "execution_count": 111,
     "metadata": {},
     "output_type": "execute_result"
    },
    {
     "data": {
      "text/plain": [
       "[<matplotlib.lines.Line2D at 0x1479e7e80>]"
      ]
     },
     "execution_count": 111,
     "metadata": {},
     "output_type": "execute_result"
    },
    {
     "data": {
      "text/plain": [
       "[<matplotlib.lines.Line2D at 0x1479f8220>]"
      ]
     },
     "execution_count": 111,
     "metadata": {},
     "output_type": "execute_result"
    },
    {
     "data": {
      "text/plain": [
       "Text(0.5, 1.0, '湖北')"
      ]
     },
     "execution_count": 111,
     "metadata": {},
     "output_type": "execute_result"
    },
    {
     "data": {
      "text/plain": [
       "Text(0, 0.5, '人均专利申请量')"
      ]
     },
     "execution_count": 111,
     "metadata": {},
     "output_type": "execute_result"
    },
    {
     "data": {
      "text/plain": [
       "Text(0.5, 0, '年份')"
      ]
     },
     "execution_count": 111,
     "metadata": {},
     "output_type": "execute_result"
    },
    {
     "data": {
      "text/plain": [
       "[<matplotlib.lines.Line2D at 0x1479f84f0>]"
      ]
     },
     "execution_count": 111,
     "metadata": {},
     "output_type": "execute_result"
    },
    {
     "data": {
      "text/plain": [
       "[<matplotlib.lines.Line2D at 0x1479f8880>]"
      ]
     },
     "execution_count": 111,
     "metadata": {},
     "output_type": "execute_result"
    },
    {
     "data": {
      "text/plain": [
       "Text(0.5, 1.0, '湖北')"
      ]
     },
     "execution_count": 111,
     "metadata": {},
     "output_type": "execute_result"
    },
    {
     "data": {
      "text/plain": [
       "Text(0, 0.5, '人均专利授权量')"
      ]
     },
     "execution_count": 111,
     "metadata": {},
     "output_type": "execute_result"
    },
    {
     "data": {
      "text/plain": [
       "Text(0.5, 0, '年份')"
      ]
     },
     "execution_count": 111,
     "metadata": {},
     "output_type": "execute_result"
    },
    {
     "data": {
      "text/plain": [
       "[<matplotlib.lines.Line2D at 0x1479f8760>]"
      ]
     },
     "execution_count": 111,
     "metadata": {},
     "output_type": "execute_result"
    },
    {
     "data": {
      "text/plain": [
       "[<matplotlib.lines.Line2D at 0x1479f8e80>]"
      ]
     },
     "execution_count": 111,
     "metadata": {},
     "output_type": "execute_result"
    },
    {
     "data": {
      "text/plain": [
       "Text(0.5, 1.0, '湖南')"
      ]
     },
     "execution_count": 111,
     "metadata": {},
     "output_type": "execute_result"
    },
    {
     "data": {
      "text/plain": [
       "Text(0, 0.5, '人均专利申请量')"
      ]
     },
     "execution_count": 111,
     "metadata": {},
     "output_type": "execute_result"
    },
    {
     "data": {
      "text/plain": [
       "Text(0.5, 0, '年份')"
      ]
     },
     "execution_count": 111,
     "metadata": {},
     "output_type": "execute_result"
    },
    {
     "data": {
      "text/plain": [
       "[<matplotlib.lines.Line2D at 0x1479f8790>]"
      ]
     },
     "execution_count": 111,
     "metadata": {},
     "output_type": "execute_result"
    },
    {
     "data": {
      "text/plain": [
       "[<matplotlib.lines.Line2D at 0x1479f9480>]"
      ]
     },
     "execution_count": 111,
     "metadata": {},
     "output_type": "execute_result"
    },
    {
     "data": {
      "text/plain": [
       "Text(0.5, 1.0, '湖南')"
      ]
     },
     "execution_count": 111,
     "metadata": {},
     "output_type": "execute_result"
    },
    {
     "data": {
      "text/plain": [
       "Text(0, 0.5, '人均专利授权量')"
      ]
     },
     "execution_count": 111,
     "metadata": {},
     "output_type": "execute_result"
    },
    {
     "data": {
      "text/plain": [
       "Text(0.5, 0, '年份')"
      ]
     },
     "execution_count": 111,
     "metadata": {},
     "output_type": "execute_result"
    },
    {
     "data": {
      "text/plain": [
       "[<matplotlib.lines.Line2D at 0x1479f95a0>]"
      ]
     },
     "execution_count": 111,
     "metadata": {},
     "output_type": "execute_result"
    },
    {
     "data": {
      "text/plain": [
       "[<matplotlib.lines.Line2D at 0x1479f9ba0>]"
      ]
     },
     "execution_count": 111,
     "metadata": {},
     "output_type": "execute_result"
    },
    {
     "data": {
      "text/plain": [
       "Text(0.5, 1.0, '广东')"
      ]
     },
     "execution_count": 111,
     "metadata": {},
     "output_type": "execute_result"
    },
    {
     "data": {
      "text/plain": [
       "Text(0, 0.5, '人均专利申请量')"
      ]
     },
     "execution_count": 111,
     "metadata": {},
     "output_type": "execute_result"
    },
    {
     "data": {
      "text/plain": [
       "Text(0.5, 0, '年份')"
      ]
     },
     "execution_count": 111,
     "metadata": {},
     "output_type": "execute_result"
    },
    {
     "data": {
      "text/plain": [
       "[<matplotlib.lines.Line2D at 0x1479f9de0>]"
      ]
     },
     "execution_count": 111,
     "metadata": {},
     "output_type": "execute_result"
    },
    {
     "data": {
      "text/plain": [
       "[<matplotlib.lines.Line2D at 0x1479fa0e0>]"
      ]
     },
     "execution_count": 111,
     "metadata": {},
     "output_type": "execute_result"
    },
    {
     "data": {
      "text/plain": [
       "Text(0.5, 1.0, '广东')"
      ]
     },
     "execution_count": 111,
     "metadata": {},
     "output_type": "execute_result"
    },
    {
     "data": {
      "text/plain": [
       "Text(0, 0.5, '人均专利授权量')"
      ]
     },
     "execution_count": 111,
     "metadata": {},
     "output_type": "execute_result"
    },
    {
     "data": {
      "text/plain": [
       "Text(0.5, 0, '年份')"
      ]
     },
     "execution_count": 111,
     "metadata": {},
     "output_type": "execute_result"
    },
    {
     "data": {
      "text/plain": [
       "[<matplotlib.lines.Line2D at 0x1479fa2c0>]"
      ]
     },
     "execution_count": 111,
     "metadata": {},
     "output_type": "execute_result"
    },
    {
     "data": {
      "text/plain": [
       "[<matplotlib.lines.Line2D at 0x1479fa440>]"
      ]
     },
     "execution_count": 111,
     "metadata": {},
     "output_type": "execute_result"
    },
    {
     "data": {
      "text/plain": [
       "Text(0.5, 1.0, '广西')"
      ]
     },
     "execution_count": 111,
     "metadata": {},
     "output_type": "execute_result"
    },
    {
     "data": {
      "text/plain": [
       "Text(0, 0.5, '人均专利申请量')"
      ]
     },
     "execution_count": 111,
     "metadata": {},
     "output_type": "execute_result"
    },
    {
     "data": {
      "text/plain": [
       "Text(0.5, 0, '年份')"
      ]
     },
     "execution_count": 111,
     "metadata": {},
     "output_type": "execute_result"
    },
    {
     "data": {
      "text/plain": [
       "[<matplotlib.lines.Line2D at 0x1479fa380>]"
      ]
     },
     "execution_count": 111,
     "metadata": {},
     "output_type": "execute_result"
    },
    {
     "data": {
      "text/plain": [
       "[<matplotlib.lines.Line2D at 0x1479fac80>]"
      ]
     },
     "execution_count": 111,
     "metadata": {},
     "output_type": "execute_result"
    },
    {
     "data": {
      "text/plain": [
       "Text(0.5, 1.0, '广西')"
      ]
     },
     "execution_count": 111,
     "metadata": {},
     "output_type": "execute_result"
    },
    {
     "data": {
      "text/plain": [
       "Text(0, 0.5, '人均专利授权量')"
      ]
     },
     "execution_count": 111,
     "metadata": {},
     "output_type": "execute_result"
    },
    {
     "data": {
      "text/plain": [
       "Text(0.5, 0, '年份')"
      ]
     },
     "execution_count": 111,
     "metadata": {},
     "output_type": "execute_result"
    },
    {
     "data": {
      "text/plain": [
       "[<matplotlib.lines.Line2D at 0x1479fa980>]"
      ]
     },
     "execution_count": 111,
     "metadata": {},
     "output_type": "execute_result"
    },
    {
     "data": {
      "text/plain": [
       "[<matplotlib.lines.Line2D at 0x1479fb280>]"
      ]
     },
     "execution_count": 111,
     "metadata": {},
     "output_type": "execute_result"
    },
    {
     "data": {
      "text/plain": [
       "Text(0.5, 1.0, '重庆')"
      ]
     },
     "execution_count": 111,
     "metadata": {},
     "output_type": "execute_result"
    },
    {
     "data": {
      "text/plain": [
       "Text(0, 0.5, '人均专利申请量')"
      ]
     },
     "execution_count": 111,
     "metadata": {},
     "output_type": "execute_result"
    },
    {
     "data": {
      "text/plain": [
       "Text(0.5, 0, '年份')"
      ]
     },
     "execution_count": 111,
     "metadata": {},
     "output_type": "execute_result"
    },
    {
     "data": {
      "text/plain": [
       "[<matplotlib.lines.Line2D at 0x1479fabf0>]"
      ]
     },
     "execution_count": 111,
     "metadata": {},
     "output_type": "execute_result"
    },
    {
     "data": {
      "text/plain": [
       "[<matplotlib.lines.Line2D at 0x1479fb9a0>]"
      ]
     },
     "execution_count": 111,
     "metadata": {},
     "output_type": "execute_result"
    },
    {
     "data": {
      "text/plain": [
       "Text(0.5, 1.0, '重庆')"
      ]
     },
     "execution_count": 111,
     "metadata": {},
     "output_type": "execute_result"
    },
    {
     "data": {
      "text/plain": [
       "Text(0, 0.5, '人均专利授权量')"
      ]
     },
     "execution_count": 111,
     "metadata": {},
     "output_type": "execute_result"
    },
    {
     "data": {
      "text/plain": [
       "Text(0.5, 0, '年份')"
      ]
     },
     "execution_count": 111,
     "metadata": {},
     "output_type": "execute_result"
    },
    {
     "data": {
      "text/plain": [
       "[<matplotlib.lines.Line2D at 0x1479fb940>]"
      ]
     },
     "execution_count": 111,
     "metadata": {},
     "output_type": "execute_result"
    },
    {
     "data": {
      "text/plain": [
       "[<matplotlib.lines.Line2D at 0x1479fb550>]"
      ]
     },
     "execution_count": 111,
     "metadata": {},
     "output_type": "execute_result"
    },
    {
     "data": {
      "text/plain": [
       "Text(0.5, 1.0, '四川')"
      ]
     },
     "execution_count": 111,
     "metadata": {},
     "output_type": "execute_result"
    },
    {
     "data": {
      "text/plain": [
       "Text(0, 0.5, '人均专利申请量')"
      ]
     },
     "execution_count": 111,
     "metadata": {},
     "output_type": "execute_result"
    },
    {
     "data": {
      "text/plain": [
       "Text(0.5, 0, '年份')"
      ]
     },
     "execution_count": 111,
     "metadata": {},
     "output_type": "execute_result"
    },
    {
     "data": {
      "text/plain": [
       "[<matplotlib.lines.Line2D at 0x1479fbb50>]"
      ]
     },
     "execution_count": 111,
     "metadata": {},
     "output_type": "execute_result"
    },
    {
     "data": {
      "text/plain": [
       "[<matplotlib.lines.Line2D at 0x147a405e0>]"
      ]
     },
     "execution_count": 111,
     "metadata": {},
     "output_type": "execute_result"
    },
    {
     "data": {
      "text/plain": [
       "Text(0.5, 1.0, '四川')"
      ]
     },
     "execution_count": 111,
     "metadata": {},
     "output_type": "execute_result"
    },
    {
     "data": {
      "text/plain": [
       "Text(0, 0.5, '人均专利授权量')"
      ]
     },
     "execution_count": 111,
     "metadata": {},
     "output_type": "execute_result"
    },
    {
     "data": {
      "text/plain": [
       "Text(0.5, 0, '年份')"
      ]
     },
     "execution_count": 111,
     "metadata": {},
     "output_type": "execute_result"
    },
    {
     "data": {
      "text/plain": [
       "[<matplotlib.lines.Line2D at 0x147a401f0>]"
      ]
     },
     "execution_count": 111,
     "metadata": {},
     "output_type": "execute_result"
    },
    {
     "data": {
      "text/plain": [
       "[<matplotlib.lines.Line2D at 0x147a40a60>]"
      ]
     },
     "execution_count": 111,
     "metadata": {},
     "output_type": "execute_result"
    },
    {
     "data": {
      "text/plain": [
       "Text(0.5, 1.0, '贵州')"
      ]
     },
     "execution_count": 111,
     "metadata": {},
     "output_type": "execute_result"
    },
    {
     "data": {
      "text/plain": [
       "Text(0, 0.5, '人均专利申请量')"
      ]
     },
     "execution_count": 111,
     "metadata": {},
     "output_type": "execute_result"
    },
    {
     "data": {
      "text/plain": [
       "Text(0.5, 0, '年份')"
      ]
     },
     "execution_count": 111,
     "metadata": {},
     "output_type": "execute_result"
    },
    {
     "data": {
      "text/plain": [
       "[<matplotlib.lines.Line2D at 0x147a40af0>]"
      ]
     },
     "execution_count": 111,
     "metadata": {},
     "output_type": "execute_result"
    },
    {
     "data": {
      "text/plain": [
       "[<matplotlib.lines.Line2D at 0x147a410c0>]"
      ]
     },
     "execution_count": 111,
     "metadata": {},
     "output_type": "execute_result"
    },
    {
     "data": {
      "text/plain": [
       "Text(0.5, 1.0, '贵州')"
      ]
     },
     "execution_count": 111,
     "metadata": {},
     "output_type": "execute_result"
    },
    {
     "data": {
      "text/plain": [
       "Text(0, 0.5, '人均专利授权量')"
      ]
     },
     "execution_count": 111,
     "metadata": {},
     "output_type": "execute_result"
    },
    {
     "data": {
      "text/plain": [
       "Text(0.5, 0, '年份')"
      ]
     },
     "execution_count": 111,
     "metadata": {},
     "output_type": "execute_result"
    },
    {
     "data": {
      "text/plain": [
       "[<matplotlib.lines.Line2D at 0x147a411e0>]"
      ]
     },
     "execution_count": 111,
     "metadata": {},
     "output_type": "execute_result"
    },
    {
     "data": {
      "text/plain": [
       "[<matplotlib.lines.Line2D at 0x147a416c0>]"
      ]
     },
     "execution_count": 111,
     "metadata": {},
     "output_type": "execute_result"
    },
    {
     "data": {
      "text/plain": [
       "Text(0.5, 1.0, '云南')"
      ]
     },
     "execution_count": 111,
     "metadata": {},
     "output_type": "execute_result"
    },
    {
     "data": {
      "text/plain": [
       "Text(0, 0.5, '人均专利申请量')"
      ]
     },
     "execution_count": 111,
     "metadata": {},
     "output_type": "execute_result"
    },
    {
     "data": {
      "text/plain": [
       "Text(0.5, 0, '年份')"
      ]
     },
     "execution_count": 111,
     "metadata": {},
     "output_type": "execute_result"
    },
    {
     "data": {
      "text/plain": [
       "[<matplotlib.lines.Line2D at 0x147a41b40>]"
      ]
     },
     "execution_count": 111,
     "metadata": {},
     "output_type": "execute_result"
    },
    {
     "data": {
      "text/plain": [
       "[<matplotlib.lines.Line2D at 0x147a41c00>]"
      ]
     },
     "execution_count": 111,
     "metadata": {},
     "output_type": "execute_result"
    },
    {
     "data": {
      "text/plain": [
       "Text(0.5, 1.0, '云南')"
      ]
     },
     "execution_count": 111,
     "metadata": {},
     "output_type": "execute_result"
    },
    {
     "data": {
      "text/plain": [
       "Text(0, 0.5, '人均专利授权量')"
      ]
     },
     "execution_count": 111,
     "metadata": {},
     "output_type": "execute_result"
    },
    {
     "data": {
      "text/plain": [
       "Text(0.5, 0, '年份')"
      ]
     },
     "execution_count": 111,
     "metadata": {},
     "output_type": "execute_result"
    },
    {
     "data": {
      "text/plain": [
       "[<matplotlib.lines.Line2D at 0x147a41db0>]"
      ]
     },
     "execution_count": 111,
     "metadata": {},
     "output_type": "execute_result"
    },
    {
     "data": {
      "text/plain": [
       "[<matplotlib.lines.Line2D at 0x147a422c0>]"
      ]
     },
     "execution_count": 111,
     "metadata": {},
     "output_type": "execute_result"
    },
    {
     "data": {
      "text/plain": [
       "Text(0.5, 1.0, '西藏')"
      ]
     },
     "execution_count": 111,
     "metadata": {},
     "output_type": "execute_result"
    },
    {
     "data": {
      "text/plain": [
       "Text(0, 0.5, '人均专利申请量')"
      ]
     },
     "execution_count": 111,
     "metadata": {},
     "output_type": "execute_result"
    },
    {
     "data": {
      "text/plain": [
       "Text(0.5, 0, '年份')"
      ]
     },
     "execution_count": 111,
     "metadata": {},
     "output_type": "execute_result"
    },
    {
     "data": {
      "text/plain": [
       "[<matplotlib.lines.Line2D at 0x147a423b0>]"
      ]
     },
     "execution_count": 111,
     "metadata": {},
     "output_type": "execute_result"
    },
    {
     "data": {
      "text/plain": [
       "[<matplotlib.lines.Line2D at 0x147a428c0>]"
      ]
     },
     "execution_count": 111,
     "metadata": {},
     "output_type": "execute_result"
    },
    {
     "data": {
      "text/plain": [
       "Text(0.5, 1.0, '西藏')"
      ]
     },
     "execution_count": 111,
     "metadata": {},
     "output_type": "execute_result"
    },
    {
     "data": {
      "text/plain": [
       "Text(0, 0.5, '人均专利授权量')"
      ]
     },
     "execution_count": 111,
     "metadata": {},
     "output_type": "execute_result"
    },
    {
     "data": {
      "text/plain": [
       "Text(0.5, 0, '年份')"
      ]
     },
     "execution_count": 111,
     "metadata": {},
     "output_type": "execute_result"
    },
    {
     "data": {
      "text/plain": [
       "[<matplotlib.lines.Line2D at 0x147a42620>]"
      ]
     },
     "execution_count": 111,
     "metadata": {},
     "output_type": "execute_result"
    },
    {
     "data": {
      "text/plain": [
       "[<matplotlib.lines.Line2D at 0x147a42ef0>]"
      ]
     },
     "execution_count": 111,
     "metadata": {},
     "output_type": "execute_result"
    },
    {
     "data": {
      "text/plain": [
       "Text(0.5, 1.0, '陕西')"
      ]
     },
     "execution_count": 111,
     "metadata": {},
     "output_type": "execute_result"
    },
    {
     "data": {
      "text/plain": [
       "Text(0, 0.5, '人均专利申请量')"
      ]
     },
     "execution_count": 111,
     "metadata": {},
     "output_type": "execute_result"
    },
    {
     "data": {
      "text/plain": [
       "Text(0.5, 0, '年份')"
      ]
     },
     "execution_count": 111,
     "metadata": {},
     "output_type": "execute_result"
    },
    {
     "data": {
      "text/plain": [
       "[<matplotlib.lines.Line2D at 0x147a42b30>]"
      ]
     },
     "execution_count": 111,
     "metadata": {},
     "output_type": "execute_result"
    },
    {
     "data": {
      "text/plain": [
       "[<matplotlib.lines.Line2D at 0x147a434f0>]"
      ]
     },
     "execution_count": 111,
     "metadata": {},
     "output_type": "execute_result"
    },
    {
     "data": {
      "text/plain": [
       "Text(0.5, 1.0, '陕西')"
      ]
     },
     "execution_count": 111,
     "metadata": {},
     "output_type": "execute_result"
    },
    {
     "data": {
      "text/plain": [
       "Text(0, 0.5, '人均专利授权量')"
      ]
     },
     "execution_count": 111,
     "metadata": {},
     "output_type": "execute_result"
    },
    {
     "data": {
      "text/plain": [
       "Text(0.5, 0, '年份')"
      ]
     },
     "execution_count": 111,
     "metadata": {},
     "output_type": "execute_result"
    },
    {
     "data": {
      "text/plain": [
       "[<matplotlib.lines.Line2D at 0x147a43610>]"
      ]
     },
     "execution_count": 111,
     "metadata": {},
     "output_type": "execute_result"
    },
    {
     "data": {
      "text/plain": [
       "[<matplotlib.lines.Line2D at 0x147a43af0>]"
      ]
     },
     "execution_count": 111,
     "metadata": {},
     "output_type": "execute_result"
    },
    {
     "data": {
      "text/plain": [
       "Text(0.5, 1.0, '甘肃')"
      ]
     },
     "execution_count": 111,
     "metadata": {},
     "output_type": "execute_result"
    },
    {
     "data": {
      "text/plain": [
       "Text(0, 0.5, '人均专利申请量')"
      ]
     },
     "execution_count": 111,
     "metadata": {},
     "output_type": "execute_result"
    },
    {
     "data": {
      "text/plain": [
       "Text(0.5, 0, '年份')"
      ]
     },
     "execution_count": 111,
     "metadata": {},
     "output_type": "execute_result"
    },
    {
     "data": {
      "text/plain": [
       "[<matplotlib.lines.Line2D at 0x147a438b0>]"
      ]
     },
     "execution_count": 111,
     "metadata": {},
     "output_type": "execute_result"
    },
    {
     "data": {
      "text/plain": [
       "[<matplotlib.lines.Line2D at 0x147a6c160>]"
      ]
     },
     "execution_count": 111,
     "metadata": {},
     "output_type": "execute_result"
    },
    {
     "data": {
      "text/plain": [
       "Text(0.5, 1.0, '甘肃')"
      ]
     },
     "execution_count": 111,
     "metadata": {},
     "output_type": "execute_result"
    },
    {
     "data": {
      "text/plain": [
       "Text(0, 0.5, '人均专利授权量')"
      ]
     },
     "execution_count": 111,
     "metadata": {},
     "output_type": "execute_result"
    },
    {
     "data": {
      "text/plain": [
       "Text(0.5, 0, '年份')"
      ]
     },
     "execution_count": 111,
     "metadata": {},
     "output_type": "execute_result"
    },
    {
     "data": {
      "text/plain": [
       "[<matplotlib.lines.Line2D at 0x147a6c5e0>]"
      ]
     },
     "execution_count": 111,
     "metadata": {},
     "output_type": "execute_result"
    },
    {
     "data": {
      "text/plain": [
       "[<matplotlib.lines.Line2D at 0x147a6c730>]"
      ]
     },
     "execution_count": 111,
     "metadata": {},
     "output_type": "execute_result"
    },
    {
     "data": {
      "text/plain": [
       "Text(0.5, 1.0, '青海')"
      ]
     },
     "execution_count": 111,
     "metadata": {},
     "output_type": "execute_result"
    },
    {
     "data": {
      "text/plain": [
       "Text(0, 0.5, '人均专利申请量')"
      ]
     },
     "execution_count": 111,
     "metadata": {},
     "output_type": "execute_result"
    },
    {
     "data": {
      "text/plain": [
       "Text(0.5, 0, '年份')"
      ]
     },
     "execution_count": 111,
     "metadata": {},
     "output_type": "execute_result"
    },
    {
     "data": {
      "text/plain": [
       "[<matplotlib.lines.Line2D at 0x147a6c9d0>]"
      ]
     },
     "execution_count": 111,
     "metadata": {},
     "output_type": "execute_result"
    },
    {
     "data": {
      "text/plain": [
       "[<matplotlib.lines.Line2D at 0x147a6cd30>]"
      ]
     },
     "execution_count": 111,
     "metadata": {},
     "output_type": "execute_result"
    },
    {
     "data": {
      "text/plain": [
       "Text(0.5, 1.0, '青海')"
      ]
     },
     "execution_count": 111,
     "metadata": {},
     "output_type": "execute_result"
    },
    {
     "data": {
      "text/plain": [
       "Text(0, 0.5, '人均专利授权量')"
      ]
     },
     "execution_count": 111,
     "metadata": {},
     "output_type": "execute_result"
    },
    {
     "data": {
      "text/plain": [
       "Text(0.5, 0, '年份')"
      ]
     },
     "execution_count": 111,
     "metadata": {},
     "output_type": "execute_result"
    },
    {
     "data": {
      "text/plain": [
       "[<matplotlib.lines.Line2D at 0x147a6ca30>]"
      ]
     },
     "execution_count": 111,
     "metadata": {},
     "output_type": "execute_result"
    },
    {
     "data": {
      "text/plain": [
       "[<matplotlib.lines.Line2D at 0x147a6d330>]"
      ]
     },
     "execution_count": 111,
     "metadata": {},
     "output_type": "execute_result"
    },
    {
     "data": {
      "text/plain": [
       "Text(0.5, 1.0, '宁夏')"
      ]
     },
     "execution_count": 111,
     "metadata": {},
     "output_type": "execute_result"
    },
    {
     "data": {
      "text/plain": [
       "Text(0, 0.5, '人均专利申请量')"
      ]
     },
     "execution_count": 111,
     "metadata": {},
     "output_type": "execute_result"
    },
    {
     "data": {
      "text/plain": [
       "Text(0.5, 0, '年份')"
      ]
     },
     "execution_count": 111,
     "metadata": {},
     "output_type": "execute_result"
    },
    {
     "data": {
      "text/plain": [
       "[<matplotlib.lines.Line2D at 0x147a6d420>]"
      ]
     },
     "execution_count": 111,
     "metadata": {},
     "output_type": "execute_result"
    },
    {
     "data": {
      "text/plain": [
       "[<matplotlib.lines.Line2D at 0x147a6da50>]"
      ]
     },
     "execution_count": 111,
     "metadata": {},
     "output_type": "execute_result"
    },
    {
     "data": {
      "text/plain": [
       "Text(0.5, 1.0, '宁夏')"
      ]
     },
     "execution_count": 111,
     "metadata": {},
     "output_type": "execute_result"
    },
    {
     "data": {
      "text/plain": [
       "Text(0, 0.5, '人均专利授权量')"
      ]
     },
     "execution_count": 111,
     "metadata": {},
     "output_type": "execute_result"
    },
    {
     "data": {
      "text/plain": [
       "Text(0.5, 0, '年份')"
      ]
     },
     "execution_count": 111,
     "metadata": {},
     "output_type": "execute_result"
    },
    {
     "data": {
      "text/plain": [
       "[<matplotlib.lines.Line2D at 0x147a6db70>]"
      ]
     },
     "execution_count": 111,
     "metadata": {},
     "output_type": "execute_result"
    },
    {
     "data": {
      "text/plain": [
       "[<matplotlib.lines.Line2D at 0x147a6e050>]"
      ]
     },
     "execution_count": 111,
     "metadata": {},
     "output_type": "execute_result"
    },
    {
     "data": {
      "text/plain": [
       "Text(0.5, 1.0, '新疆')"
      ]
     },
     "execution_count": 111,
     "metadata": {},
     "output_type": "execute_result"
    },
    {
     "data": {
      "text/plain": [
       "Text(0, 0.5, '人均专利申请量')"
      ]
     },
     "execution_count": 111,
     "metadata": {},
     "output_type": "execute_result"
    },
    {
     "data": {
      "text/plain": [
       "Text(0.5, 0, '年份')"
      ]
     },
     "execution_count": 111,
     "metadata": {},
     "output_type": "execute_result"
    },
    {
     "data": {
      "text/plain": [
       "[<matplotlib.lines.Line2D at 0x147a6dc30>]"
      ]
     },
     "execution_count": 111,
     "metadata": {},
     "output_type": "execute_result"
    },
    {
     "data": {
      "text/plain": [
       "[<matplotlib.lines.Line2D at 0x147a6e2f0>]"
      ]
     },
     "execution_count": 111,
     "metadata": {},
     "output_type": "execute_result"
    },
    {
     "data": {
      "text/plain": [
       "Text(0.5, 1.0, '新疆')"
      ]
     },
     "execution_count": 111,
     "metadata": {},
     "output_type": "execute_result"
    },
    {
     "data": {
      "text/plain": [
       "Text(0, 0.5, '人均专利授权量')"
      ]
     },
     "execution_count": 111,
     "metadata": {},
     "output_type": "execute_result"
    },
    {
     "data": {
      "text/plain": [
       "Text(0.5, 0, '年份')"
      ]
     },
     "execution_count": 111,
     "metadata": {},
     "output_type": "execute_result"
    },
    {
     "data": {
      "text/plain": [
       "[<matplotlib.lines.Line2D at 0x147a6e200>]"
      ]
     },
     "execution_count": 111,
     "metadata": {},
     "output_type": "execute_result"
    },
    {
     "data": {
      "text/plain": [
       "[<matplotlib.lines.Line2D at 0x147a6eb30>]"
      ]
     },
     "execution_count": 111,
     "metadata": {},
     "output_type": "execute_result"
    },
    {
     "data": {
      "text/plain": [
       "Text(0.5, 1.0, '海南')"
      ]
     },
     "execution_count": 111,
     "metadata": {},
     "output_type": "execute_result"
    },
    {
     "data": {
      "text/plain": [
       "Text(0, 0.5, '人均专利申请量')"
      ]
     },
     "execution_count": 111,
     "metadata": {},
     "output_type": "execute_result"
    },
    {
     "data": {
      "text/plain": [
       "Text(0.5, 0, '年份')"
      ]
     },
     "execution_count": 111,
     "metadata": {},
     "output_type": "execute_result"
    },
    {
     "data": {
      "text/plain": [
       "[<matplotlib.lines.Line2D at 0x147a6e560>]"
      ]
     },
     "execution_count": 111,
     "metadata": {},
     "output_type": "execute_result"
    },
    {
     "data": {
      "text/plain": [
       "[<matplotlib.lines.Line2D at 0x147a6f190>]"
      ]
     },
     "execution_count": 111,
     "metadata": {},
     "output_type": "execute_result"
    },
    {
     "data": {
      "text/plain": [
       "Text(0.5, 1.0, '海南')"
      ]
     },
     "execution_count": 111,
     "metadata": {},
     "output_type": "execute_result"
    },
    {
     "data": {
      "text/plain": [
       "Text(0, 0.5, '人均专利授权量')"
      ]
     },
     "execution_count": 111,
     "metadata": {},
     "output_type": "execute_result"
    },
    {
     "data": {
      "text/plain": [
       "Text(0.5, 0, '年份')"
      ]
     },
     "execution_count": 111,
     "metadata": {},
     "output_type": "execute_result"
    }
   ],
   "source": [
    "fig, axes = plt.subplots(len(df['地区'].unique()), 2)  \n",
    "#########对每个省的人均专利申请量和人均专利授权量做时间序列预测\n",
    "for i in range(len(df['地区'].unique())):\n",
    "    ts = df[df['地区']==df['地区'].unique()[i]][['年份','人均专利申请量']]\n",
    "    ts = ts[ts['年份']<=2016].set_index('年份')\n",
    "    # 移动平均数预测\n",
    "    moving_avg = ts.rolling(2).mean()\n",
    "    axes[i, 0].plot(ts)\n",
    "    axes[i, 0].plot(moving_avg, color='red')\n",
    "    axes[i, 0].set_title(df['地区'].unique()[i])\n",
    "    axes[i, 0].set_ylabel('人均专利申请量')\n",
    "    axes[i, 0].set_xlabel('年份')\n",
    "    \n",
    "    ts = df[df['地区']==df['地区'].unique()[i]][['年份','人均专利授权量']]\n",
    "    ts = ts[ts['年份']<=2016].set_index('年份')\n",
    "    # 移动平均数预测\n",
    "    moving_avg = ts.rolling(2).mean()\n",
    "    axes[i, 1].plot(ts)\n",
    "    axes[i, 1].plot(moving_avg, color='red')\n",
    "    axes[i, 1].set_title(df['地区'].unique()[i])\n",
    "    axes[i, 1].set_ylabel('人均专利授权量')\n",
    "    axes[i, 1].set_xlabel('年份')\n",
    "plt.subplots_adjust(wspace=0.2,hspace=1)\n",
    "# plt.show()"
   ]
  },
  {
   "cell_type": "code",
   "execution_count": 11,
   "id": "d7010508",
   "metadata": {
    "scrolled": true
   },
   "outputs": [
    {
     "name": "stdout",
     "output_type": "stream",
     "text": [
      "人均专利申请量\n"
     ]
    },
    {
     "data": {
      "text/plain": [
       "KstestResult(statistic=0.5000114117257246, pvalue=3.417968258725865e-72, statistic_location=2.8604954367666234e-05, statistic_sign=-1)"
      ]
     },
     "execution_count": 11,
     "metadata": {},
     "output_type": "execute_result"
    },
    {
     "data": {
      "text/plain": [
       "ShapiroResult(statistic=0.7110093832015991, pvalue=8.776971192217191e-23)"
      ]
     },
     "execution_count": 11,
     "metadata": {},
     "output_type": "execute_result"
    },
    {
     "name": "stdout",
     "output_type": "stream",
     "text": [
      "人均专利授权量\n"
     ]
    },
    {
     "data": {
      "text/plain": [
       "KstestResult(statistic=0.5000012824658855, pvalue=3.442540903393123e-72, statistic_location=3.214665249734325e-06, statistic_sign=-1)"
      ]
     },
     "execution_count": 11,
     "metadata": {},
     "output_type": "execute_result"
    },
    {
     "data": {
      "text/plain": [
       "ShapiroResult(statistic=0.7566370964050293, pvalue=4.339860840999496e-21)"
      ]
     },
     "execution_count": 11,
     "metadata": {},
     "output_type": "execute_result"
    },
    {
     "name": "stdout",
     "output_type": "stream",
     "text": [
      "知识产权保护指数\n"
     ]
    },
    {
     "data": {
      "text/plain": [
       "KstestResult(statistic=0.8148452302269105, pvalue=3.0513038237080986e-225, statistic_location=1.5602676858676698, statistic_sign=-1)"
      ]
     },
     "execution_count": 11,
     "metadata": {},
     "output_type": "execute_result"
    },
    {
     "data": {
      "text/plain": [
       "ShapiroResult(statistic=0.8412384390830994, pvalue=3.507352668959979e-17)"
      ]
     },
     "execution_count": 11,
     "metadata": {},
     "output_type": "execute_result"
    },
    {
     "name": "stdout",
     "output_type": "stream",
     "text": [
      "人口数\n"
     ]
    },
    {
     "data": {
      "text/plain": [
       "KstestResult(statistic=1.0, pvalue=0.0, statistic_location=2960000, statistic_sign=-1)"
      ]
     },
     "execution_count": 11,
     "metadata": {},
     "output_type": "execute_result"
    },
    {
     "data": {
      "text/plain": [
       "ShapiroResult(statistic=0.7220759391784668, pvalue=2.159996579110226e-22)"
      ]
     },
     "execution_count": 11,
     "metadata": {},
     "output_type": "execute_result"
    },
    {
     "name": "stdout",
     "output_type": "stream",
     "text": [
      "全社会固定资产投入\n"
     ]
    },
    {
     "data": {
      "text/plain": [
       "KstestResult(statistic=1.0, pvalue=0.0, statistic_location=309900000000.0, statistic_sign=-1)"
      ]
     },
     "execution_count": 11,
     "metadata": {},
     "output_type": "execute_result"
    },
    {
     "data": {
      "text/plain": [
       "ShapiroResult(statistic=0.8763298392295837, pvalue=4.262329082889947e-15)"
      ]
     },
     "execution_count": 11,
     "metadata": {},
     "output_type": "execute_result"
    },
    {
     "name": "stdout",
     "output_type": "stream",
     "text": [
      "GDP\n"
     ]
    },
    {
     "data": {
      "text/plain": [
       "KstestResult(statistic=1.0, pvalue=0.0, statistic_location=441360000000.0, statistic_sign=-1)"
      ]
     },
     "execution_count": 11,
     "metadata": {},
     "output_type": "execute_result"
    },
    {
     "data": {
      "text/plain": [
       "ShapiroResult(statistic=0.8398809432983398, pvalue=2.960171370267171e-17)"
      ]
     },
     "execution_count": 11,
     "metadata": {},
     "output_type": "execute_result"
    },
    {
     "name": "stdout",
     "output_type": "stream",
     "text": [
      "经济开放度\n"
     ]
    },
    {
     "data": {
      "text/plain": [
       "KstestResult(statistic=0.501239356936397, pvalue=1.4322069031562945e-72, statistic_location=0.011192738494361474, statistic_sign=-1)"
      ]
     },
     "execution_count": 11,
     "metadata": {},
     "output_type": "execute_result"
    },
    {
     "data": {
      "text/plain": [
       "ShapiroResult(statistic=0.7262271642684937, pvalue=3.049454541577959e-22)"
      ]
     },
     "execution_count": 11,
     "metadata": {},
     "output_type": "execute_result"
    },
    {
     "name": "stdout",
     "output_type": "stream",
     "text": [
      "外商直接投资（FDI）\n"
     ]
    },
    {
     "data": {
      "text/plain": [
       "KstestResult(statistic=1.0, pvalue=0.0, statistic_location=3485227824.0, statistic_sign=-1)"
      ]
     },
     "execution_count": 11,
     "metadata": {},
     "output_type": "execute_result"
    },
    {
     "data": {
      "text/plain": [
       "ShapiroResult(statistic=0.5714941024780273, pvalue=6.236845250242116e-27)"
      ]
     },
     "execution_count": 11,
     "metadata": {},
     "output_type": "execute_result"
    }
   ],
   "source": [
    "########3.正态性检验\n",
    "print('人均专利申请量')\n",
    "stats.kstest(df['人均专利申请量'], 'norm')\n",
    "stats.shapiro(df['人均专利申请量'])\n",
    "print('人均专利授权量')\n",
    "stats.kstest(df['人均专利授权量'], 'norm')\n",
    "stats.shapiro(df['人均专利授权量'])\n",
    "print('知识产权保护指数')\n",
    "stats.kstest(df['知识产权保护指数'], 'norm')\n",
    "stats.shapiro(df['知识产权保护指数'])\n",
    "print('人口数')\n",
    "stats.kstest(df['人口数'], 'norm')\n",
    "stats.shapiro(df['人口数'])\n",
    "print('全社会固定资产投入')\n",
    "stats.kstest(df['全社会固定资产投入'], 'norm')\n",
    "stats.shapiro(df['全社会固定资产投入'])\n",
    "print('GDP')\n",
    "stats.kstest(df['GDP'], 'norm')\n",
    "stats.shapiro(df['GDP'])\n",
    "print('经济开放度')\n",
    "stats.kstest(df['经济开放度'], 'norm')\n",
    "stats.shapiro(df['经济开放度'])\n",
    "print('外商直接投资（FDI）')\n",
    "stats.kstest(df['外商直接投资'], 'norm')\n",
    "stats.shapiro(df['外商直接投资'])"
   ]
  },
  {
   "cell_type": "code",
   "execution_count": null,
   "id": "7651c759",
   "metadata": {},
   "outputs": [],
   "source": []
  },
  {
   "cell_type": "code",
   "execution_count": 112,
   "id": "045c1242",
   "metadata": {},
   "outputs": [
    {
     "data": {
      "text/plain": [
       "WilcoxonResult(statistic=np.float64(2391.0), pvalue=np.float64(6.674955645644779e-11))"
      ]
     },
     "execution_count": 112,
     "metadata": {},
     "output_type": "execute_result"
    },
    {
     "data": {
      "text/plain": [
       "WilcoxonResult(statistic=np.float64(1323.0), pvalue=np.float64(3.2910960585949876e-17))"
      ]
     },
     "execution_count": 112,
     "metadata": {},
     "output_type": "execute_result"
    },
    {
     "data": {
      "text/plain": [
       "WilcoxonResult(statistic=np.float64(3227.0), pvalue=np.float64(4.796220446346376e-07))"
      ]
     },
     "execution_count": 112,
     "metadata": {},
     "output_type": "execute_result"
    },
    {
     "data": {
      "text/plain": [
       "WilcoxonResult(statistic=np.float64(1491.0), pvalue=np.float64(4.0984671256988656e-16))"
      ]
     },
     "execution_count": 112,
     "metadata": {},
     "output_type": "execute_result"
    },
    {
     "data": {
      "text/plain": [
       "WilcoxonResult(statistic=np.float64(214.0), pvalue=np.float64(2.075145688607781e-25))"
      ]
     },
     "execution_count": 112,
     "metadata": {},
     "output_type": "execute_result"
    },
    {
     "data": {
      "text/plain": [
       "WilcoxonResult(statistic=np.float64(0.0), pvalue=np.float64(3.4702765500573005e-27))"
      ]
     },
     "execution_count": 112,
     "metadata": {},
     "output_type": "execute_result"
    },
    {
     "data": {
      "text/plain": [
       "WilcoxonResult(statistic=np.float64(2148.0), pvalue=np.float64(3.357174891815121e-12))"
      ]
     },
     "execution_count": 112,
     "metadata": {},
     "output_type": "execute_result"
    },
    {
     "data": {
      "text/plain": [
       "WilcoxonResult(statistic=np.float64(838.0), pvalue=np.float64(1.3759184706187782e-20))"
      ]
     },
     "execution_count": 112,
     "metadata": {},
     "output_type": "execute_result"
    }
   ],
   "source": [
    "#####非参数检验：wilcoxons检验\n",
    "x,y = df[df['GDP_哑变量']==0]['人均专利申请量'],df[df['GDP_哑变量']==1]['人均专利申请量']\n",
    "stats.wilcoxon(x, y, alternative='two-sided')\n",
    "\n",
    "x,y  = df[df['GDP_哑变量']==0]['人均专利授权量'],df[df['GDP_哑变量']==1]['人均专利授权量']\n",
    "stats.wilcoxon(x, y, alternative='two-sided')\n",
    "\n",
    "x,y = df[df['GDP_哑变量']==0]['知识产权保护指数'],df[df['GDP_哑变量']==1]['知识产权保护指数']\n",
    "stats.wilcoxon(x, y, alternative='two-sided')\n",
    "\n",
    "x,y = df[df['GDP_哑变量']==0]['人口数'],df[df['GDP_哑变量']==1]['人口数']\n",
    "stats.wilcoxon(x, y, alternative='two-sided')\n",
    "\n",
    "x,y = df[df['GDP_哑变量']==0]['全社会固定资产投入'],df[df['GDP_哑变量']==1]['全社会固定资产投入']\n",
    "stats.wilcoxon(x, y, alternative='two-sided')\n",
    "\n",
    "x,y = df[df['GDP_哑变量']==0]['GDP'],df[df['GDP_哑变量']==1]['GDP']\n",
    "stats.wilcoxon(x, y, alternative='two-sided')\n",
    "\n",
    "x,y = df[df['GDP_哑变量']==0]['经济开放度'],df[df['GDP_哑变量']==1]['经济开放度']\n",
    "stats.wilcoxon(x, y, alternative='two-sided')\n",
    "\n",
    "x,y = df[df['GDP_哑变量']==0]['外商直接投资'],df[df['GDP_哑变量']==1]['外商直接投资']\n",
    "stats.wilcoxon(x, y, alternative='two-sided')"
   ]
  },
  {
   "cell_type": "code",
   "execution_count": 113,
   "id": "f84b36e7",
   "metadata": {},
   "outputs": [
    {
     "data": {
      "text/html": [
       "<div>\n",
       "<style scoped>\n",
       "    .dataframe tbody tr th:only-of-type {\n",
       "        vertical-align: middle;\n",
       "    }\n",
       "\n",
       "    .dataframe tbody tr th {\n",
       "        vertical-align: top;\n",
       "    }\n",
       "\n",
       "    .dataframe thead th {\n",
       "        text-align: right;\n",
       "    }\n",
       "</style>\n",
       "<table border=\"1\" class=\"dataframe\">\n",
       "  <thead>\n",
       "    <tr style=\"text-align: right;\">\n",
       "      <th></th>\n",
       "      <th>人均专利申请量</th>\n",
       "      <th>人均专利授权量</th>\n",
       "      <th>知识产权保护指数</th>\n",
       "      <th>人口数</th>\n",
       "      <th>全社会固定资产投入</th>\n",
       "      <th>GDP</th>\n",
       "      <th>经济开放度</th>\n",
       "      <th>外商直接投资</th>\n",
       "    </tr>\n",
       "  </thead>\n",
       "  <tbody>\n",
       "    <tr>\n",
       "      <th>人均专利申请量</th>\n",
       "      <td>1.000000</td>\n",
       "      <td>0.714627</td>\n",
       "      <td>0.303315</td>\n",
       "      <td>-0.064853</td>\n",
       "      <td>0.187391</td>\n",
       "      <td>0.355724</td>\n",
       "      <td>0.513224</td>\n",
       "      <td>0.415787</td>\n",
       "    </tr>\n",
       "    <tr>\n",
       "      <th>人均专利授权量</th>\n",
       "      <td>0.714627</td>\n",
       "      <td>1.000000</td>\n",
       "      <td>0.382600</td>\n",
       "      <td>-0.032662</td>\n",
       "      <td>0.344562</td>\n",
       "      <td>0.515039</td>\n",
       "      <td>0.485591</td>\n",
       "      <td>0.603745</td>\n",
       "    </tr>\n",
       "    <tr>\n",
       "      <th>知识产权保护指数</th>\n",
       "      <td>0.303315</td>\n",
       "      <td>0.382600</td>\n",
       "      <td>1.000000</td>\n",
       "      <td>0.085366</td>\n",
       "      <td>0.360659</td>\n",
       "      <td>0.326476</td>\n",
       "      <td>0.193066</td>\n",
       "      <td>0.253490</td>\n",
       "    </tr>\n",
       "    <tr>\n",
       "      <th>人口数</th>\n",
       "      <td>-0.064853</td>\n",
       "      <td>-0.032662</td>\n",
       "      <td>0.085366</td>\n",
       "      <td>1.000000</td>\n",
       "      <td>0.504826</td>\n",
       "      <td>0.538631</td>\n",
       "      <td>0.166842</td>\n",
       "      <td>0.288288</td>\n",
       "    </tr>\n",
       "    <tr>\n",
       "      <th>全社会固定资产投入</th>\n",
       "      <td>0.187391</td>\n",
       "      <td>0.344562</td>\n",
       "      <td>0.360659</td>\n",
       "      <td>0.504826</td>\n",
       "      <td>1.000000</td>\n",
       "      <td>0.870867</td>\n",
       "      <td>0.127457</td>\n",
       "      <td>0.441621</td>\n",
       "    </tr>\n",
       "    <tr>\n",
       "      <th>GDP</th>\n",
       "      <td>0.355724</td>\n",
       "      <td>0.515039</td>\n",
       "      <td>0.326476</td>\n",
       "      <td>0.538631</td>\n",
       "      <td>0.870867</td>\n",
       "      <td>1.000000</td>\n",
       "      <td>0.475377</td>\n",
       "      <td>0.745311</td>\n",
       "    </tr>\n",
       "    <tr>\n",
       "      <th>经济开放度</th>\n",
       "      <td>0.513224</td>\n",
       "      <td>0.485591</td>\n",
       "      <td>0.193066</td>\n",
       "      <td>0.166842</td>\n",
       "      <td>0.127457</td>\n",
       "      <td>0.475377</td>\n",
       "      <td>1.000000</td>\n",
       "      <td>0.671079</td>\n",
       "    </tr>\n",
       "    <tr>\n",
       "      <th>外商直接投资</th>\n",
       "      <td>0.415787</td>\n",
       "      <td>0.603745</td>\n",
       "      <td>0.253490</td>\n",
       "      <td>0.288288</td>\n",
       "      <td>0.441621</td>\n",
       "      <td>0.745311</td>\n",
       "      <td>0.671079</td>\n",
       "      <td>1.000000</td>\n",
       "    </tr>\n",
       "  </tbody>\n",
       "</table>\n",
       "</div>"
      ],
      "text/plain": [
       "            人均专利申请量   人均专利授权量  知识产权保护指数       人口数  全社会固定资产投入       GDP  \\\n",
       "人均专利申请量    1.000000  0.714627  0.303315 -0.064853   0.187391  0.355724   \n",
       "人均专利授权量    0.714627  1.000000  0.382600 -0.032662   0.344562  0.515039   \n",
       "知识产权保护指数   0.303315  0.382600  1.000000  0.085366   0.360659  0.326476   \n",
       "人口数       -0.064853 -0.032662  0.085366  1.000000   0.504826  0.538631   \n",
       "全社会固定资产投入  0.187391  0.344562  0.360659  0.504826   1.000000  0.870867   \n",
       "GDP        0.355724  0.515039  0.326476  0.538631   0.870867  1.000000   \n",
       "经济开放度      0.513224  0.485591  0.193066  0.166842   0.127457  0.475377   \n",
       "外商直接投资     0.415787  0.603745  0.253490  0.288288   0.441621  0.745311   \n",
       "\n",
       "              经济开放度    外商直接投资  \n",
       "人均专利申请量    0.513224  0.415787  \n",
       "人均专利授权量    0.485591  0.603745  \n",
       "知识产权保护指数   0.193066  0.253490  \n",
       "人口数        0.166842  0.288288  \n",
       "全社会固定资产投入  0.127457  0.441621  \n",
       "GDP        0.475377  0.745311  \n",
       "经济开放度      1.000000  0.671079  \n",
       "外商直接投资     0.671079  1.000000  "
      ]
     },
     "execution_count": 113,
     "metadata": {},
     "output_type": "execute_result"
    }
   ],
   "source": [
    "### 5.\t相关性分析\n",
    "df[['人均专利申请量','人均专利授权量','知识产权保护指数','人口数','全社会固定资产投入','GDP','经济开放度','外商直接投资']].corr()"
   ]
  },
  {
   "cell_type": "code",
   "execution_count": 115,
   "id": "386ac145",
   "metadata": {},
   "outputs": [
    {
     "data": {
      "text/html": [
       "<table class=\"simpletable\">\n",
       "<caption>OLS Regression Results</caption>\n",
       "<tr>\n",
       "  <th>Dep. Variable:</th>         <td>人均专利申请量</td>     <th>  R-squared:         </th> <td>   0.361</td>\n",
       "</tr>\n",
       "<tr>\n",
       "  <th>Model:</th>                   <td>OLS</td>       <th>  Adj. R-squared:    </th> <td>   0.351</td>\n",
       "</tr>\n",
       "<tr>\n",
       "  <th>Method:</th>             <td>Least Squares</td>  <th>  F-statistic:       </th> <td>   34.36</td>\n",
       "</tr>\n",
       "<tr>\n",
       "  <th>Date:</th>             <td>Sat, 26 Apr 2025</td> <th>  Prob (F-statistic):</th> <td>8.48e-28</td>\n",
       "</tr>\n",
       "<tr>\n",
       "  <th>Time:</th>                 <td>20:10:27</td>     <th>  Log-Likelihood:    </th> <td>  1077.9</td>\n",
       "</tr>\n",
       "<tr>\n",
       "  <th>No. Observations:</th>      <td>   310</td>      <th>  AIC:               </th> <td>  -2144.</td>\n",
       "</tr>\n",
       "<tr>\n",
       "  <th>Df Residuals:</th>          <td>   304</td>      <th>  BIC:               </th> <td>  -2121.</td>\n",
       "</tr>\n",
       "<tr>\n",
       "  <th>Df Model:</th>              <td>     5</td>      <th>                     </th>     <td> </td>   \n",
       "</tr>\n",
       "<tr>\n",
       "  <th>Covariance Type:</th>      <td>nonrobust</td>    <th>                     </th>     <td> </td>   \n",
       "</tr>\n",
       "</table>\n",
       "<table class=\"simpletable\">\n",
       "<tr>\n",
       "      <td></td>         <th>coef</th>     <th>std err</th>      <th>t</th>      <th>P>|t|</th>  <th>[0.025</th>    <th>0.975]</th>  \n",
       "</tr>\n",
       "<tr>\n",
       "  <th>Intercept</th> <td>   -0.0006</td> <td>    0.002</td> <td>   -0.417</td> <td> 0.677</td> <td>   -0.004</td> <td>    0.002</td>\n",
       "</tr>\n",
       "<tr>\n",
       "  <th>知识产权保护指数</th>  <td>    0.0017</td> <td>    0.001</td> <td>    3.118</td> <td> 0.002</td> <td>    0.001</td> <td>    0.003</td>\n",
       "</tr>\n",
       "<tr>\n",
       "  <th>全社会固定资产投入</th> <td> 1.549e-16</td> <td> 5.51e-17</td> <td>    2.813</td> <td> 0.005</td> <td> 4.65e-17</td> <td> 2.63e-16</td>\n",
       "</tr>\n",
       "<tr>\n",
       "  <th>人口数</th>       <td>-6.861e-11</td> <td> 1.41e-11</td> <td>   -4.861</td> <td> 0.000</td> <td>-9.64e-11</td> <td>-4.08e-11</td>\n",
       "</tr>\n",
       "<tr>\n",
       "  <th>经济开放度</th>     <td>    0.0149</td> <td>    0.002</td> <td>    7.126</td> <td> 0.000</td> <td>    0.011</td> <td>    0.019</td>\n",
       "</tr>\n",
       "<tr>\n",
       "  <th>外商直接投资</th>    <td> 4.033e-16</td> <td> 4.41e-16</td> <td>    0.915</td> <td> 0.361</td> <td>-4.64e-16</td> <td> 1.27e-15</td>\n",
       "</tr>\n",
       "</table>\n",
       "<table class=\"simpletable\">\n",
       "<tr>\n",
       "  <th>Omnibus:</th>       <td>159.333</td> <th>  Durbin-Watson:     </th> <td>   1.194</td> \n",
       "</tr>\n",
       "<tr>\n",
       "  <th>Prob(Omnibus):</th> <td> 0.000</td>  <th>  Jarque-Bera (JB):  </th> <td> 811.991</td> \n",
       "</tr>\n",
       "<tr>\n",
       "  <th>Skew:</th>          <td> 2.166</td>  <th>  Prob(JB):          </th> <td>4.77e-177</td>\n",
       "</tr>\n",
       "<tr>\n",
       "  <th>Kurtosis:</th>      <td> 9.640</td>  <th>  Cond. No.          </th> <td>8.34e+13</td> \n",
       "</tr>\n",
       "</table><br/><br/>Notes:<br/>[1] Standard Errors assume that the covariance matrix of the errors is correctly specified.<br/>[2] The condition number is large, 8.34e+13. This might indicate that there are<br/>strong multicollinearity or other numerical problems."
      ],
      "text/latex": [
       "\\begin{center}\n",
       "\\begin{tabular}{lclc}\n",
       "\\toprule\n",
       "\\textbf{Dep. Variable:}    &     人均专利申请量      & \\textbf{  R-squared:         } &     0.361   \\\\\n",
       "\\textbf{Model:}            &       OLS        & \\textbf{  Adj. R-squared:    } &     0.351   \\\\\n",
       "\\textbf{Method:}           &  Least Squares   & \\textbf{  F-statistic:       } &     34.36   \\\\\n",
       "\\textbf{Date:}             & Sat, 26 Apr 2025 & \\textbf{  Prob (F-statistic):} &  8.48e-28   \\\\\n",
       "\\textbf{Time:}             &     20:10:27     & \\textbf{  Log-Likelihood:    } &    1077.9   \\\\\n",
       "\\textbf{No. Observations:} &         310      & \\textbf{  AIC:               } &    -2144.   \\\\\n",
       "\\textbf{Df Residuals:}     &         304      & \\textbf{  BIC:               } &    -2121.   \\\\\n",
       "\\textbf{Df Model:}         &           5      & \\textbf{                     } &             \\\\\n",
       "\\textbf{Covariance Type:}  &    nonrobust     & \\textbf{                     } &             \\\\\n",
       "\\bottomrule\n",
       "\\end{tabular}\n",
       "\\begin{tabular}{lcccccc}\n",
       "                   & \\textbf{coef} & \\textbf{std err} & \\textbf{t} & \\textbf{P$> |$t$|$} & \\textbf{[0.025} & \\textbf{0.975]}  \\\\\n",
       "\\midrule\n",
       "\\textbf{Intercept} &      -0.0006  &        0.002     &    -0.417  &         0.677        &       -0.004    &        0.002     \\\\\n",
       "\\textbf{知识产权保护指数}  &       0.0017  &        0.001     &     3.118  &         0.002        &        0.001    &        0.003     \\\\\n",
       "\\textbf{全社会固定资产投入} &    1.549e-16  &     5.51e-17     &     2.813  &         0.005        &     4.65e-17    &     2.63e-16     \\\\\n",
       "\\textbf{人口数}       &   -6.861e-11  &     1.41e-11     &    -4.861  &         0.000        &    -9.64e-11    &    -4.08e-11     \\\\\n",
       "\\textbf{经济开放度}     &       0.0149  &        0.002     &     7.126  &         0.000        &        0.011    &        0.019     \\\\\n",
       "\\textbf{外商直接投资}    &    4.033e-16  &     4.41e-16     &     0.915  &         0.361        &    -4.64e-16    &     1.27e-15     \\\\\n",
       "\\bottomrule\n",
       "\\end{tabular}\n",
       "\\begin{tabular}{lclc}\n",
       "\\textbf{Omnibus:}       & 159.333 & \\textbf{  Durbin-Watson:     } &     1.194  \\\\\n",
       "\\textbf{Prob(Omnibus):} &   0.000 & \\textbf{  Jarque-Bera (JB):  } &   811.991  \\\\\n",
       "\\textbf{Skew:}          &   2.166 & \\textbf{  Prob(JB):          } & 4.77e-177  \\\\\n",
       "\\textbf{Kurtosis:}      &   9.640 & \\textbf{  Cond. No.          } &  8.34e+13  \\\\\n",
       "\\bottomrule\n",
       "\\end{tabular}\n",
       "%\\caption{OLS Regression Results}\n",
       "\\end{center}\n",
       "\n",
       "Notes: \\newline\n",
       " [1] Standard Errors assume that the covariance matrix of the errors is correctly specified. \\newline\n",
       " [2] The condition number is large, 8.34e+13. This might indicate that there are \\newline\n",
       " strong multicollinearity or other numerical problems."
      ],
      "text/plain": [
       "<class 'statsmodels.iolib.summary.Summary'>\n",
       "\"\"\"\n",
       "                            OLS Regression Results                            \n",
       "==============================================================================\n",
       "Dep. Variable:                人均专利申请量   R-squared:                       0.361\n",
       "Model:                            OLS   Adj. R-squared:                  0.351\n",
       "Method:                 Least Squares   F-statistic:                     34.36\n",
       "Date:                Sat, 26 Apr 2025   Prob (F-statistic):           8.48e-28\n",
       "Time:                        20:10:27   Log-Likelihood:                 1077.9\n",
       "No. Observations:                 310   AIC:                            -2144.\n",
       "Df Residuals:                     304   BIC:                            -2121.\n",
       "Df Model:                           5                                         \n",
       "Covariance Type:            nonrobust                                         \n",
       "==============================================================================\n",
       "                 coef    std err          t      P>|t|      [0.025      0.975]\n",
       "------------------------------------------------------------------------------\n",
       "Intercept     -0.0006      0.002     -0.417      0.677      -0.004       0.002\n",
       "知识产权保护指数       0.0017      0.001      3.118      0.002       0.001       0.003\n",
       "全社会固定资产投入   1.549e-16   5.51e-17      2.813      0.005    4.65e-17    2.63e-16\n",
       "人口数        -6.861e-11   1.41e-11     -4.861      0.000   -9.64e-11   -4.08e-11\n",
       "经济开放度          0.0149      0.002      7.126      0.000       0.011       0.019\n",
       "外商直接投资      4.033e-16   4.41e-16      0.915      0.361   -4.64e-16    1.27e-15\n",
       "==============================================================================\n",
       "Omnibus:                      159.333   Durbin-Watson:                   1.194\n",
       "Prob(Omnibus):                  0.000   Jarque-Bera (JB):              811.991\n",
       "Skew:                           2.166   Prob(JB):                    4.77e-177\n",
       "Kurtosis:                       9.640   Cond. No.                     8.34e+13\n",
       "==============================================================================\n",
       "\n",
       "Notes:\n",
       "[1] Standard Errors assume that the covariance matrix of the errors is correctly specified.\n",
       "[2] The condition number is large, 8.34e+13. This might indicate that there are\n",
       "strong multicollinearity or other numerical problems.\n",
       "\"\"\""
      ]
     },
     "execution_count": 115,
     "metadata": {},
     "output_type": "execute_result"
    },
    {
     "data": {
      "text/html": [
       "<table class=\"simpletable\">\n",
       "<caption>OLS Regression Results</caption>\n",
       "<tr>\n",
       "  <th>Dep. Variable:</th>         <td>人均专利授权量</td>     <th>  R-squared:         </th> <td>   0.506</td>\n",
       "</tr>\n",
       "<tr>\n",
       "  <th>Model:</th>                   <td>OLS</td>       <th>  Adj. R-squared:    </th> <td>   0.497</td>\n",
       "</tr>\n",
       "<tr>\n",
       "  <th>Method:</th>             <td>Least Squares</td>  <th>  F-statistic:       </th> <td>   62.18</td>\n",
       "</tr>\n",
       "<tr>\n",
       "  <th>Date:</th>             <td>Sat, 26 Apr 2025</td> <th>  Prob (F-statistic):</th> <td>1.64e-44</td>\n",
       "</tr>\n",
       "<tr>\n",
       "  <th>Time:</th>                 <td>20:10:27</td>     <th>  Log-Likelihood:    </th> <td>  1768.9</td>\n",
       "</tr>\n",
       "<tr>\n",
       "  <th>No. Observations:</th>      <td>   310</td>      <th>  AIC:               </th> <td>  -3526.</td>\n",
       "</tr>\n",
       "<tr>\n",
       "  <th>Df Residuals:</th>          <td>   304</td>      <th>  BIC:               </th> <td>  -3503.</td>\n",
       "</tr>\n",
       "<tr>\n",
       "  <th>Df Model:</th>              <td>     5</td>      <th>                     </th>     <td> </td>   \n",
       "</tr>\n",
       "<tr>\n",
       "  <th>Covariance Type:</th>      <td>nonrobust</td>    <th>                     </th>     <td> </td>   \n",
       "</tr>\n",
       "</table>\n",
       "<table class=\"simpletable\">\n",
       "<tr>\n",
       "      <td></td>         <th>coef</th>     <th>std err</th>      <th>t</th>      <th>P>|t|</th>  <th>[0.025</th>    <th>0.975]</th>  \n",
       "</tr>\n",
       "<tr>\n",
       "  <th>Intercept</th> <td>-7.897e-05</td> <td>    0.000</td> <td>   -0.477</td> <td> 0.634</td> <td>   -0.000</td> <td>    0.000</td>\n",
       "</tr>\n",
       "<tr>\n",
       "  <th>知识产权保护指数</th>  <td>    0.0002</td> <td> 5.81e-05</td> <td>    4.155</td> <td> 0.000</td> <td>    0.000</td> <td>    0.000</td>\n",
       "</tr>\n",
       "<tr>\n",
       "  <th>全社会固定资产投入</th> <td> 2.467e-17</td> <td> 5.93e-18</td> <td>    4.162</td> <td> 0.000</td> <td>  1.3e-17</td> <td> 3.63e-17</td>\n",
       "</tr>\n",
       "<tr>\n",
       "  <th>人口数</th>       <td>-1.012e-11</td> <td> 1.52e-12</td> <td>   -6.661</td> <td> 0.000</td> <td>-1.31e-11</td> <td>-7.13e-12</td>\n",
       "</tr>\n",
       "<tr>\n",
       "  <th>经济开放度</th>     <td>    0.0008</td> <td>    0.000</td> <td>    3.405</td> <td> 0.001</td> <td>    0.000</td> <td>    0.001</td>\n",
       "</tr>\n",
       "<tr>\n",
       "  <th>外商直接投资</th>    <td> 3.184e-16</td> <td> 4.74e-17</td> <td>    6.711</td> <td> 0.000</td> <td> 2.25e-16</td> <td> 4.12e-16</td>\n",
       "</tr>\n",
       "</table>\n",
       "<table class=\"simpletable\">\n",
       "<tr>\n",
       "  <th>Omnibus:</th>       <td>175.359</td> <th>  Durbin-Watson:     </th> <td>   1.761</td> \n",
       "</tr>\n",
       "<tr>\n",
       "  <th>Prob(Omnibus):</th> <td> 0.000</td>  <th>  Jarque-Bera (JB):  </th> <td> 975.776</td> \n",
       "</tr>\n",
       "<tr>\n",
       "  <th>Skew:</th>          <td> 2.403</td>  <th>  Prob(JB):          </th> <td>1.30e-212</td>\n",
       "</tr>\n",
       "<tr>\n",
       "  <th>Kurtosis:</th>      <td>10.242</td>  <th>  Cond. No.          </th> <td>8.34e+13</td> \n",
       "</tr>\n",
       "</table><br/><br/>Notes:<br/>[1] Standard Errors assume that the covariance matrix of the errors is correctly specified.<br/>[2] The condition number is large, 8.34e+13. This might indicate that there are<br/>strong multicollinearity or other numerical problems."
      ],
      "text/latex": [
       "\\begin{center}\n",
       "\\begin{tabular}{lclc}\n",
       "\\toprule\n",
       "\\textbf{Dep. Variable:}    &     人均专利授权量      & \\textbf{  R-squared:         } &     0.506   \\\\\n",
       "\\textbf{Model:}            &       OLS        & \\textbf{  Adj. R-squared:    } &     0.497   \\\\\n",
       "\\textbf{Method:}           &  Least Squares   & \\textbf{  F-statistic:       } &     62.18   \\\\\n",
       "\\textbf{Date:}             & Sat, 26 Apr 2025 & \\textbf{  Prob (F-statistic):} &  1.64e-44   \\\\\n",
       "\\textbf{Time:}             &     20:10:27     & \\textbf{  Log-Likelihood:    } &    1768.9   \\\\\n",
       "\\textbf{No. Observations:} &         310      & \\textbf{  AIC:               } &    -3526.   \\\\\n",
       "\\textbf{Df Residuals:}     &         304      & \\textbf{  BIC:               } &    -3503.   \\\\\n",
       "\\textbf{Df Model:}         &           5      & \\textbf{                     } &             \\\\\n",
       "\\textbf{Covariance Type:}  &    nonrobust     & \\textbf{                     } &             \\\\\n",
       "\\bottomrule\n",
       "\\end{tabular}\n",
       "\\begin{tabular}{lcccccc}\n",
       "                   & \\textbf{coef} & \\textbf{std err} & \\textbf{t} & \\textbf{P$> |$t$|$} & \\textbf{[0.025} & \\textbf{0.975]}  \\\\\n",
       "\\midrule\n",
       "\\textbf{Intercept} &   -7.897e-05  &        0.000     &    -0.477  &         0.634        &       -0.000    &        0.000     \\\\\n",
       "\\textbf{知识产权保护指数}  &       0.0002  &     5.81e-05     &     4.155  &         0.000        &        0.000    &        0.000     \\\\\n",
       "\\textbf{全社会固定资产投入} &    2.467e-17  &     5.93e-18     &     4.162  &         0.000        &      1.3e-17    &     3.63e-17     \\\\\n",
       "\\textbf{人口数}       &   -1.012e-11  &     1.52e-12     &    -6.661  &         0.000        &    -1.31e-11    &    -7.13e-12     \\\\\n",
       "\\textbf{经济开放度}     &       0.0008  &        0.000     &     3.405  &         0.001        &        0.000    &        0.001     \\\\\n",
       "\\textbf{外商直接投资}    &    3.184e-16  &     4.74e-17     &     6.711  &         0.000        &     2.25e-16    &     4.12e-16     \\\\\n",
       "\\bottomrule\n",
       "\\end{tabular}\n",
       "\\begin{tabular}{lclc}\n",
       "\\textbf{Omnibus:}       & 175.359 & \\textbf{  Durbin-Watson:     } &     1.761  \\\\\n",
       "\\textbf{Prob(Omnibus):} &   0.000 & \\textbf{  Jarque-Bera (JB):  } &   975.776  \\\\\n",
       "\\textbf{Skew:}          &   2.403 & \\textbf{  Prob(JB):          } & 1.30e-212  \\\\\n",
       "\\textbf{Kurtosis:}      &  10.242 & \\textbf{  Cond. No.          } &  8.34e+13  \\\\\n",
       "\\bottomrule\n",
       "\\end{tabular}\n",
       "%\\caption{OLS Regression Results}\n",
       "\\end{center}\n",
       "\n",
       "Notes: \\newline\n",
       " [1] Standard Errors assume that the covariance matrix of the errors is correctly specified. \\newline\n",
       " [2] The condition number is large, 8.34e+13. This might indicate that there are \\newline\n",
       " strong multicollinearity or other numerical problems."
      ],
      "text/plain": [
       "<class 'statsmodels.iolib.summary.Summary'>\n",
       "\"\"\"\n",
       "                            OLS Regression Results                            \n",
       "==============================================================================\n",
       "Dep. Variable:                人均专利授权量   R-squared:                       0.506\n",
       "Model:                            OLS   Adj. R-squared:                  0.497\n",
       "Method:                 Least Squares   F-statistic:                     62.18\n",
       "Date:                Sat, 26 Apr 2025   Prob (F-statistic):           1.64e-44\n",
       "Time:                        20:10:27   Log-Likelihood:                 1768.9\n",
       "No. Observations:                 310   AIC:                            -3526.\n",
       "Df Residuals:                     304   BIC:                            -3503.\n",
       "Df Model:                           5                                         \n",
       "Covariance Type:            nonrobust                                         \n",
       "==============================================================================\n",
       "                 coef    std err          t      P>|t|      [0.025      0.975]\n",
       "------------------------------------------------------------------------------\n",
       "Intercept  -7.897e-05      0.000     -0.477      0.634      -0.000       0.000\n",
       "知识产权保护指数       0.0002   5.81e-05      4.155      0.000       0.000       0.000\n",
       "全社会固定资产投入   2.467e-17   5.93e-18      4.162      0.000     1.3e-17    3.63e-17\n",
       "人口数        -1.012e-11   1.52e-12     -6.661      0.000   -1.31e-11   -7.13e-12\n",
       "经济开放度          0.0008      0.000      3.405      0.001       0.000       0.001\n",
       "外商直接投资      3.184e-16   4.74e-17      6.711      0.000    2.25e-16    4.12e-16\n",
       "==============================================================================\n",
       "Omnibus:                      175.359   Durbin-Watson:                   1.761\n",
       "Prob(Omnibus):                  0.000   Jarque-Bera (JB):              975.776\n",
       "Skew:                           2.403   Prob(JB):                    1.30e-212\n",
       "Kurtosis:                      10.242   Cond. No.                     8.34e+13\n",
       "==============================================================================\n",
       "\n",
       "Notes:\n",
       "[1] Standard Errors assume that the covariance matrix of the errors is correctly specified.\n",
       "[2] The condition number is large, 8.34e+13. This might indicate that there are\n",
       "strong multicollinearity or other numerical problems.\n",
       "\"\"\""
      ]
     },
     "execution_count": 115,
     "metadata": {},
     "output_type": "execute_result"
    }
   ],
   "source": [
    "### 6.\t回归分析\n",
    "import statsmodels.formula.api as smf\n",
    "formula1 = \"人均专利申请量 ~ 知识产权保护指数 + 全社会固定资产投入 + 人口数 + 经济开放度 + 知识产权保护指数 + 全社会固定资产投入 + 人口数 + 经济开放度 + 外商直接投资\"\n",
    "formula2 = \"人均专利授权量 ~ 知识产权保护指数 + 全社会固定资产投入 + 人口数 + 经济开放度 + 知识产权保护指数 + 全社会固定资产投入 + 人口数 + 经济开放度 + 外商直接投资\"\n",
    "smf.ols(formula1, data=df).fit().summary()\n",
    "smf.ols(formula2, data=df).fit().summary()"
   ]
  },
  {
   "cell_type": "code",
   "execution_count": 116,
   "id": "0518b890",
   "metadata": {
    "scrolled": false
   },
   "outputs": [
    {
     "data": {
      "text/html": [
       "<table class=\"simpletable\">\n",
       "<caption>OLS Regression Results</caption>\n",
       "<tr>\n",
       "  <th>Dep. Variable:</th>         <td>人均专利申请量</td>     <th>  R-squared:         </th> <td>   0.411</td>\n",
       "</tr>\n",
       "<tr>\n",
       "  <th>Model:</th>                   <td>OLS</td>       <th>  Adj. R-squared:    </th> <td>   0.391</td>\n",
       "</tr>\n",
       "<tr>\n",
       "  <th>Method:</th>             <td>Least Squares</td>  <th>  F-statistic:       </th> <td>   20.79</td>\n",
       "</tr>\n",
       "<tr>\n",
       "  <th>Date:</th>             <td>Sat, 26 Apr 2025</td> <th>  Prob (F-statistic):</th> <td>1.01e-15</td>\n",
       "</tr>\n",
       "<tr>\n",
       "  <th>Time:</th>                 <td>20:10:30</td>     <th>  Log-Likelihood:    </th> <td>  609.50</td>\n",
       "</tr>\n",
       "<tr>\n",
       "  <th>No. Observations:</th>      <td>   155</td>      <th>  AIC:               </th> <td>  -1207.</td>\n",
       "</tr>\n",
       "<tr>\n",
       "  <th>Df Residuals:</th>          <td>   149</td>      <th>  BIC:               </th> <td>  -1189.</td>\n",
       "</tr>\n",
       "<tr>\n",
       "  <th>Df Model:</th>              <td>     5</td>      <th>                     </th>     <td> </td>   \n",
       "</tr>\n",
       "<tr>\n",
       "  <th>Covariance Type:</th>      <td>nonrobust</td>    <th>                     </th>     <td> </td>   \n",
       "</tr>\n",
       "</table>\n",
       "<table class=\"simpletable\">\n",
       "<tr>\n",
       "      <td></td>         <th>coef</th>     <th>std err</th>      <th>t</th>      <th>P>|t|</th>  <th>[0.025</th>    <th>0.975]</th>  \n",
       "</tr>\n",
       "<tr>\n",
       "  <th>Intercept</th> <td>    0.0008</td> <td>    0.001</td> <td>    0.603</td> <td> 0.547</td> <td>   -0.002</td> <td>    0.003</td>\n",
       "</tr>\n",
       "<tr>\n",
       "  <th>知识产权保护指数</th>  <td>    0.0008</td> <td>    0.000</td> <td>    1.822</td> <td> 0.070</td> <td>-6.61e-05</td> <td>    0.002</td>\n",
       "</tr>\n",
       "<tr>\n",
       "  <th>全社会固定资产投入</th> <td> 5.625e-16</td> <td> 1.17e-16</td> <td>    4.825</td> <td> 0.000</td> <td> 3.32e-16</td> <td> 7.93e-16</td>\n",
       "</tr>\n",
       "<tr>\n",
       "  <th>人口数</th>       <td>-1.222e-10</td> <td>  2.2e-11</td> <td>   -5.564</td> <td> 0.000</td> <td>-1.66e-10</td> <td>-7.88e-11</td>\n",
       "</tr>\n",
       "<tr>\n",
       "  <th>经济开放度</th>     <td>    0.0198</td> <td>    0.004</td> <td>    4.428</td> <td> 0.000</td> <td>    0.011</td> <td>    0.029</td>\n",
       "</tr>\n",
       "<tr>\n",
       "  <th>外商直接投资</th>    <td>-5.751e-15</td> <td> 2.81e-15</td> <td>   -2.048</td> <td> 0.042</td> <td>-1.13e-14</td> <td>-2.02e-16</td>\n",
       "</tr>\n",
       "</table>\n",
       "<table class=\"simpletable\">\n",
       "<tr>\n",
       "  <th>Omnibus:</th>       <td>92.436</td> <th>  Durbin-Watson:     </th> <td>   1.701</td> \n",
       "</tr>\n",
       "<tr>\n",
       "  <th>Prob(Omnibus):</th> <td> 0.000</td> <th>  Jarque-Bera (JB):  </th> <td> 494.413</td> \n",
       "</tr>\n",
       "<tr>\n",
       "  <th>Skew:</th>          <td> 2.209</td> <th>  Prob(JB):          </th> <td>4.36e-108</td>\n",
       "</tr>\n",
       "<tr>\n",
       "  <th>Kurtosis:</th>      <td>10.552</td> <th>  Cond. No.          </th> <td>8.46e+13</td> \n",
       "</tr>\n",
       "</table><br/><br/>Notes:<br/>[1] Standard Errors assume that the covariance matrix of the errors is correctly specified.<br/>[2] The condition number is large, 8.46e+13. This might indicate that there are<br/>strong multicollinearity or other numerical problems."
      ],
      "text/latex": [
       "\\begin{center}\n",
       "\\begin{tabular}{lclc}\n",
       "\\toprule\n",
       "\\textbf{Dep. Variable:}    &     人均专利申请量      & \\textbf{  R-squared:         } &     0.411   \\\\\n",
       "\\textbf{Model:}            &       OLS        & \\textbf{  Adj. R-squared:    } &     0.391   \\\\\n",
       "\\textbf{Method:}           &  Least Squares   & \\textbf{  F-statistic:       } &     20.79   \\\\\n",
       "\\textbf{Date:}             & Sat, 26 Apr 2025 & \\textbf{  Prob (F-statistic):} &  1.01e-15   \\\\\n",
       "\\textbf{Time:}             &     20:10:30     & \\textbf{  Log-Likelihood:    } &    609.50   \\\\\n",
       "\\textbf{No. Observations:} &         155      & \\textbf{  AIC:               } &    -1207.   \\\\\n",
       "\\textbf{Df Residuals:}     &         149      & \\textbf{  BIC:               } &    -1189.   \\\\\n",
       "\\textbf{Df Model:}         &           5      & \\textbf{                     } &             \\\\\n",
       "\\textbf{Covariance Type:}  &    nonrobust     & \\textbf{                     } &             \\\\\n",
       "\\bottomrule\n",
       "\\end{tabular}\n",
       "\\begin{tabular}{lcccccc}\n",
       "                   & \\textbf{coef} & \\textbf{std err} & \\textbf{t} & \\textbf{P$> |$t$|$} & \\textbf{[0.025} & \\textbf{0.975]}  \\\\\n",
       "\\midrule\n",
       "\\textbf{Intercept} &       0.0008  &        0.001     &     0.603  &         0.547        &       -0.002    &        0.003     \\\\\n",
       "\\textbf{知识产权保护指数}  &       0.0008  &        0.000     &     1.822  &         0.070        &    -6.61e-05    &        0.002     \\\\\n",
       "\\textbf{全社会固定资产投入} &    5.625e-16  &     1.17e-16     &     4.825  &         0.000        &     3.32e-16    &     7.93e-16     \\\\\n",
       "\\textbf{人口数}       &   -1.222e-10  &      2.2e-11     &    -5.564  &         0.000        &    -1.66e-10    &    -7.88e-11     \\\\\n",
       "\\textbf{经济开放度}     &       0.0198  &        0.004     &     4.428  &         0.000        &        0.011    &        0.029     \\\\\n",
       "\\textbf{外商直接投资}    &   -5.751e-15  &     2.81e-15     &    -2.048  &         0.042        &    -1.13e-14    &    -2.02e-16     \\\\\n",
       "\\bottomrule\n",
       "\\end{tabular}\n",
       "\\begin{tabular}{lclc}\n",
       "\\textbf{Omnibus:}       & 92.436 & \\textbf{  Durbin-Watson:     } &     1.701  \\\\\n",
       "\\textbf{Prob(Omnibus):} &  0.000 & \\textbf{  Jarque-Bera (JB):  } &   494.413  \\\\\n",
       "\\textbf{Skew:}          &  2.209 & \\textbf{  Prob(JB):          } & 4.36e-108  \\\\\n",
       "\\textbf{Kurtosis:}      & 10.552 & \\textbf{  Cond. No.          } &  8.46e+13  \\\\\n",
       "\\bottomrule\n",
       "\\end{tabular}\n",
       "%\\caption{OLS Regression Results}\n",
       "\\end{center}\n",
       "\n",
       "Notes: \\newline\n",
       " [1] Standard Errors assume that the covariance matrix of the errors is correctly specified. \\newline\n",
       " [2] The condition number is large, 8.46e+13. This might indicate that there are \\newline\n",
       " strong multicollinearity or other numerical problems."
      ],
      "text/plain": [
       "<class 'statsmodels.iolib.summary.Summary'>\n",
       "\"\"\"\n",
       "                            OLS Regression Results                            \n",
       "==============================================================================\n",
       "Dep. Variable:                人均专利申请量   R-squared:                       0.411\n",
       "Model:                            OLS   Adj. R-squared:                  0.391\n",
       "Method:                 Least Squares   F-statistic:                     20.79\n",
       "Date:                Sat, 26 Apr 2025   Prob (F-statistic):           1.01e-15\n",
       "Time:                        20:10:30   Log-Likelihood:                 609.50\n",
       "No. Observations:                 155   AIC:                            -1207.\n",
       "Df Residuals:                     149   BIC:                            -1189.\n",
       "Df Model:                           5                                         \n",
       "Covariance Type:            nonrobust                                         \n",
       "==============================================================================\n",
       "                 coef    std err          t      P>|t|      [0.025      0.975]\n",
       "------------------------------------------------------------------------------\n",
       "Intercept      0.0008      0.001      0.603      0.547      -0.002       0.003\n",
       "知识产权保护指数       0.0008      0.000      1.822      0.070   -6.61e-05       0.002\n",
       "全社会固定资产投入   5.625e-16   1.17e-16      4.825      0.000    3.32e-16    7.93e-16\n",
       "人口数        -1.222e-10    2.2e-11     -5.564      0.000   -1.66e-10   -7.88e-11\n",
       "经济开放度          0.0198      0.004      4.428      0.000       0.011       0.029\n",
       "外商直接投资     -5.751e-15   2.81e-15     -2.048      0.042   -1.13e-14   -2.02e-16\n",
       "==============================================================================\n",
       "Omnibus:                       92.436   Durbin-Watson:                   1.701\n",
       "Prob(Omnibus):                  0.000   Jarque-Bera (JB):              494.413\n",
       "Skew:                           2.209   Prob(JB):                    4.36e-108\n",
       "Kurtosis:                      10.552   Cond. No.                     8.46e+13\n",
       "==============================================================================\n",
       "\n",
       "Notes:\n",
       "[1] Standard Errors assume that the covariance matrix of the errors is correctly specified.\n",
       "[2] The condition number is large, 8.46e+13. This might indicate that there are\n",
       "strong multicollinearity or other numerical problems.\n",
       "\"\"\""
      ]
     },
     "execution_count": 116,
     "metadata": {},
     "output_type": "execute_result"
    },
    {
     "data": {
      "text/html": [
       "<table class=\"simpletable\">\n",
       "<caption>OLS Regression Results</caption>\n",
       "<tr>\n",
       "  <th>Dep. Variable:</th>         <td>人均专利申请量</td>     <th>  R-squared:         </th> <td>   0.300</td>\n",
       "</tr>\n",
       "<tr>\n",
       "  <th>Model:</th>                   <td>OLS</td>       <th>  Adj. R-squared:    </th> <td>   0.277</td>\n",
       "</tr>\n",
       "<tr>\n",
       "  <th>Method:</th>             <td>Least Squares</td>  <th>  F-statistic:       </th> <td>   12.80</td>\n",
       "</tr>\n",
       "<tr>\n",
       "  <th>Date:</th>             <td>Sat, 26 Apr 2025</td> <th>  Prob (F-statistic):</th> <td>2.34e-10</td>\n",
       "</tr>\n",
       "<tr>\n",
       "  <th>Time:</th>                 <td>20:10:30</td>     <th>  Log-Likelihood:    </th> <td>  508.92</td>\n",
       "</tr>\n",
       "<tr>\n",
       "  <th>No. Observations:</th>      <td>   155</td>      <th>  AIC:               </th> <td>  -1006.</td>\n",
       "</tr>\n",
       "<tr>\n",
       "  <th>Df Residuals:</th>          <td>   149</td>      <th>  BIC:               </th> <td>  -987.6</td>\n",
       "</tr>\n",
       "<tr>\n",
       "  <th>Df Model:</th>              <td>     5</td>      <th>                     </th>     <td> </td>   \n",
       "</tr>\n",
       "<tr>\n",
       "  <th>Covariance Type:</th>      <td>nonrobust</td>    <th>                     </th>     <td> </td>   \n",
       "</tr>\n",
       "</table>\n",
       "<table class=\"simpletable\">\n",
       "<tr>\n",
       "      <td></td>         <th>coef</th>     <th>std err</th>      <th>t</th>      <th>P>|t|</th>  <th>[0.025</th>    <th>0.975]</th>  \n",
       "</tr>\n",
       "<tr>\n",
       "  <th>Intercept</th> <td>    0.0004</td> <td>    0.005</td> <td>    0.082</td> <td> 0.935</td> <td>   -0.009</td> <td>    0.010</td>\n",
       "</tr>\n",
       "<tr>\n",
       "  <th>知识产权保护指数</th>  <td>    0.0024</td> <td>    0.001</td> <td>    1.740</td> <td> 0.084</td> <td>   -0.000</td> <td>    0.005</td>\n",
       "</tr>\n",
       "<tr>\n",
       "  <th>全社会固定资产投入</th> <td>-6.574e-19</td> <td> 8.56e-17</td> <td>   -0.008</td> <td> 0.994</td> <td> -1.7e-16</td> <td> 1.69e-16</td>\n",
       "</tr>\n",
       "<tr>\n",
       "  <th>人口数</th>       <td>-5.422e-11</td> <td> 1.98e-11</td> <td>   -2.741</td> <td> 0.007</td> <td>-9.33e-11</td> <td>-1.51e-11</td>\n",
       "</tr>\n",
       "<tr>\n",
       "  <th>经济开放度</th>     <td>    0.0130</td> <td>    0.003</td> <td>    4.176</td> <td> 0.000</td> <td>    0.007</td> <td>    0.019</td>\n",
       "</tr>\n",
       "<tr>\n",
       "  <th>外商直接投资</th>    <td> 5.709e-16</td> <td> 5.83e-16</td> <td>    0.980</td> <td> 0.329</td> <td>-5.81e-16</td> <td> 1.72e-15</td>\n",
       "</tr>\n",
       "</table>\n",
       "<table class=\"simpletable\">\n",
       "<tr>\n",
       "  <th>Omnibus:</th>       <td>58.545</td> <th>  Durbin-Watson:     </th> <td>   0.941</td>\n",
       "</tr>\n",
       "<tr>\n",
       "  <th>Prob(Omnibus):</th> <td> 0.000</td> <th>  Jarque-Bera (JB):  </th> <td> 141.617</td>\n",
       "</tr>\n",
       "<tr>\n",
       "  <th>Skew:</th>          <td> 1.616</td> <th>  Prob(JB):          </th> <td>1.77e-31</td>\n",
       "</tr>\n",
       "<tr>\n",
       "  <th>Kurtosis:</th>      <td> 6.388</td> <th>  Cond. No.          </th> <td>1.54e+14</td>\n",
       "</tr>\n",
       "</table><br/><br/>Notes:<br/>[1] Standard Errors assume that the covariance matrix of the errors is correctly specified.<br/>[2] The condition number is large, 1.54e+14. This might indicate that there are<br/>strong multicollinearity or other numerical problems."
      ],
      "text/latex": [
       "\\begin{center}\n",
       "\\begin{tabular}{lclc}\n",
       "\\toprule\n",
       "\\textbf{Dep. Variable:}    &     人均专利申请量      & \\textbf{  R-squared:         } &     0.300   \\\\\n",
       "\\textbf{Model:}            &       OLS        & \\textbf{  Adj. R-squared:    } &     0.277   \\\\\n",
       "\\textbf{Method:}           &  Least Squares   & \\textbf{  F-statistic:       } &     12.80   \\\\\n",
       "\\textbf{Date:}             & Sat, 26 Apr 2025 & \\textbf{  Prob (F-statistic):} &  2.34e-10   \\\\\n",
       "\\textbf{Time:}             &     20:10:30     & \\textbf{  Log-Likelihood:    } &    508.92   \\\\\n",
       "\\textbf{No. Observations:} &         155      & \\textbf{  AIC:               } &    -1006.   \\\\\n",
       "\\textbf{Df Residuals:}     &         149      & \\textbf{  BIC:               } &    -987.6   \\\\\n",
       "\\textbf{Df Model:}         &           5      & \\textbf{                     } &             \\\\\n",
       "\\textbf{Covariance Type:}  &    nonrobust     & \\textbf{                     } &             \\\\\n",
       "\\bottomrule\n",
       "\\end{tabular}\n",
       "\\begin{tabular}{lcccccc}\n",
       "                   & \\textbf{coef} & \\textbf{std err} & \\textbf{t} & \\textbf{P$> |$t$|$} & \\textbf{[0.025} & \\textbf{0.975]}  \\\\\n",
       "\\midrule\n",
       "\\textbf{Intercept} &       0.0004  &        0.005     &     0.082  &         0.935        &       -0.009    &        0.010     \\\\\n",
       "\\textbf{知识产权保护指数}  &       0.0024  &        0.001     &     1.740  &         0.084        &       -0.000    &        0.005     \\\\\n",
       "\\textbf{全社会固定资产投入} &   -6.574e-19  &     8.56e-17     &    -0.008  &         0.994        &     -1.7e-16    &     1.69e-16     \\\\\n",
       "\\textbf{人口数}       &   -5.422e-11  &     1.98e-11     &    -2.741  &         0.007        &    -9.33e-11    &    -1.51e-11     \\\\\n",
       "\\textbf{经济开放度}     &       0.0130  &        0.003     &     4.176  &         0.000        &        0.007    &        0.019     \\\\\n",
       "\\textbf{外商直接投资}    &    5.709e-16  &     5.83e-16     &     0.980  &         0.329        &    -5.81e-16    &     1.72e-15     \\\\\n",
       "\\bottomrule\n",
       "\\end{tabular}\n",
       "\\begin{tabular}{lclc}\n",
       "\\textbf{Omnibus:}       & 58.545 & \\textbf{  Durbin-Watson:     } &    0.941  \\\\\n",
       "\\textbf{Prob(Omnibus):} &  0.000 & \\textbf{  Jarque-Bera (JB):  } &  141.617  \\\\\n",
       "\\textbf{Skew:}          &  1.616 & \\textbf{  Prob(JB):          } & 1.77e-31  \\\\\n",
       "\\textbf{Kurtosis:}      &  6.388 & \\textbf{  Cond. No.          } & 1.54e+14  \\\\\n",
       "\\bottomrule\n",
       "\\end{tabular}\n",
       "%\\caption{OLS Regression Results}\n",
       "\\end{center}\n",
       "\n",
       "Notes: \\newline\n",
       " [1] Standard Errors assume that the covariance matrix of the errors is correctly specified. \\newline\n",
       " [2] The condition number is large, 1.54e+14. This might indicate that there are \\newline\n",
       " strong multicollinearity or other numerical problems."
      ],
      "text/plain": [
       "<class 'statsmodels.iolib.summary.Summary'>\n",
       "\"\"\"\n",
       "                            OLS Regression Results                            \n",
       "==============================================================================\n",
       "Dep. Variable:                人均专利申请量   R-squared:                       0.300\n",
       "Model:                            OLS   Adj. R-squared:                  0.277\n",
       "Method:                 Least Squares   F-statistic:                     12.80\n",
       "Date:                Sat, 26 Apr 2025   Prob (F-statistic):           2.34e-10\n",
       "Time:                        20:10:30   Log-Likelihood:                 508.92\n",
       "No. Observations:                 155   AIC:                            -1006.\n",
       "Df Residuals:                     149   BIC:                            -987.6\n",
       "Df Model:                           5                                         \n",
       "Covariance Type:            nonrobust                                         \n",
       "==============================================================================\n",
       "                 coef    std err          t      P>|t|      [0.025      0.975]\n",
       "------------------------------------------------------------------------------\n",
       "Intercept      0.0004      0.005      0.082      0.935      -0.009       0.010\n",
       "知识产权保护指数       0.0024      0.001      1.740      0.084      -0.000       0.005\n",
       "全社会固定资产投入  -6.574e-19   8.56e-17     -0.008      0.994    -1.7e-16    1.69e-16\n",
       "人口数        -5.422e-11   1.98e-11     -2.741      0.007   -9.33e-11   -1.51e-11\n",
       "经济开放度          0.0130      0.003      4.176      0.000       0.007       0.019\n",
       "外商直接投资      5.709e-16   5.83e-16      0.980      0.329   -5.81e-16    1.72e-15\n",
       "==============================================================================\n",
       "Omnibus:                       58.545   Durbin-Watson:                   0.941\n",
       "Prob(Omnibus):                  0.000   Jarque-Bera (JB):              141.617\n",
       "Skew:                           1.616   Prob(JB):                     1.77e-31\n",
       "Kurtosis:                       6.388   Cond. No.                     1.54e+14\n",
       "==============================================================================\n",
       "\n",
       "Notes:\n",
       "[1] Standard Errors assume that the covariance matrix of the errors is correctly specified.\n",
       "[2] The condition number is large, 1.54e+14. This might indicate that there are\n",
       "strong multicollinearity or other numerical problems.\n",
       "\"\"\""
      ]
     },
     "execution_count": 116,
     "metadata": {},
     "output_type": "execute_result"
    },
    {
     "data": {
      "text/html": [
       "<table class=\"simpletable\">\n",
       "<caption>OLS Regression Results</caption>\n",
       "<tr>\n",
       "  <th>Dep. Variable:</th>         <td>人均专利授权量</td>     <th>  R-squared:         </th> <td>   0.415</td>\n",
       "</tr>\n",
       "<tr>\n",
       "  <th>Model:</th>                   <td>OLS</td>       <th>  Adj. R-squared:    </th> <td>   0.396</td>\n",
       "</tr>\n",
       "<tr>\n",
       "  <th>Method:</th>             <td>Least Squares</td>  <th>  F-statistic:       </th> <td>   21.15</td>\n",
       "</tr>\n",
       "<tr>\n",
       "  <th>Date:</th>             <td>Sat, 26 Apr 2025</td> <th>  Prob (F-statistic):</th> <td>6.02e-16</td>\n",
       "</tr>\n",
       "<tr>\n",
       "  <th>Time:</th>                 <td>20:10:30</td>     <th>  Log-Likelihood:    </th> <td>  970.02</td>\n",
       "</tr>\n",
       "<tr>\n",
       "  <th>No. Observations:</th>      <td>   155</td>      <th>  AIC:               </th> <td>  -1928.</td>\n",
       "</tr>\n",
       "<tr>\n",
       "  <th>Df Residuals:</th>          <td>   149</td>      <th>  BIC:               </th> <td>  -1910.</td>\n",
       "</tr>\n",
       "<tr>\n",
       "  <th>Df Model:</th>              <td>     5</td>      <th>                     </th>     <td> </td>   \n",
       "</tr>\n",
       "<tr>\n",
       "  <th>Covariance Type:</th>      <td>nonrobust</td>    <th>                     </th>     <td> </td>   \n",
       "</tr>\n",
       "</table>\n",
       "<table class=\"simpletable\">\n",
       "<tr>\n",
       "      <td></td>         <th>coef</th>     <th>std err</th>      <th>t</th>      <th>P>|t|</th>  <th>[0.025</th>    <th>0.975]</th>  \n",
       "</tr>\n",
       "<tr>\n",
       "  <th>Intercept</th> <td>    0.0001</td> <td>    0.000</td> <td>    0.835</td> <td> 0.405</td> <td>   -0.000</td> <td>    0.000</td>\n",
       "</tr>\n",
       "<tr>\n",
       "  <th>知识产权保护指数</th>  <td> 9.588e-05</td> <td> 4.19e-05</td> <td>    2.289</td> <td> 0.023</td> <td> 1.31e-05</td> <td>    0.000</td>\n",
       "</tr>\n",
       "<tr>\n",
       "  <th>全社会固定资产投入</th> <td> 6.119e-17</td> <td> 1.14e-17</td> <td>    5.374</td> <td> 0.000</td> <td> 3.87e-17</td> <td> 8.37e-17</td>\n",
       "</tr>\n",
       "<tr>\n",
       "  <th>人口数</th>       <td>-1.362e-11</td> <td> 2.15e-12</td> <td>   -6.349</td> <td> 0.000</td> <td>-1.79e-11</td> <td>-9.38e-12</td>\n",
       "</tr>\n",
       "<tr>\n",
       "  <th>经济开放度</th>     <td>    0.0012</td> <td>    0.000</td> <td>    2.786</td> <td> 0.006</td> <td>    0.000</td> <td>    0.002</td>\n",
       "</tr>\n",
       "<tr>\n",
       "  <th>外商直接投资</th>    <td>-3.026e-16</td> <td> 2.74e-16</td> <td>   -1.103</td> <td> 0.272</td> <td>-8.45e-16</td> <td> 2.39e-16</td>\n",
       "</tr>\n",
       "</table>\n",
       "<table class=\"simpletable\">\n",
       "<tr>\n",
       "  <th>Omnibus:</th>       <td>101.572</td> <th>  Durbin-Watson:     </th> <td>   1.662</td> \n",
       "</tr>\n",
       "<tr>\n",
       "  <th>Prob(Omnibus):</th> <td> 0.000</td>  <th>  Jarque-Bera (JB):  </th> <td> 616.669</td> \n",
       "</tr>\n",
       "<tr>\n",
       "  <th>Skew:</th>          <td> 2.433</td>  <th>  Prob(JB):          </th> <td>1.24e-134</td>\n",
       "</tr>\n",
       "<tr>\n",
       "  <th>Kurtosis:</th>      <td>11.474</td>  <th>  Cond. No.          </th> <td>8.46e+13</td> \n",
       "</tr>\n",
       "</table><br/><br/>Notes:<br/>[1] Standard Errors assume that the covariance matrix of the errors is correctly specified.<br/>[2] The condition number is large, 8.46e+13. This might indicate that there are<br/>strong multicollinearity or other numerical problems."
      ],
      "text/latex": [
       "\\begin{center}\n",
       "\\begin{tabular}{lclc}\n",
       "\\toprule\n",
       "\\textbf{Dep. Variable:}    &     人均专利授权量      & \\textbf{  R-squared:         } &     0.415   \\\\\n",
       "\\textbf{Model:}            &       OLS        & \\textbf{  Adj. R-squared:    } &     0.396   \\\\\n",
       "\\textbf{Method:}           &  Least Squares   & \\textbf{  F-statistic:       } &     21.15   \\\\\n",
       "\\textbf{Date:}             & Sat, 26 Apr 2025 & \\textbf{  Prob (F-statistic):} &  6.02e-16   \\\\\n",
       "\\textbf{Time:}             &     20:10:30     & \\textbf{  Log-Likelihood:    } &    970.02   \\\\\n",
       "\\textbf{No. Observations:} &         155      & \\textbf{  AIC:               } &    -1928.   \\\\\n",
       "\\textbf{Df Residuals:}     &         149      & \\textbf{  BIC:               } &    -1910.   \\\\\n",
       "\\textbf{Df Model:}         &           5      & \\textbf{                     } &             \\\\\n",
       "\\textbf{Covariance Type:}  &    nonrobust     & \\textbf{                     } &             \\\\\n",
       "\\bottomrule\n",
       "\\end{tabular}\n",
       "\\begin{tabular}{lcccccc}\n",
       "                   & \\textbf{coef} & \\textbf{std err} & \\textbf{t} & \\textbf{P$> |$t$|$} & \\textbf{[0.025} & \\textbf{0.975]}  \\\\\n",
       "\\midrule\n",
       "\\textbf{Intercept} &       0.0001  &        0.000     &     0.835  &         0.405        &       -0.000    &        0.000     \\\\\n",
       "\\textbf{知识产权保护指数}  &    9.588e-05  &     4.19e-05     &     2.289  &         0.023        &     1.31e-05    &        0.000     \\\\\n",
       "\\textbf{全社会固定资产投入} &    6.119e-17  &     1.14e-17     &     5.374  &         0.000        &     3.87e-17    &     8.37e-17     \\\\\n",
       "\\textbf{人口数}       &   -1.362e-11  &     2.15e-12     &    -6.349  &         0.000        &    -1.79e-11    &    -9.38e-12     \\\\\n",
       "\\textbf{经济开放度}     &       0.0012  &        0.000     &     2.786  &         0.006        &        0.000    &        0.002     \\\\\n",
       "\\textbf{外商直接投资}    &   -3.026e-16  &     2.74e-16     &    -1.103  &         0.272        &    -8.45e-16    &     2.39e-16     \\\\\n",
       "\\bottomrule\n",
       "\\end{tabular}\n",
       "\\begin{tabular}{lclc}\n",
       "\\textbf{Omnibus:}       & 101.572 & \\textbf{  Durbin-Watson:     } &     1.662  \\\\\n",
       "\\textbf{Prob(Omnibus):} &   0.000 & \\textbf{  Jarque-Bera (JB):  } &   616.669  \\\\\n",
       "\\textbf{Skew:}          &   2.433 & \\textbf{  Prob(JB):          } & 1.24e-134  \\\\\n",
       "\\textbf{Kurtosis:}      &  11.474 & \\textbf{  Cond. No.          } &  8.46e+13  \\\\\n",
       "\\bottomrule\n",
       "\\end{tabular}\n",
       "%\\caption{OLS Regression Results}\n",
       "\\end{center}\n",
       "\n",
       "Notes: \\newline\n",
       " [1] Standard Errors assume that the covariance matrix of the errors is correctly specified. \\newline\n",
       " [2] The condition number is large, 8.46e+13. This might indicate that there are \\newline\n",
       " strong multicollinearity or other numerical problems."
      ],
      "text/plain": [
       "<class 'statsmodels.iolib.summary.Summary'>\n",
       "\"\"\"\n",
       "                            OLS Regression Results                            \n",
       "==============================================================================\n",
       "Dep. Variable:                人均专利授权量   R-squared:                       0.415\n",
       "Model:                            OLS   Adj. R-squared:                  0.396\n",
       "Method:                 Least Squares   F-statistic:                     21.15\n",
       "Date:                Sat, 26 Apr 2025   Prob (F-statistic):           6.02e-16\n",
       "Time:                        20:10:30   Log-Likelihood:                 970.02\n",
       "No. Observations:                 155   AIC:                            -1928.\n",
       "Df Residuals:                     149   BIC:                            -1910.\n",
       "Df Model:                           5                                         \n",
       "Covariance Type:            nonrobust                                         \n",
       "==============================================================================\n",
       "                 coef    std err          t      P>|t|      [0.025      0.975]\n",
       "------------------------------------------------------------------------------\n",
       "Intercept      0.0001      0.000      0.835      0.405      -0.000       0.000\n",
       "知识产权保护指数    9.588e-05   4.19e-05      2.289      0.023    1.31e-05       0.000\n",
       "全社会固定资产投入   6.119e-17   1.14e-17      5.374      0.000    3.87e-17    8.37e-17\n",
       "人口数        -1.362e-11   2.15e-12     -6.349      0.000   -1.79e-11   -9.38e-12\n",
       "经济开放度          0.0012      0.000      2.786      0.006       0.000       0.002\n",
       "外商直接投资     -3.026e-16   2.74e-16     -1.103      0.272   -8.45e-16    2.39e-16\n",
       "==============================================================================\n",
       "Omnibus:                      101.572   Durbin-Watson:                   1.662\n",
       "Prob(Omnibus):                  0.000   Jarque-Bera (JB):              616.669\n",
       "Skew:                           2.433   Prob(JB):                    1.24e-134\n",
       "Kurtosis:                      11.474   Cond. No.                     8.46e+13\n",
       "==============================================================================\n",
       "\n",
       "Notes:\n",
       "[1] Standard Errors assume that the covariance matrix of the errors is correctly specified.\n",
       "[2] The condition number is large, 8.46e+13. This might indicate that there are\n",
       "strong multicollinearity or other numerical problems.\n",
       "\"\"\""
      ]
     },
     "execution_count": 116,
     "metadata": {},
     "output_type": "execute_result"
    },
    {
     "data": {
      "text/html": [
       "<table class=\"simpletable\">\n",
       "<caption>OLS Regression Results</caption>\n",
       "<tr>\n",
       "  <th>Dep. Variable:</th>         <td>人均专利授权量</td>     <th>  R-squared:         </th> <td>   0.453</td>\n",
       "</tr>\n",
       "<tr>\n",
       "  <th>Model:</th>                   <td>OLS</td>       <th>  Adj. R-squared:    </th> <td>   0.434</td>\n",
       "</tr>\n",
       "<tr>\n",
       "  <th>Method:</th>             <td>Least Squares</td>  <th>  F-statistic:       </th> <td>   24.64</td>\n",
       "</tr>\n",
       "<tr>\n",
       "  <th>Date:</th>             <td>Sat, 26 Apr 2025</td> <th>  Prob (F-statistic):</th> <td>4.94e-18</td>\n",
       "</tr>\n",
       "<tr>\n",
       "  <th>Time:</th>                 <td>20:10:30</td>     <th>  Log-Likelihood:    </th> <td>  855.87</td>\n",
       "</tr>\n",
       "<tr>\n",
       "  <th>No. Observations:</th>      <td>   155</td>      <th>  AIC:               </th> <td>  -1700.</td>\n",
       "</tr>\n",
       "<tr>\n",
       "  <th>Df Residuals:</th>          <td>   149</td>      <th>  BIC:               </th> <td>  -1681.</td>\n",
       "</tr>\n",
       "<tr>\n",
       "  <th>Df Model:</th>              <td>     5</td>      <th>                     </th>     <td> </td>   \n",
       "</tr>\n",
       "<tr>\n",
       "  <th>Covariance Type:</th>      <td>nonrobust</td>    <th>                     </th>     <td> </td>   \n",
       "</tr>\n",
       "</table>\n",
       "<table class=\"simpletable\">\n",
       "<tr>\n",
       "      <td></td>         <th>coef</th>     <th>std err</th>      <th>t</th>      <th>P>|t|</th>  <th>[0.025</th>    <th>0.975]</th>  \n",
       "</tr>\n",
       "<tr>\n",
       "  <th>Intercept</th> <td> 8.676e-05</td> <td>    0.001</td> <td>    0.172</td> <td> 0.863</td> <td>   -0.001</td> <td>    0.001</td>\n",
       "</tr>\n",
       "<tr>\n",
       "  <th>知识产权保护指数</th>  <td>    0.0004</td> <td>    0.000</td> <td>    2.752</td> <td> 0.007</td> <td>    0.000</td> <td>    0.001</td>\n",
       "</tr>\n",
       "<tr>\n",
       "  <th>全社会固定资产投入</th> <td> 5.446e-20</td> <td> 9.13e-18</td> <td>    0.006</td> <td> 0.995</td> <td> -1.8e-17</td> <td> 1.81e-17</td>\n",
       "</tr>\n",
       "<tr>\n",
       "  <th>人口数</th>       <td>-9.299e-12</td> <td> 2.11e-12</td> <td>   -4.409</td> <td> 0.000</td> <td>-1.35e-11</td> <td>-5.13e-12</td>\n",
       "</tr>\n",
       "<tr>\n",
       "  <th>经济开放度</th>     <td>    0.0004</td> <td>    0.000</td> <td>    1.217</td> <td> 0.226</td> <td>   -0.000</td> <td>    0.001</td>\n",
       "</tr>\n",
       "<tr>\n",
       "  <th>外商直接投资</th>    <td> 3.369e-16</td> <td> 6.21e-17</td> <td>    5.423</td> <td> 0.000</td> <td> 2.14e-16</td> <td>  4.6e-16</td>\n",
       "</tr>\n",
       "</table>\n",
       "<table class=\"simpletable\">\n",
       "<tr>\n",
       "  <th>Omnibus:</th>       <td>58.420</td> <th>  Durbin-Watson:     </th> <td>   1.448</td>\n",
       "</tr>\n",
       "<tr>\n",
       "  <th>Prob(Omnibus):</th> <td> 0.000</td> <th>  Jarque-Bera (JB):  </th> <td> 135.846</td>\n",
       "</tr>\n",
       "<tr>\n",
       "  <th>Skew:</th>          <td> 1.640</td> <th>  Prob(JB):          </th> <td>3.17e-30</td>\n",
       "</tr>\n",
       "<tr>\n",
       "  <th>Kurtosis:</th>      <td> 6.206</td> <th>  Cond. No.          </th> <td>1.54e+14</td>\n",
       "</tr>\n",
       "</table><br/><br/>Notes:<br/>[1] Standard Errors assume that the covariance matrix of the errors is correctly specified.<br/>[2] The condition number is large, 1.54e+14. This might indicate that there are<br/>strong multicollinearity or other numerical problems."
      ],
      "text/latex": [
       "\\begin{center}\n",
       "\\begin{tabular}{lclc}\n",
       "\\toprule\n",
       "\\textbf{Dep. Variable:}    &     人均专利授权量      & \\textbf{  R-squared:         } &     0.453   \\\\\n",
       "\\textbf{Model:}            &       OLS        & \\textbf{  Adj. R-squared:    } &     0.434   \\\\\n",
       "\\textbf{Method:}           &  Least Squares   & \\textbf{  F-statistic:       } &     24.64   \\\\\n",
       "\\textbf{Date:}             & Sat, 26 Apr 2025 & \\textbf{  Prob (F-statistic):} &  4.94e-18   \\\\\n",
       "\\textbf{Time:}             &     20:10:30     & \\textbf{  Log-Likelihood:    } &    855.87   \\\\\n",
       "\\textbf{No. Observations:} &         155      & \\textbf{  AIC:               } &    -1700.   \\\\\n",
       "\\textbf{Df Residuals:}     &         149      & \\textbf{  BIC:               } &    -1681.   \\\\\n",
       "\\textbf{Df Model:}         &           5      & \\textbf{                     } &             \\\\\n",
       "\\textbf{Covariance Type:}  &    nonrobust     & \\textbf{                     } &             \\\\\n",
       "\\bottomrule\n",
       "\\end{tabular}\n",
       "\\begin{tabular}{lcccccc}\n",
       "                   & \\textbf{coef} & \\textbf{std err} & \\textbf{t} & \\textbf{P$> |$t$|$} & \\textbf{[0.025} & \\textbf{0.975]}  \\\\\n",
       "\\midrule\n",
       "\\textbf{Intercept} &    8.676e-05  &        0.001     &     0.172  &         0.863        &       -0.001    &        0.001     \\\\\n",
       "\\textbf{知识产权保护指数}  &       0.0004  &        0.000     &     2.752  &         0.007        &        0.000    &        0.001     \\\\\n",
       "\\textbf{全社会固定资产投入} &    5.446e-20  &     9.13e-18     &     0.006  &         0.995        &     -1.8e-17    &     1.81e-17     \\\\\n",
       "\\textbf{人口数}       &   -9.299e-12  &     2.11e-12     &    -4.409  &         0.000        &    -1.35e-11    &    -5.13e-12     \\\\\n",
       "\\textbf{经济开放度}     &       0.0004  &        0.000     &     1.217  &         0.226        &       -0.000    &        0.001     \\\\\n",
       "\\textbf{外商直接投资}    &    3.369e-16  &     6.21e-17     &     5.423  &         0.000        &     2.14e-16    &      4.6e-16     \\\\\n",
       "\\bottomrule\n",
       "\\end{tabular}\n",
       "\\begin{tabular}{lclc}\n",
       "\\textbf{Omnibus:}       & 58.420 & \\textbf{  Durbin-Watson:     } &    1.448  \\\\\n",
       "\\textbf{Prob(Omnibus):} &  0.000 & \\textbf{  Jarque-Bera (JB):  } &  135.846  \\\\\n",
       "\\textbf{Skew:}          &  1.640 & \\textbf{  Prob(JB):          } & 3.17e-30  \\\\\n",
       "\\textbf{Kurtosis:}      &  6.206 & \\textbf{  Cond. No.          } & 1.54e+14  \\\\\n",
       "\\bottomrule\n",
       "\\end{tabular}\n",
       "%\\caption{OLS Regression Results}\n",
       "\\end{center}\n",
       "\n",
       "Notes: \\newline\n",
       " [1] Standard Errors assume that the covariance matrix of the errors is correctly specified. \\newline\n",
       " [2] The condition number is large, 1.54e+14. This might indicate that there are \\newline\n",
       " strong multicollinearity or other numerical problems."
      ],
      "text/plain": [
       "<class 'statsmodels.iolib.summary.Summary'>\n",
       "\"\"\"\n",
       "                            OLS Regression Results                            \n",
       "==============================================================================\n",
       "Dep. Variable:                人均专利授权量   R-squared:                       0.453\n",
       "Model:                            OLS   Adj. R-squared:                  0.434\n",
       "Method:                 Least Squares   F-statistic:                     24.64\n",
       "Date:                Sat, 26 Apr 2025   Prob (F-statistic):           4.94e-18\n",
       "Time:                        20:10:30   Log-Likelihood:                 855.87\n",
       "No. Observations:                 155   AIC:                            -1700.\n",
       "Df Residuals:                     149   BIC:                            -1681.\n",
       "Df Model:                           5                                         \n",
       "Covariance Type:            nonrobust                                         \n",
       "==============================================================================\n",
       "                 coef    std err          t      P>|t|      [0.025      0.975]\n",
       "------------------------------------------------------------------------------\n",
       "Intercept   8.676e-05      0.001      0.172      0.863      -0.001       0.001\n",
       "知识产权保护指数       0.0004      0.000      2.752      0.007       0.000       0.001\n",
       "全社会固定资产投入   5.446e-20   9.13e-18      0.006      0.995    -1.8e-17    1.81e-17\n",
       "人口数        -9.299e-12   2.11e-12     -4.409      0.000   -1.35e-11   -5.13e-12\n",
       "经济开放度          0.0004      0.000      1.217      0.226      -0.000       0.001\n",
       "外商直接投资      3.369e-16   6.21e-17      5.423      0.000    2.14e-16     4.6e-16\n",
       "==============================================================================\n",
       "Omnibus:                       58.420   Durbin-Watson:                   1.448\n",
       "Prob(Omnibus):                  0.000   Jarque-Bera (JB):              135.846\n",
       "Skew:                           1.640   Prob(JB):                     3.17e-30\n",
       "Kurtosis:                       6.206   Cond. No.                     1.54e+14\n",
       "==============================================================================\n",
       "\n",
       "Notes:\n",
       "[1] Standard Errors assume that the covariance matrix of the errors is correctly specified.\n",
       "[2] The condition number is large, 1.54e+14. This might indicate that there are\n",
       "strong multicollinearity or other numerical problems.\n",
       "\"\"\""
      ]
     },
     "execution_count": 116,
     "metadata": {},
     "output_type": "execute_result"
    }
   ],
   "source": [
    "### 根据GDP_哑变量分组进行同上的回归分析。（提示：共四个回归结果）\n",
    "smf.ols(formula1, data=df[df['GDP_哑变量']==0]).fit().summary()\n",
    "smf.ols(formula1, data=df[df['GDP_哑变量']==1]).fit().summary()\n",
    "smf.ols(formula2, data=df[df['GDP_哑变量']==0]).fit().summary()\n",
    "smf.ols(formula2, data=df[df['GDP_哑变量']==1]).fit().summary()"
   ]
  },
  {
   "cell_type": "code",
   "execution_count": null,
   "id": "82fae7f2",
   "metadata": {},
   "outputs": [],
   "source": []
  }
 ],
 "metadata": {
  "kernelspec": {
   "display_name": ".venv",
   "language": "python",
   "name": "python3"
  },
  "language_info": {
   "codemirror_mode": {
    "name": "ipython",
    "version": 3
   },
   "file_extension": ".py",
   "mimetype": "text/x-python",
   "name": "python",
   "nbconvert_exporter": "python",
   "pygments_lexer": "ipython3",
   "version": "3.10.9"
  }
 },
 "nbformat": 4,
 "nbformat_minor": 5
}
